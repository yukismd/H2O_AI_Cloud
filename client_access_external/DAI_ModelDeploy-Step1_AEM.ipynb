{
 "cells": [
  {
   "cell_type": "markdown",
   "id": "acc6d214",
   "metadata": {},
   "source": [
    "# Driverless AIモデルのMLOpsデプロイメント - Step1（AI Engine Manager接続）\n",
    "- AI Engine Managerより、Driverless AIへ接続し、Projectの作成とExperimentの登録を実施"
   ]
  },
  {
   "cell_type": "markdown",
   "id": "18a1dadf",
   "metadata": {},
   "source": [
    "参考ワークフロー：https://docs.h2o.ai/mlops/py-client/py-client-examples/dai"
   ]
  },
  {
   "cell_type": "code",
   "execution_count": 9,
   "id": "5f7f3874",
   "metadata": {},
   "outputs": [
    {
     "name": "stdout",
     "output_type": "stream",
     "text": [
      "1.1.1\n",
      "0.6.0\n"
     ]
    }
   ],
   "source": [
    "import getpass\n",
    "\n",
    "import h2o_authn \n",
    "print(h2o_authn.__version__)\n",
    "\n",
    "import h2o_engine_manager\n",
    "print(h2o_engine_manager.__version__)"
   ]
  },
  {
   "cell_type": "code",
   "execution_count": 5,
   "id": "911e759f",
   "metadata": {},
   "outputs": [],
   "source": [
    "#import driverlessai\n",
    "#driverlessai.__version__"
   ]
  },
  {
   "cell_type": "markdown",
   "id": "cd77d37b",
   "metadata": {},
   "source": [
    "## Driverless AIで作成済みExperimentをProject登録"
   ]
  },
  {
   "cell_type": "markdown",
   "id": "cb42b101",
   "metadata": {},
   "source": [
    "AI Engine ManagerとDriverless AIへの接続に関して：　https://github.com/yukismd/H2O_AI_Cloud/blob/main/client_access_external/Client_Access_ModelBuild.ipynb"
   ]
  },
  {
   "cell_type": "markdown",
   "id": "d356ea0d",
   "metadata": {},
   "source": [
    "### AI Engine Manager接続"
   ]
  },
  {
   "cell_type": "markdown",
   "id": "622c5fe1",
   "metadata": {},
   "source": [
    "AI Engine Managerに関して：https://h2oai.github.io/ai-engine-manager/"
   ]
  },
  {
   "cell_type": "markdown",
   "id": "aa248992",
   "metadata": {},
   "source": [
    "Python Client Example :  https://h2oai.github.io/ai-engine-manager/py/dai_examples"
   ]
  },
  {
   "cell_type": "code",
   "execution_count": 13,
   "id": "6fcdc743",
   "metadata": {},
   "outputs": [
    {
     "name": "stdout",
     "output_type": "stream",
     "text": [
      "https://internal.dedicated.h2o.ai/auth/get-platform-token よりトークンを取得\n",
      "Enter your platform token: ········\n"
     ]
    }
   ],
   "source": [
    "# AI Cloudへの認証\n",
    "print(\"https://internal.dedicated.h2o.ai/auth/get-platform-token {}\".format('よりトークンを取得'))\n",
    "token_provider = h2o_authn.TokenProvider(\n",
    "  refresh_token=getpass.getpass('Enter your platform token: '),\n",
    "  client_id=\"hac-platform-public\", \n",
    "  token_endpoint_url=\"https://auth.internal.dedicated.h2o.ai/auth/realms/hac/protocol/openid-connect/token\" \n",
    ")"
   ]
  },
  {
   "cell_type": "code",
   "execution_count": 16,
   "id": "33430b2d",
   "metadata": {},
   "outputs": [
    {
     "data": {
      "text/plain": [
       "<h2o_engine_manager.clients.login.Clients at 0x7fd588727e50>"
      ]
     },
     "execution_count": 16,
     "metadata": {},
     "output_type": "execute_result"
    }
   ],
   "source": [
    "# AI Engine Managerへの接続\n",
    "aiem = h2o_engine_manager.login(\n",
    "  environment=\"https://internal.dedicated.h2o.ai\", \n",
    "  token_provider=token_provider\n",
    ")\n",
    "aiem"
   ]
  },
  {
   "cell_type": "markdown",
   "id": "7a20f3ea",
   "metadata": {},
   "source": [
    "### Driverless AIへの接続とProject作成とExperiment登録"
   ]
  },
  {
   "cell_type": "code",
   "execution_count": 46,
   "id": "a7b57876",
   "metadata": {},
   "outputs": [
    {
     "data": {
      "text/plain": [
       "{'engines': [{'annotations': {},\n",
       " 'api_url': 'https://enginemanager.internal.dedicated.h2o.ai/workspaces/default/daiEngines/syc',\n",
       " 'client_info': <h2o_engine_manager.clients.dai_engine.client_info.ClientInfo object at 0x7fd5886dac40>,\n",
       " 'config': {},\n",
       " 'cpu': 2,\n",
       " 'create_time': datetime.datetime(2023, 12, 21, 5, 8, 28, tzinfo=tzutc()),\n",
       " 'creator': 'users/bc34ef4d-ff29-4375-8bab-04d860fcac32',\n",
       " 'creator_display_name': 'yuki.shimada@h2o.ai',\n",
       " 'current_idle_duration': None,\n",
       " 'current_running_duration': None,\n",
       " 'delete_time': None,\n",
       " 'display_name': 'syc',\n",
       " 'engine_id': 'syc',\n",
       " 'gpu': 0,\n",
       " 'login_url': 'https://enginemanager.internal.dedicated.h2o.ai/workspaces/default/daiEngines/syc/oidc/login',\n",
       " 'max_idle_duration': '1h',\n",
       " 'max_running_duration': '8h',\n",
       " 'memory_bytes': '4Gi',\n",
       " 'name': 'workspaces/default/daiEngines/syc',\n",
       " 'reconciling': False,\n",
       " 'resume_time': datetime.datetime(2023, 12, 26, 2, 35, 5, tzinfo=tzutc()),\n",
       " 'state': <DAIEngineState.STATE_PAUSED: 'STATE_PAUSED'>,\n",
       " 'storage_bytes': '64Gi',\n",
       " 'uid': '87018379-8a93-4faf-ac0b-fa81b3846fd3',\n",
       " 'update_time': datetime.datetime(2024, 1, 4, 5, 9, 39, tzinfo=tzutc()),\n",
       " 'upgrade_available': False,\n",
       " 'version': '1.10.6.1',\n",
       " 'workspace_id': 'default'},\n",
       "             {'annotations': {},\n",
       " 'api_url': 'https://enginemanager.internal.dedicated.h2o.ai/workspaces/default/daiEngines/dai-small',\n",
       " 'client_info': <h2o_engine_manager.clients.dai_engine.client_info.ClientInfo object at 0x7fd5886dac40>,\n",
       " 'config': {},\n",
       " 'cpu': 6,\n",
       " 'create_time': datetime.datetime(2023, 11, 21, 6, 33, 58, tzinfo=tzutc()),\n",
       " 'creator': 'users/bc34ef4d-ff29-4375-8bab-04d860fcac32',\n",
       " 'creator_display_name': 'yuki.shimada@h2o.ai',\n",
       " 'current_idle_duration': None,\n",
       " 'current_running_duration': None,\n",
       " 'delete_time': None,\n",
       " 'display_name': 'DAI-small',\n",
       " 'engine_id': 'dai-small',\n",
       " 'gpu': 0,\n",
       " 'login_url': 'https://enginemanager.internal.dedicated.h2o.ai/workspaces/default/daiEngines/dai-small/oidc/login',\n",
       " 'max_idle_duration': '1h',\n",
       " 'max_running_duration': '8h',\n",
       " 'memory_bytes': '24Gi',\n",
       " 'name': 'workspaces/default/daiEngines/dai-small',\n",
       " 'reconciling': False,\n",
       " 'resume_time': datetime.datetime(2023, 12, 21, 5, 2, 45, tzinfo=tzutc()),\n",
       " 'state': <DAIEngineState.STATE_PAUSED: 'STATE_PAUSED'>,\n",
       " 'storage_bytes': '64Gi',\n",
       " 'uid': '2abe9c97-60fd-48af-a7bf-682432c66a35',\n",
       " 'update_time': datetime.datetime(2023, 11, 30, 0, 39, 1, tzinfo=tzutc()),\n",
       " 'upgrade_available': False,\n",
       " 'version': '1.10.6.1',\n",
       " 'workspace_id': 'default'}],\n",
       " 'next_page_token': '',\n",
       " 'total_size': 2}"
      ]
     },
     "execution_count": 46,
     "metadata": {},
     "output_type": "execute_result"
    }
   ],
   "source": [
    "# 既存インスタンスの確認\n",
    "aiem.dai_engine_client.list_engines()"
   ]
  },
  {
   "cell_type": "code",
   "execution_count": 47,
   "id": "d370fb59",
   "metadata": {},
   "outputs": [
    {
     "data": {
      "text/plain": [
       "2"
      ]
     },
     "execution_count": 47,
     "metadata": {},
     "output_type": "execute_result"
    }
   ],
   "source": [
    "# 作成しているインスタンスの台数\n",
    "aiem.dai_engine_client.list_engines().total_size"
   ]
  },
  {
   "cell_type": "code",
   "execution_count": 48,
   "id": "adca214e",
   "metadata": {},
   "outputs": [
    {
     "data": {
      "text/plain": [
       "('syc', 'syc')"
      ]
     },
     "execution_count": 48,
     "metadata": {},
     "output_type": "execute_result"
    }
   ],
   "source": [
    "# 1台目のDriverless AIの名前とID\n",
    "aiem.dai_engine_client.list_engines().engines[0].display_name,  aiem.dai_engine_client.list_engines().engines[0].engine_id"
   ]
  },
  {
   "cell_type": "code",
   "execution_count": 49,
   "id": "b6871dc1",
   "metadata": {},
   "outputs": [
    {
     "data": {
      "text/plain": [
       "('DAI-small', 'dai-small')"
      ]
     },
     "execution_count": 49,
     "metadata": {},
     "output_type": "execute_result"
    }
   ],
   "source": [
    "# 2台目のDriverless AIの名前とID\n",
    "aiem.dai_engine_client.list_engines().engines[1].display_name,  aiem.dai_engine_client.list_engines().engines[1].engine_id"
   ]
  },
  {
   "cell_type": "code",
   "execution_count": 131,
   "id": "2847d0f6",
   "metadata": {},
   "outputs": [
    {
     "data": {
      "text/plain": [
       "{'annotations': {},\n",
       " 'api_url': 'https://enginemanager.internal.dedicated.h2o.ai/workspaces/default/daiEngines/dai-small',\n",
       " 'client_info': <h2o_engine_manager.clients.dai_engine.client_info.ClientInfo object at 0x7fd5886dac40>,\n",
       " 'config': {},\n",
       " 'cpu': 6,\n",
       " 'create_time': datetime.datetime(2023, 11, 21, 6, 33, 58, tzinfo=tzutc()),\n",
       " 'creator': 'users/bc34ef4d-ff29-4375-8bab-04d860fcac32',\n",
       " 'creator_display_name': 'yuki.shimada@h2o.ai',\n",
       " 'current_idle_duration': None,\n",
       " 'current_running_duration': '568s',\n",
       " 'delete_time': None,\n",
       " 'display_name': 'DAI-small',\n",
       " 'engine_id': 'dai-small',\n",
       " 'gpu': 0,\n",
       " 'login_url': 'https://enginemanager.internal.dedicated.h2o.ai/workspaces/default/daiEngines/dai-small/oidc/login',\n",
       " 'max_idle_duration': '1h',\n",
       " 'max_running_duration': '8h',\n",
       " 'memory_bytes': '24Gi',\n",
       " 'name': 'workspaces/default/daiEngines/dai-small',\n",
       " 'reconciling': False,\n",
       " 'resume_time': datetime.datetime(2024, 1, 4, 5, 23, 21, tzinfo=tzutc()),\n",
       " 'state': <DAIEngineState.STATE_RUNNING: 'STATE_RUNNING'>,\n",
       " 'storage_bytes': '64Gi',\n",
       " 'uid': '2abe9c97-60fd-48af-a7bf-682432c66a35',\n",
       " 'update_time': datetime.datetime(2023, 11, 30, 0, 39, 1, tzinfo=tzutc()),\n",
       " 'upgrade_available': False,\n",
       " 'version': '1.10.6.1',\n",
       " 'workspace_id': 'default'}"
      ]
     },
     "execution_count": 131,
     "metadata": {},
     "output_type": "execute_result"
    }
   ],
   "source": [
    "# 利用Driverless AI\n",
    "dai_instance = aiem.dai_engine_client.get_engine('dai-small')   # IDを指定\n",
    "dai_instance"
   ]
  },
  {
   "cell_type": "code",
   "execution_count": 96,
   "id": "0a2105ed",
   "metadata": {},
   "outputs": [
    {
     "data": {
      "text/plain": [
       "h2o_engine_manager.clients.dai_engine.dai_engine.DAIEngine"
      ]
     },
     "execution_count": 96,
     "metadata": {},
     "output_type": "execute_result"
    }
   ],
   "source": [
    "type(dai_instance)"
   ]
  },
  {
   "cell_type": "code",
   "execution_count": 98,
   "id": "6b51fcec",
   "metadata": {},
   "outputs": [],
   "source": [
    "# 停止しているDriverless AIを開始（Resume）する場合\n",
    "dai_instance.resume()"
   ]
  },
  {
   "cell_type": "code",
   "execution_count": 134,
   "id": "98c93c66",
   "metadata": {},
   "outputs": [
    {
     "data": {
      "text/plain": [
       "<DAIEngineState.STATE_RUNNING: 'STATE_RUNNING'>"
      ]
     },
     "execution_count": 134,
     "metadata": {},
     "output_type": "execute_result"
    }
   ],
   "source": [
    "# 利用Driverless AIのステータス確認\n",
    "dai_instance.state\n",
    "\n",
    "# 起動中（Running）であることを確認"
   ]
  },
  {
   "cell_type": "code",
   "execution_count": 135,
   "id": "f6685697",
   "metadata": {},
   "outputs": [
    {
     "data": {
      "text/plain": [
       "<class 'driverlessai._core.Client'> https://enginemanager.internal.dedicated.h2o.ai/workspaces/default/daiEngines/dai-small"
      ]
     },
     "execution_count": 135,
     "metadata": {},
     "output_type": "execute_result"
    }
   ],
   "source": [
    "# 利用Driverless AIの取得（インスタンスの状態がrunningである必要あり）\n",
    "dai = dai_instance.connect()\n",
    "dai"
   ]
  },
  {
   "cell_type": "code",
   "execution_count": 140,
   "id": "197aeb4e",
   "metadata": {},
   "outputs": [
    {
     "data": {
      "text/plain": [
       "driverlessai._core.Client"
      ]
     },
     "execution_count": 140,
     "metadata": {},
     "output_type": "execute_result"
    }
   ],
   "source": [
    "type(dai)"
   ]
  },
  {
   "cell_type": "markdown",
   "id": "5e560940",
   "metadata": {},
   "source": [
    "#### 以下、Driverless AI Python Clientによる操作"
   ]
  },
  {
   "cell_type": "markdown",
   "id": "88cbbc4a",
   "metadata": {},
   "source": [
    "Driverless AI Python Client: https://docs.h2o.ai/driverless-ai/pyclient/docs/html/index.html"
   ]
  },
  {
   "cell_type": "code",
   "execution_count": 136,
   "id": "5c82777d",
   "metadata": {},
   "outputs": [
    {
     "data": {
      "text/plain": [
       "    | Type       | Key                                  | Name\n",
       "----+------------+--------------------------------------+----------------\n",
       "  0 | Experiment | d621f974-9a28-11ee-9e32-5635106bd130 | protein-kd\n",
       "  1 | Experiment | fe1beb2a-9a27-11ee-9e32-5635106bd130 | protein-af\n",
       "  2 | Experiment | b437a73a-8f21-11ee-a023-361cd41ebbf9 | protein-KD\n",
       "  3 | Experiment | 2449f79a-8daa-11ee-931e-de9862232f89 | titanic1\n",
       "  4 | Experiment | 90f8451c-8ce8-11ee-ba2f-1ee91261fde9 | walmart\n",
       "  5 | Experiment | 308fa33a-8cc2-11ee-bb5c-3e7c02aca797 | car\n",
       "  6 | Experiment | 00ca3ca4-8cbe-11ee-bb5c-3e7c02aca797 | amazon-review\n",
       "  7 | Experiment | 315c48e6-8839-11ee-93d6-eae6509eb991 | ucicc-default\n",
       "  8 | Experiment | 5a381bf6-8838-11ee-93d6-eae6509eb991 | boston-default"
      ]
     },
     "execution_count": 136,
     "metadata": {},
     "output_type": "execute_result"
    }
   ],
   "source": [
    "# Experimentのリスト\n",
    "dai.experiments.list()"
   ]
  },
  {
   "cell_type": "code",
   "execution_count": 138,
   "id": "3a153be3",
   "metadata": {},
   "outputs": [
    {
     "data": {
      "text/plain": [
       "('titanic1', 'amazon-review', driverlessai._experiments.Experiment)"
      ]
     },
     "execution_count": 138,
     "metadata": {},
     "output_type": "execute_result"
    }
   ],
   "source": [
    "# 各Experimentオブジェクトの取得\n",
    "mod1 = dai.experiments.list()[3]\n",
    "mod2 = dai.experiments.list()[6]\n",
    "\n",
    "mod1.name, mod2.name, type(mod1)"
   ]
  },
  {
   "cell_type": "code",
   "execution_count": 139,
   "id": "1fc2daa9",
   "metadata": {},
   "outputs": [
    {
     "data": {
      "text/plain": [
       "    | Type    | Key                                  | Name\n",
       "----+---------+--------------------------------------+-------------------\n",
       "  0 | Project | 1da36031-b05f-47c0-b913-e170084581d8 | titanic\n",
       "  1 | Project | 91d6b769-9e9b-4606-8984-278b632716d1 | Proj-iris\n",
       "  2 | Project | 297142df-702f-4212-ad83-3bed0218be1f | proj_boston\n",
       "  3 | Project | dfc7fd0a-7645-4b7e-a082-b8846b032daa | car_obj_detection"
      ]
     },
     "execution_count": 139,
     "metadata": {},
     "output_type": "execute_result"
    }
   ],
   "source": [
    "# Projectのリスト\n",
    "dai.projects.list()"
   ]
  },
  {
   "cell_type": "markdown",
   "id": "eaba9b50",
   "metadata": {},
   "source": [
    "プロジェクト作成以降の参考：https://github.com/yukismd/H2O_AI_Cloud/blob/main/client_access_external/DAI_ModelDeploy-Step1.ipynb"
   ]
  },
  {
   "cell_type": "code",
   "execution_count": null,
   "id": "5936ff06",
   "metadata": {},
   "outputs": [],
   "source": []
  }
 ],
 "metadata": {
  "kernelspec": {
   "display_name": "Python 3 (ipykernel)",
   "language": "python",
   "name": "python3"
  },
  "language_info": {
   "codemirror_mode": {
    "name": "ipython",
    "version": 3
   },
   "file_extension": ".py",
   "mimetype": "text/x-python",
   "name": "python",
   "nbconvert_exporter": "python",
   "pygments_lexer": "ipython3",
   "version": "3.8.16"
  }
 },
 "nbformat": 4,
 "nbformat_minor": 5
}
