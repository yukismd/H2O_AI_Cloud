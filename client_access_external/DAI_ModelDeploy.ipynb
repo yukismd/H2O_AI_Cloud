{
 "cells": [
  {
   "cell_type": "code",
   "execution_count": null,
   "id": "a7d53ae6",
   "metadata": {},
   "outputs": [],
   "source": []
  },
  {
   "cell_type": "code",
   "execution_count": null,
   "id": "c911315c",
   "metadata": {},
   "outputs": [],
   "source": []
  },
  {
   "cell_type": "markdown",
   "id": "19972dff",
   "metadata": {},
   "source": [
    "- Steam, DAIへの接続\n",
    "- DAIでPJ作成\n",
    "- MLOPSへ接続\n",
    "- MLOPSでモデルデプロイ"
   ]
  },
  {
   "cell_type": "code",
   "execution_count": null,
   "id": "433f94db",
   "metadata": {},
   "outputs": [],
   "source": []
  }
 ],
 "metadata": {
  "kernelspec": {
   "display_name": "Python 3 (ipykernel)",
   "language": "python",
   "name": "python3"
  },
  "language_info": {
   "codemirror_mode": {
    "name": "ipython",
    "version": 3
   },
   "file_extension": ".py",
   "mimetype": "text/x-python",
   "name": "python",
   "nbconvert_exporter": "python",
   "pygments_lexer": "ipython3",
   "version": "3.8.16"
  }
 },
 "nbformat": 4,
 "nbformat_minor": 5
}
