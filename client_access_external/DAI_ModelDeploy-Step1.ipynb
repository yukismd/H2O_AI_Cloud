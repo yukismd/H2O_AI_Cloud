{
 "cells": [
  {
   "cell_type": "markdown",
   "id": "acc6d214",
   "metadata": {},
   "source": [
    "# Driverless AIモデルのMLOpsデプロイメント - Step1\n",
    "- Driverless AIへ接続し、Projectの作成とExperimentの登録を実施"
   ]
  },
  {
   "cell_type": "markdown",
   "id": "18a1dadf",
   "metadata": {},
   "source": [
    "参考ワークフロー：https://docs.h2o.ai/mlops/py-client/py-client-examples/dai"
   ]
  },
  {
   "cell_type": "code",
   "execution_count": 1,
   "id": "e29a6e16",
   "metadata": {},
   "outputs": [
    {
     "data": {
      "text/plain": [
       "'1.9.4'"
      ]
     },
     "execution_count": 1,
     "metadata": {},
     "output_type": "execute_result"
    }
   ],
   "source": [
    "import getpass\n",
    "\n",
    "import h2osteam\n",
    "\n",
    "h2osteam.__version__"
   ]
  },
  {
   "cell_type": "code",
   "execution_count": 2,
   "id": "911e759f",
   "metadata": {},
   "outputs": [
    {
     "data": {
      "text/plain": [
       "'1.10.5.post1'"
      ]
     },
     "execution_count": 2,
     "metadata": {},
     "output_type": "execute_result"
    }
   ],
   "source": [
    "import driverlessai\n",
    "driverlessai.__version__"
   ]
  },
  {
   "cell_type": "markdown",
   "id": "cd77d37b",
   "metadata": {},
   "source": [
    "## Driverless AIで作成済みExperimentをProject登録"
   ]
  },
  {
   "cell_type": "markdown",
   "id": "cb42b101",
   "metadata": {},
   "source": [
    "SteamとDriverless AIへの接続に関して：　https://github.com/yukismd/H2O_AI_Cloud/blob/main/client_access_external/Client_Access_ModelBuild.ipynb"
   ]
  },
  {
   "cell_type": "markdown",
   "id": "d356ea0d",
   "metadata": {},
   "source": [
    "### Steam接続"
   ]
  },
  {
   "cell_type": "code",
   "execution_count": 3,
   "id": "eda6a00c",
   "metadata": {},
   "outputs": [
    {
     "name": "stdout",
     "output_type": "stream",
     "text": [
      "Enter your API token here········\n"
     ]
    },
    {
     "data": {
      "text/plain": [
       "<h2osteam.backend.connection.SteamConnection at 0x7fdda8816fd0>"
      ]
     },
     "execution_count": 3,
     "metadata": {},
     "output_type": "execute_result"
    }
   ],
   "source": [
    "# Steamへログイン（本セルを実行後、表示された入力ボックスへパスワード（トークン）を入力）\n",
    "h2osteam.login(url=\"https://steam.internal.dedicated.h2o.ai\", \n",
    "               username=\"yuki.shimada@h2o.ai\",\n",
    "               password=getpass.getpass('Enter your API token here'),\n",
    "               verify_ssl=False)"
   ]
  },
  {
   "cell_type": "markdown",
   "id": "7a20f3ea",
   "metadata": {},
   "source": [
    "### Driverless AIへの接続とProject作成とExperiment登録"
   ]
  },
  {
   "cell_type": "code",
   "execution_count": 4,
   "id": "adca214e",
   "metadata": {},
   "outputs": [
    {
     "data": {
      "text/plain": [
       "[<h2osteam.clients.driverless.driverless_instance.DriverlessInstance at 0x7fddd8288eb0>]"
      ]
     },
     "execution_count": 4,
     "metadata": {},
     "output_type": "execute_result"
    }
   ],
   "source": [
    "# 既存インスタンスの確認\n",
    "h2osteam.clients.DriverlessClient().get_instances()"
   ]
  },
  {
   "cell_type": "code",
   "execution_count": 5,
   "id": "f6685697",
   "metadata": {},
   "outputs": [
    {
     "data": {
      "text/plain": [
       "<h2osteam.clients.driverless.driverless_instance.DriverlessInstance at 0x7fddd8264c10>"
      ]
     },
     "execution_count": 5,
     "metadata": {},
     "output_type": "execute_result"
    }
   ],
   "source": [
    "# 利用インスタンス\n",
    "dai_instance = h2osteam.clients.DriverlessClient().get_instance(name=\"DAI-Steam-latest\")\n",
    "dai_instance"
   ]
  },
  {
   "cell_type": "code",
   "execution_count": 6,
   "id": "6f6140f7",
   "metadata": {},
   "outputs": [
    {
     "data": {
      "text/plain": [
       "'running'"
      ]
     },
     "execution_count": 6,
     "metadata": {},
     "output_type": "execute_result"
    }
   ],
   "source": [
    "# インスタンスの状態\n",
    "dai_instance.status()"
   ]
  },
  {
   "cell_type": "code",
   "execution_count": 7,
   "id": "e9d7aed1",
   "metadata": {},
   "outputs": [
    {
     "data": {
      "text/plain": [
       "<class 'driverlessai._core.Client'> https://steam.internal.dedicated.h2o.ai:443/proxy/driverless/619"
      ]
     },
     "execution_count": 7,
     "metadata": {},
     "output_type": "execute_result"
    }
   ],
   "source": [
    "# Driverless AI Clientの取得（インスタンスの状態がrunningである必要あり）\n",
    "dai = dai_instance.connect()\n",
    "dai"
   ]
  },
  {
   "cell_type": "markdown",
   "id": "88cbbc4a",
   "metadata": {},
   "source": [
    "Driverless AI Python Client: https://docs.h2o.ai/driverless-ai/pyclient/docs/html/index.html"
   ]
  },
  {
   "cell_type": "code",
   "execution_count": 8,
   "id": "5c82777d",
   "metadata": {},
   "outputs": [
    {
     "data": {
      "text/plain": [
       "    | Type       | Key                                  | Name\n",
       "----+------------+--------------------------------------+--------------\n",
       "  0 | Experiment | 6e18315a-43ab-11ee-bd1a-4a8d6bd753d2 | model-iris-2\n",
       "  1 | Experiment | d935b5b2-43aa-11ee-bd1a-4a8d6bd753d2 | model-iris-1"
      ]
     },
     "execution_count": 8,
     "metadata": {},
     "output_type": "execute_result"
    }
   ],
   "source": [
    "# Experimentのリスト\n",
    "dai.experiments.list()"
   ]
  },
  {
   "cell_type": "code",
   "execution_count": 21,
   "id": "3a153be3",
   "metadata": {},
   "outputs": [
    {
     "data": {
      "text/plain": [
       "('model-iris-1', 'model-iris-2', driverlessai._experiments.Experiment)"
      ]
     },
     "execution_count": 21,
     "metadata": {},
     "output_type": "execute_result"
    }
   ],
   "source": [
    "# 各Experimentオブジェクトの取得\n",
    "mod1 = dai.experiments.list()[1]\n",
    "mod2 = dai.experiments.list()[0]\n",
    "\n",
    "mod1.name, mod2.name, type(mod1)"
   ]
  },
  {
   "cell_type": "code",
   "execution_count": 22,
   "id": "1fc2daa9",
   "metadata": {},
   "outputs": [
    {
     "data": {
      "text/plain": [
       "    | Type    | Key                                  | Name\n",
       "----+---------+--------------------------------------+-------------------\n",
       "  0 | Project | 10ffe56c-6ef8-45c8-bc42-7aea251da2d1 | Proj-iris\n",
       "  1 | Project | 297142df-702f-4212-ad83-3bed0218be1f | proj_boston\n",
       "  2 | Project | dfc7fd0a-7645-4b7e-a082-b8846b032daa | car_obj_detection"
      ]
     },
     "execution_count": 22,
     "metadata": {},
     "output_type": "execute_result"
    }
   ],
   "source": [
    "# Projectのリスト\n",
    "dai.projects.list()"
   ]
  },
  {
   "cell_type": "code",
   "execution_count": 25,
   "id": "318af676",
   "metadata": {},
   "outputs": [
    {
     "data": {
      "text/plain": [
       "<driverlessai._projects.Project at 0x7fde0911f8e0>"
      ]
     },
     "execution_count": 25,
     "metadata": {},
     "output_type": "execute_result"
    }
   ],
   "source": [
    "# Projectの作成\n",
    "new_project = dai.projects.create(\n",
    "    name = 'Proj-iris',   # Project名\n",
    "    #force = True    # create new project even if project with same name already exists\n",
    "    force = False\n",
    ")\n",
    "new_project"
   ]
  },
  {
   "cell_type": "code",
   "execution_count": 27,
   "id": "68ba2106",
   "metadata": {},
   "outputs": [
    {
     "data": {
      "text/plain": [
       "    | Type    | Key                                  | Name\n",
       "----+---------+--------------------------------------+-------------------\n",
       "  0 | Project | 91d6b769-9e9b-4606-8984-278b632716d1 | Proj-iris\n",
       "  1 | Project | 297142df-702f-4212-ad83-3bed0218be1f | proj_boston\n",
       "  2 | Project | dfc7fd0a-7645-4b7e-a082-b8846b032daa | car_obj_detection"
      ]
     },
     "execution_count": 27,
     "metadata": {},
     "output_type": "execute_result"
    }
   ],
   "source": [
    "dai.projects.list()\n",
    "# Project（Proj-iris）が作成された"
   ]
  },
  {
   "cell_type": "code",
   "execution_count": 39,
   "id": "839dc511",
   "metadata": {},
   "outputs": [
    {
     "data": {
      "text/plain": [
       "<driverlessai._projects.Project at 0x7fde0911f8e0>"
      ]
     },
     "execution_count": 39,
     "metadata": {},
     "output_type": "execute_result"
    }
   ],
   "source": [
    "# Project（Proj-iris）へのExperiment（model-iris-1 & model-iris-2）の登録\n",
    "new_project.link_experiment(mod1)    # model-iris-1の登録\n",
    "new_project.link_experiment(mod2)    # model-iris-2の登録"
   ]
  },
  {
   "cell_type": "code",
   "execution_count": 40,
   "id": "72c6b845",
   "metadata": {},
   "outputs": [
    {
     "data": {
      "text/plain": [
       "    | Type       | Key                                  | Name\n",
       "----+------------+--------------------------------------+--------------\n",
       "  0 | Experiment | 6e18315a-43ab-11ee-bd1a-4a8d6bd753d2 | model-iris-2\n",
       "  1 | Experiment | d935b5b2-43aa-11ee-bd1a-4a8d6bd753d2 | model-iris-1"
      ]
     },
     "execution_count": 40,
     "metadata": {},
     "output_type": "execute_result"
    }
   ],
   "source": [
    "# Project（Proj-iris）へ登録されたExperiment\n",
    "new_project.experiments"
   ]
  },
  {
   "cell_type": "markdown",
   "id": "70b1ce8c",
   "metadata": {},
   "source": [
    "#### Driverless AI - 作成されたProject（Proj-iris）と、登録されたExperiment（Experiments数が2となっている）\n",
    "<img src=\"image/Experiments-on-Project.png\" width=900px>"
   ]
  },
  {
   "cell_type": "markdown",
   "id": "575cc447",
   "metadata": {},
   "source": [
    "#### MLOps - 連携されたProject（Proj-iris）と、登録されたExperiment（Experiment Countが2となっている）\n",
    "<img src=\"image/MLOps-Projects.png\" width=800px>"
   ]
  },
  {
   "cell_type": "code",
   "execution_count": null,
   "id": "a7f59c2e",
   "metadata": {},
   "outputs": [],
   "source": []
  }
 ],
 "metadata": {
  "kernelspec": {
   "display_name": "Python 3 (ipykernel)",
   "language": "python",
   "name": "python3"
  },
  "language_info": {
   "codemirror_mode": {
    "name": "ipython",
    "version": 3
   },
   "file_extension": ".py",
   "mimetype": "text/x-python",
   "name": "python",
   "nbconvert_exporter": "python",
   "pygments_lexer": "ipython3",
   "version": "3.8.16"
  }
 },
 "nbformat": 4,
 "nbformat_minor": 5
}
