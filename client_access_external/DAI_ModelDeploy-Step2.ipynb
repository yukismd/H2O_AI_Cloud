{
 "cells": [
  {
   "cell_type": "markdown",
   "id": "2804b658",
   "metadata": {},
   "source": [
    "# Driverless AIモデルのMLOpsデプロイメント - Step2\n",
    "- MLOpsへ接続し、Driverless AIモデルのデプロイを実施"
   ]
  },
  {
   "cell_type": "markdown",
   "id": "09909c75",
   "metadata": {},
   "source": [
    "参考ワークフロー：https://docs.h2o.ai/mlops/py-client/py-client-examples/dai"
   ]
  },
  {
   "cell_type": "markdown",
   "id": "d24f7611",
   "metadata": {},
   "source": [
    "#### Step1(Driverless AIへ接続し、Projectの作成とExperimentの登録を実施)は[DAI_ModelDeploy-Step1](./DAI_ModelDeploy-Step1)を参照"
   ]
  },
  {
   "cell_type": "code",
   "execution_count": null,
   "id": "5575d473",
   "metadata": {},
   "outputs": [],
   "source": []
  },
  {
   "cell_type": "markdown",
   "id": "950a2e10",
   "metadata": {},
   "source": [
    "## MLOps接続とDeploymentの作成"
   ]
  },
  {
   "cell_type": "markdown",
   "id": "e4e748c7",
   "metadata": {},
   "source": [
    "https://docs.h2o.ai/mlops/py-client/py-client-examples/shared-code"
   ]
  },
  {
   "cell_type": "code",
   "execution_count": 1,
   "id": "1c92fe6e",
   "metadata": {},
   "outputs": [],
   "source": [
    "import h2o_mlops_client"
   ]
  },
  {
   "cell_type": "code",
   "execution_count": 2,
   "id": "d2b3d36f",
   "metadata": {},
   "outputs": [
    {
     "data": {
      "text/plain": [
       "h2o_mlops_client.auth.TokenProvider"
      ]
     },
     "execution_count": 2,
     "metadata": {},
     "output_type": "execute_result"
    }
   ],
   "source": [
    "h2o_mlops_client.TokenProvider"
   ]
  },
  {
   "cell_type": "code",
   "execution_count": 3,
   "id": "58f794e0",
   "metadata": {},
   "outputs": [
    {
     "ename": "NameError",
     "evalue": "name 'mlops' is not defined",
     "output_type": "error",
     "traceback": [
      "\u001b[0;31m---------------------------------------------------------------------------\u001b[0m",
      "\u001b[0;31mNameError\u001b[0m                                 Traceback (most recent call last)",
      "Cell \u001b[0;32mIn[3], line 1\u001b[0m\n\u001b[0;32m----> 1\u001b[0m mlops_token_provider \u001b[38;5;241m=\u001b[39m \u001b[43mmlops\u001b[49m\u001b[38;5;241m.\u001b[39mTokenProvider(\n\u001b[1;32m      2\u001b[0m     refresh_token\u001b[38;5;241m=\u001b[39mREFRESH_TOKEN,\n\u001b[1;32m      3\u001b[0m     client_id\u001b[38;5;241m=\u001b[39mCLIENT_ID,\n\u001b[1;32m      4\u001b[0m     token_endpoint_url\u001b[38;5;241m=\u001b[39mTOKEN_ENDPOINT_URL,\n\u001b[1;32m      5\u001b[0m     client_secret\u001b[38;5;241m=\u001b[39mCLIENT_SECRET\n\u001b[1;32m      6\u001b[0m )\n",
      "\u001b[0;31mNameError\u001b[0m: name 'mlops' is not defined"
     ]
    }
   ],
   "source": [
    "mlops_token_provider = mlops.TokenProvider(\n",
    "    refresh_token=REFRESH_TOKEN,\n",
    "    client_id=CLIENT_ID,\n",
    "    token_endpoint_url=TOKEN_ENDPOINT_URL,\n",
    "    client_secret=CLIENT_SECRET\n",
    ")"
   ]
  },
  {
   "cell_type": "code",
   "execution_count": 4,
   "id": "ac7a18f6",
   "metadata": {},
   "outputs": [
    {
     "data": {
      "text/plain": [
       "h2o_mlops_client.client.Client"
      ]
     },
     "execution_count": 4,
     "metadata": {},
     "output_type": "execute_result"
    }
   ],
   "source": [
    "h2o_mlops_client.Client"
   ]
  },
  {
   "cell_type": "code",
   "execution_count": 5,
   "id": "1c55228a",
   "metadata": {},
   "outputs": [
    {
     "ename": "NameError",
     "evalue": "name 'mlops' is not defined",
     "output_type": "error",
     "traceback": [
      "\u001b[0;31m---------------------------------------------------------------------------\u001b[0m",
      "\u001b[0;31mNameError\u001b[0m                                 Traceback (most recent call last)",
      "Cell \u001b[0;32mIn[5], line 1\u001b[0m\n\u001b[0;32m----> 1\u001b[0m mlops_client \u001b[38;5;241m=\u001b[39m \u001b[43mmlops\u001b[49m\u001b[38;5;241m.\u001b[39mClient(\n\u001b[1;32m      2\u001b[0m     gateway_url\u001b[38;5;241m=\u001b[39mMLOPS_API_URL,\n\u001b[1;32m      3\u001b[0m     token_provider\u001b[38;5;241m=\u001b[39mmlops_token_provider,\n\u001b[1;32m      4\u001b[0m )\n",
      "\u001b[0;31mNameError\u001b[0m: name 'mlops' is not defined"
     ]
    }
   ],
   "source": [
    "mlops_client = mlops.Client(\n",
    "    gateway_url=MLOPS_API_URL,\n",
    "    token_provider=mlops_token_provider,\n",
    ")"
   ]
  },
  {
   "cell_type": "code",
   "execution_count": null,
   "id": "c166b328",
   "metadata": {},
   "outputs": [],
   "source": []
  }
 ],
 "metadata": {
  "kernelspec": {
   "display_name": "Python 3 (ipykernel)",
   "language": "python",
   "name": "python3"
  },
  "language_info": {
   "codemirror_mode": {
    "name": "ipython",
    "version": 3
   },
   "file_extension": ".py",
   "mimetype": "text/x-python",
   "name": "python",
   "nbconvert_exporter": "python",
   "pygments_lexer": "ipython3",
   "version": "3.8.16"
  }
 },
 "nbformat": 4,
 "nbformat_minor": 5
}
