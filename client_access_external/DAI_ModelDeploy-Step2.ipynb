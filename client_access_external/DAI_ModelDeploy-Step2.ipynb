{
 "cells": [
  {
   "cell_type": "markdown",
   "id": "2804b658",
   "metadata": {},
   "source": [
    "# Driverless AIモデルのMLOpsデプロイメント - Step2\n",
    "- MLOpsへ接続し、Driverless AIモデルのデプロイを実施"
   ]
  },
  {
   "cell_type": "markdown",
   "id": "09909c75",
   "metadata": {},
   "source": [
    "参考ワークフロー：https://docs.h2o.ai/mlops/py-client/py-client-examples/dai  \n",
    "MLOps Python Client ドキュメント: https://docs.h2o.ai/mlops/py-client/overview"
   ]
  },
  {
   "cell_type": "markdown",
   "id": "d24f7611",
   "metadata": {},
   "source": [
    "#### Step1(Driverless AIへ接続し、Projectの作成とExperimentの登録を実施)は[DAI_ModelDeploy-Step1](./DAI_ModelDeploy-Step1)を参照"
   ]
  },
  {
   "cell_type": "code",
   "execution_count": null,
   "id": "5575d473",
   "metadata": {},
   "outputs": [],
   "source": []
  },
  {
   "cell_type": "markdown",
   "id": "950a2e10",
   "metadata": {},
   "source": [
    "## MLOps接続とDeploymentの作成"
   ]
  },
  {
   "cell_type": "markdown",
   "id": "e4e748c7",
   "metadata": {},
   "source": [
    "https://docs.h2o.ai/mlops/py-client/py-client-examples/shared-code"
   ]
  },
  {
   "cell_type": "code",
   "execution_count": 1,
   "id": "1c92fe6e",
   "metadata": {},
   "outputs": [
    {
     "name": "stdout",
     "output_type": "stream",
     "text": [
      "Visit https://internal.dedicated.h2o.ai/auth/get-platform-token to get your platform token\n",
      "Enter your platform token: ········\n"
     ]
    }
   ],
   "source": [
    "# アクセストークンの取得\n",
    "\n",
    "import h2o_mlops_client\n",
    "import getpass \n",
    "\n",
    "print(f\"Visit https://internal.dedicated.h2o.ai/auth/get-platform-token to get your platform token\")   # 利用環境に対応したURLへ変更。'internal'の箇所\n",
    "mlops_token_provider = h2o_mlops_client.TokenProvider(\n",
    "  refresh_token=getpass.getpass('Enter your platform token: '),\n",
    "  client_id=\"hac-platform-public\", \n",
    "  token_endpoint_url=\"https://auth.internal.dedicated.h2o.ai/auth/realms/hac/protocol/openid-connect/token\"   # 利用環境に対応したURLへ変更。'internal'の箇所\n",
    ")"
   ]
  },
  {
   "cell_type": "code",
   "execution_count": 3,
   "id": "c166b328",
   "metadata": {},
   "outputs": [
    {
     "data": {
      "text/plain": [
       "<h2o_mlops_client.client.Client at 0x7fba80496610>"
      ]
     },
     "execution_count": 3,
     "metadata": {},
     "output_type": "execute_result"
    }
   ],
   "source": [
    "# MLOpsへの接続\n",
    "\n",
    "mlops_client = h2o_mlops_client.Client(\n",
    "    gateway_url='https://mlops-api.internal.dedicated.h2o.ai/',   # 利用環境に対応したURLへ変更。'internal'の箇所\n",
    "    token_provider=mlops_token_provider,\n",
    ")\n",
    "mlops_client"
   ]
  },
  {
   "cell_type": "code",
   "execution_count": 4,
   "id": "7696d5c0",
   "metadata": {
    "scrolled": true
   },
   "outputs": [
    {
     "data": {
      "text/plain": [
       "{'user': {'created_time': datetime.datetime(2022, 10, 3, 4, 38, 19, 309917, tzinfo=tzutc()),\n",
       "          'id': 'dbd25303-b203-4ac3-a39b-19910c429046',\n",
       "          'idp_id': None,\n",
       "          'primary_email': '',\n",
       "          'username': 'yuki.shimada@h2o.ai'}}"
      ]
     },
     "execution_count": 4,
     "metadata": {},
     "output_type": "execute_result"
    }
   ],
   "source": [
    "mlops_client.storage.user.who_am_i(body={})"
   ]
  },
  {
   "cell_type": "code",
   "execution_count": 5,
   "id": "b2dfce59",
   "metadata": {
    "scrolled": true
   },
   "outputs": [
    {
     "data": {
      "text/plain": [
       "{'paging': None,\n",
       " 'project': [{'created_time': datetime.datetime(2022, 12, 9, 0, 59, 30, 955305, tzinfo=tzutc()),\n",
       "              'description': '',\n",
       "              'display_name': 'proj_boston',\n",
       "              'id': '297142df-702f-4212-ad83-3bed0218be1f',\n",
       "              'last_modified_time': datetime.datetime(2022, 12, 9, 0, 59, 30, 955305, tzinfo=tzutc()),\n",
       "              'owner_id': 'dbd25303-b203-4ac3-a39b-19910c429046'},\n",
       "             {'created_time': datetime.datetime(2023, 8, 26, 1, 56, 2, 537771, tzinfo=tzutc()),\n",
       "              'description': '',\n",
       "              'display_name': 'Proj-iris',\n",
       "              'id': '91d6b769-9e9b-4606-8984-278b632716d1',\n",
       "              'last_modified_time': datetime.datetime(2023, 8, 26, 1, 56, 2, 537771, tzinfo=tzutc()),\n",
       "              'owner_id': 'dbd25303-b203-4ac3-a39b-19910c429046'},\n",
       "             {'created_time': datetime.datetime(2022, 11, 30, 4, 46, 31, 607138, tzinfo=tzutc()),\n",
       "              'description': '',\n",
       "              'display_name': 'car_obj_detection',\n",
       "              'id': 'dfc7fd0a-7645-4b7e-a082-b8846b032daa',\n",
       "              'last_modified_time': datetime.datetime(2022, 11, 30, 4, 46, 31, 607138, tzinfo=tzutc()),\n",
       "              'owner_id': 'dbd25303-b203-4ac3-a39b-19910c429046'}],\n",
       " 'user_project_count': None}"
      ]
     },
     "execution_count": 5,
     "metadata": {},
     "output_type": "execute_result"
    }
   ],
   "source": [
    "mlops_client.storage.project.list_projects(body={})"
   ]
  },
  {
   "cell_type": "code",
   "execution_count": null,
   "id": "a3ba99be",
   "metadata": {},
   "outputs": [],
   "source": []
  }
 ],
 "metadata": {
  "kernelspec": {
   "display_name": "Python 3 (ipykernel)",
   "language": "python",
   "name": "python3"
  },
  "language_info": {
   "codemirror_mode": {
    "name": "ipython",
    "version": 3
   },
   "file_extension": ".py",
   "mimetype": "text/x-python",
   "name": "python",
   "nbconvert_exporter": "python",
   "pygments_lexer": "ipython3",
   "version": "3.8.16"
  }
 },
 "nbformat": 4,
 "nbformat_minor": 5
}
