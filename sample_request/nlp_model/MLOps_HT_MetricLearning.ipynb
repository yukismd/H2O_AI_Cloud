{
 "cells": [
  {
   "cell_type": "markdown",
   "id": "3f151e46",
   "metadata": {},
   "source": [
    "MLOpsへデプロイした、Hydrogen Torch Metric Learningモデルへのスコアリングの実施"
   ]
  },
  {
   "cell_type": "code",
   "execution_count": 57,
   "id": "1245a1c9",
   "metadata": {},
   "outputs": [],
   "source": [
    "import requests\n",
    "import json\n",
    "\n",
    "import pandas as pd\n",
    "import numpy as np"
   ]
  },
  {
   "cell_type": "markdown",
   "id": "4a65a6a5",
   "metadata": {},
   "source": [
    "MLOpsリクエストサンプル\n",
    "```bash\n",
    "curl -X POST -H \"Content-Type: application/json\" -d @- https://model.internal.dedicated.h2o.ai/d4e5a4ac-9ca0-4e60-af0e-0b175c1997a8/model/score << EOF\n",
    " {\n",
    "   \"fields\": [\n",
    "      \"input\"\n",
    "   ],\n",
    "   \"rows\": [\n",
    "      [\n",
    "         \"text\"\n",
    "      ]\n",
    "   ]\n",
    "} \n",
    "EOF\n",
    "```"
   ]
  },
  {
   "cell_type": "markdown",
   "id": "fe70f993",
   "metadata": {},
   "source": [
    "複数オブザベーションのリクエストの場合\n",
    "```bash\n",
    "curl -X POST -H \"Content-Type: application/json\" -d @- https://model.internal.dedicated.h2o.ai/d4e5a4ac-9ca0-4e60-af0e-0b175c1997a8/model/score << EOF\n",
    " {\n",
    "   \"fields\": [\"input\"],\n",
    "   \"rows\": [\n",
    "      [\"text\"], [\"text2\"]\n",
    "   ]\n",
    "} \n",
    "EOF\n",
    "```"
   ]
  },
  {
   "cell_type": "code",
   "execution_count": 2,
   "id": "5425fe15",
   "metadata": {},
   "outputs": [
    {
     "name": "stdout",
     "output_type": "stream",
     "text": [
      "jobdb_sample.csv\r\n"
     ]
    }
   ],
   "source": [
    "!ls data"
   ]
  },
  {
   "cell_type": "code",
   "execution_count": 10,
   "id": "d1483918",
   "metadata": {},
   "outputs": [
    {
     "name": "stdout",
     "output_type": "stream",
     "text": [
      "(10, 5)\n"
     ]
    },
    {
     "data": {
      "text/html": [
       "<div>\n",
       "<style scoped>\n",
       "    .dataframe tbody tr th:only-of-type {\n",
       "        vertical-align: middle;\n",
       "    }\n",
       "\n",
       "    .dataframe tbody tr th {\n",
       "        vertical-align: top;\n",
       "    }\n",
       "\n",
       "    .dataframe thead th {\n",
       "        text-align: right;\n",
       "    }\n",
       "</style>\n",
       "<table border=\"1\" class=\"dataframe\">\n",
       "  <thead>\n",
       "    <tr style=\"text-align: right;\">\n",
       "      <th></th>\n",
       "      <th>job_id</th>\n",
       "      <th>industry</th>\n",
       "      <th>role</th>\n",
       "      <th>rank</th>\n",
       "      <th>skill_sets</th>\n",
       "    </tr>\n",
       "  </thead>\n",
       "  <tbody>\n",
       "    <tr>\n",
       "      <th>0</th>\n",
       "      <td>1</td>\n",
       "      <td>化学工業</td>\n",
       "      <td>安全管理者</td>\n",
       "      <td>シニア</td>\n",
       "      <td>- 長年の経験と知識を持った化学工業の安全管理に堪能すること\\n- 法令や規制に基づいた安全...</td>\n",
       "    </tr>\n",
       "    <tr>\n",
       "      <th>1</th>\n",
       "      <td>3</td>\n",
       "      <td>農業</td>\n",
       "      <td>物流担当</td>\n",
       "      <td>ミドル</td>\n",
       "      <td>- 農業物流の知識と経験\\n- 貨物管理と配送計画の作成\\n- 仕入れと倉庫管理のスキル\\n...</td>\n",
       "    </tr>\n",
       "    <tr>\n",
       "      <th>2</th>\n",
       "      <td>9</td>\n",
       "      <td>不動産業</td>\n",
       "      <td>コンサルタント</td>\n",
       "      <td>シニア</td>\n",
       "      <td>- 不動産市場の深い理解と経験\\n- 不動産法令や政策の知識\\n- 顧客対応やネゴシエーショ...</td>\n",
       "    </tr>\n",
       "    <tr>\n",
       "      <th>3</th>\n",
       "      <td>16</td>\n",
       "      <td>自動車製造業</td>\n",
       "      <td>製造オペレーター</td>\n",
       "      <td>ミドル</td>\n",
       "      <td>- 複雑な機械操作能力：製造オペレーターとしては、複雑な機械を操作する能力が必要です。\\n-...</td>\n",
       "    </tr>\n",
       "    <tr>\n",
       "      <th>4</th>\n",
       "      <td>18</td>\n",
       "      <td>林業</td>\n",
       "      <td>営業担当</td>\n",
       "      <td>ミドル</td>\n",
       "      <td>- 林業分野の知識\\n- 営業経験\\n- 顧客対応能力\\n- プレゼンテーション能力\\n- ...</td>\n",
       "    </tr>\n",
       "    <tr>\n",
       "      <th>5</th>\n",
       "      <td>26</td>\n",
       "      <td>不動産業</td>\n",
       "      <td>資産管理担当</td>\n",
       "      <td>ミドル</td>\n",
       "      <td>- 不動産に関する知識と経験\\n- 資産管理に堪能な計画力と実行力\\n- 不動産仕訳帳の管理...</td>\n",
       "    </tr>\n",
       "    <tr>\n",
       "      <th>6</th>\n",
       "      <td>27</td>\n",
       "      <td>エネルギー業</td>\n",
       "      <td>リスクアナリスト</td>\n",
       "      <td>ジュニア</td>\n",
       "      <td>- Basic understanding of risk management princ...</td>\n",
       "    </tr>\n",
       "    <tr>\n",
       "      <th>7</th>\n",
       "      <td>29</td>\n",
       "      <td>医療・ヘルスケア業</td>\n",
       "      <td>医師</td>\n",
       "      <td>ジュニア</td>\n",
       "      <td>- 医学の基礎知識と技能\\n- 患者の相談や診断に堪能なコミュニケーション能力\\n- 医療法...</td>\n",
       "    </tr>\n",
       "    <tr>\n",
       "      <th>8</th>\n",
       "      <td>37</td>\n",
       "      <td>繊維業</td>\n",
       "      <td>生産管理</td>\n",
       "      <td>ミドル</td>\n",
       "      <td>- 繊維生産プロセスの知識と経験\\n- 生産計画と調整能力\\n- 品質管理の経験\\n- 生産...</td>\n",
       "    </tr>\n",
       "    <tr>\n",
       "      <th>9</th>\n",
       "      <td>43</td>\n",
       "      <td>農業</td>\n",
       "      <td>農業エンジニア</td>\n",
       "      <td>ミドル</td>\n",
       "      <td>- 農業技術知識\\n- 機械操作能力\\n- データ分析スキル\\n- 適切な耕作技術の知識\\n...</td>\n",
       "    </tr>\n",
       "  </tbody>\n",
       "</table>\n",
       "</div>"
      ],
      "text/plain": [
       "   job_id   industry      role  rank  \\\n",
       "0       1       化学工業     安全管理者   シニア   \n",
       "1       3         農業      物流担当   ミドル   \n",
       "2       9       不動産業   コンサルタント   シニア   \n",
       "3      16     自動車製造業  製造オペレーター   ミドル   \n",
       "4      18         林業      営業担当   ミドル   \n",
       "5      26       不動産業    資産管理担当   ミドル   \n",
       "6      27     エネルギー業  リスクアナリスト  ジュニア   \n",
       "7      29  医療・ヘルスケア業        医師  ジュニア   \n",
       "8      37        繊維業      生産管理   ミドル   \n",
       "9      43         農業   農業エンジニア   ミドル   \n",
       "\n",
       "                                          skill_sets  \n",
       "0  - 長年の経験と知識を持った化学工業の安全管理に堪能すること\\n- 法令や規制に基づいた安全...  \n",
       "1  - 農業物流の知識と経験\\n- 貨物管理と配送計画の作成\\n- 仕入れと倉庫管理のスキル\\n...  \n",
       "2  - 不動産市場の深い理解と経験\\n- 不動産法令や政策の知識\\n- 顧客対応やネゴシエーショ...  \n",
       "3  - 複雑な機械操作能力：製造オペレーターとしては、複雑な機械を操作する能力が必要です。\\n-...  \n",
       "4  - 林業分野の知識\\n- 営業経験\\n- 顧客対応能力\\n- プレゼンテーション能力\\n- ...  \n",
       "5  - 不動産に関する知識と経験\\n- 資産管理に堪能な計画力と実行力\\n- 不動産仕訳帳の管理...  \n",
       "6  - Basic understanding of risk management princ...  \n",
       "7  - 医学の基礎知識と技能\\n- 患者の相談や診断に堪能なコミュニケーション能力\\n- 医療法...  \n",
       "8  - 繊維生産プロセスの知識と経験\\n- 生産計画と調整能力\\n- 品質管理の経験\\n- 生産...  \n",
       "9  - 農業技術知識\\n- 機械操作能力\\n- データ分析スキル\\n- 適切な耕作技術の知識\\n...  "
      ]
     },
     "execution_count": 10,
     "metadata": {},
     "output_type": "execute_result"
    }
   ],
   "source": [
    "df = pd.read_csv('data/jobdb_sample.csv')\n",
    "print(df.shape)\n",
    "df"
   ]
  },
  {
   "cell_type": "code",
   "execution_count": 14,
   "id": "73fd6055",
   "metadata": {},
   "outputs": [
    {
     "name": "stdout",
     "output_type": "stream",
     "text": [
      "- 長年の経験と知識を持った化学工業の安全管理に堪能すること\n",
      "- 法令や規制に基づいた安全管理計画の策定および実施\n",
      "- 労働安全法、環境対策法、火災Prevencion法などの法令に堪能すること\n",
      "- 労働者の安全訓練の計画、実施、評価の能力\n",
      "- 労働災害の事例研究、分析、対策策定の能力\n",
      "- 安全環境の継続的改善に努めること\n",
      "- 労働者の安全意識向上に努めること\n",
      "- 安全関連事業者との協力関係の整備および維持の能力\n",
      "- 労働者の安全意識調査の計画、実施、評価の能力\n",
      "- 災害時のリーダーシップの発揮\n"
     ]
    }
   ],
   "source": [
    "print(df.loc[0, 'skill_sets'])"
   ]
  },
  {
   "cell_type": "code",
   "execution_count": 42,
   "id": "ef5218a5",
   "metadata": {},
   "outputs": [
    {
     "name": "stdout",
     "output_type": "stream",
     "text": [
      "10\n"
     ]
    },
    {
     "data": {
      "text/plain": [
       "[['- 長年の経験と知識を持った化学工業の安全管理に堪能すること\\n- 法令や規制に基づいた安全管理計画の策定および実施\\n- 労働安全法、環境対策法、火災Prevencion法などの法令に堪能すること\\n- 労働者の安全訓練の計画、実施、評価の能力\\n- 労働災害の事例研究、分析、対策策定の能力\\n- 安全環境の継続的改善に努めること\\n- 労働者の安全意識向上に努めること\\n- 安全関連事業者との協力関係の整備および維持の能力\\n- 労働者の安全意識調査の計画、実施、評価の能力\\n- 災害時のリーダーシップの発揮'],\n",
       " ['- 農業物流の知識と経験\\n- 貨物管理と配送計画の作成\\n- 仕入れと倉庫管理のスキル\\n- 購買と販売の知識\\n- 財務管理と予算 planing\\n- 人間関係のスキル\\n- 計画と組織の能力\\n- クライアント対応とサービス精度\\n- IT技能（WMS, TMS, ERP）\\n- 英語の基本的な会話能力'],\n",
       " ['- 不動産市場の深い理解と経験\\n- 不動産法令や政策の知識\\n- 顧客対応やネゴシエーション能力\\n- 事業計画や予算管理のスキル\\n- 不動産開発プロジェクトの計画と実行\\n- リスク管理と戦略的考え方\\n- 業界網を取り巻く関係の築き方\\n- 経営戦略の立案と推進\\n- 不動産資産の評価と調整\\n- 企業コミュニケーションやプレゼンテーション能力']]"
      ]
     },
     "execution_count": 42,
     "metadata": {},
     "output_type": "execute_result"
    }
   ],
   "source": [
    "rows = [[s] for s in df['skill_sets']]\n",
    "print(len(rows))\n",
    "rows[:3]"
   ]
  },
  {
   "cell_type": "code",
   "execution_count": 43,
   "id": "f9799794",
   "metadata": {},
   "outputs": [
    {
     "data": {
      "text/plain": [
       "{'fields': ['input'],\n",
       " 'rows': [['- 長年の経験と知識を持った化学工業の安全管理に堪能すること\\n- 法令や規制に基づいた安全管理計画の策定および実施\\n- 労働安全法、環境対策法、火災Prevencion法などの法令に堪能すること\\n- 労働者の安全訓練の計画、実施、評価の能力\\n- 労働災害の事例研究、分析、対策策定の能力\\n- 安全環境の継続的改善に努めること\\n- 労働者の安全意識向上に努めること\\n- 安全関連事業者との協力関係の整備および維持の能力\\n- 労働者の安全意識調査の計画、実施、評価の能力\\n- 災害時のリーダーシップの発揮'],\n",
       "  ['- 農業物流の知識と経験\\n- 貨物管理と配送計画の作成\\n- 仕入れと倉庫管理のスキル\\n- 購買と販売の知識\\n- 財務管理と予算 planing\\n- 人間関係のスキル\\n- 計画と組織の能力\\n- クライアント対応とサービス精度\\n- IT技能（WMS, TMS, ERP）\\n- 英語の基本的な会話能力'],\n",
       "  ['- 不動産市場の深い理解と経験\\n- 不動産法令や政策の知識\\n- 顧客対応やネゴシエーション能力\\n- 事業計画や予算管理のスキル\\n- 不動産開発プロジェクトの計画と実行\\n- リスク管理と戦略的考え方\\n- 業界網を取り巻く関係の築き方\\n- 経営戦略の立案と推進\\n- 不動産資産の評価と調整\\n- 企業コミュニケーションやプレゼンテーション能力'],\n",
       "  ['- 複雑な機械操作能力：製造オペレーターとしては、複雑な機械を操作する能力が必要です。\\n- 品質意識：製造業では、品質管理が非常に重要であるため、高い品質意識を持っていることが求められます。\\n- 安全意識：安全上の理由から、常に安全操作を意識することが求められます。\\n- 生産性向上の意識：生産性を上げることで労力を削減し、費用を節約することが重要であるため、生産性向上の意識を持っていることが求められます。\\n- チームワーク能力：製造業では、多くの場合チームワークが必要であるため、チームワーク能力を持っていることが求められます。\\n- 計画的思考能力：製造業では、常に計画的に行動することが重要であるため、計画的思考能力を持っていることが求められます。\\n- 継続的学習意欲：技術は進歩していくため、継続的に学び続ける意欲を持っていることが求められます。\\n- 責任感：製造業では、ミスによる被害が大きいため、責任感を持っていることが求められます。\\n- コミュニケーション能力：製造業では、多くの場合、他の部門との連携が必要であるため、コミュニケーション能力を持っていることが求められます。\\n- 堪能心：製造業では、常に精度を重視するため、堪能心を持っていることが求められます。'],\n",
       "  ['- 林業分野の知識\\n- 営業経験\\n- 顧客対応能力\\n- プレゼンテーション能力\\n- ネゴシエーション能力\\n- 市場調査能力\\n- 業務計画整理能力\\n- チームワーク能力\\n- 目標達成意欲\\n- 自己管理能力'],\n",
       "  ['- 不動産に関する知識と経験\\n- 資産管理に堪能な計画力と実行力\\n- 不動産仕訳帳の管理\\n- 不動産の評価と売買の取引\\n- 不動産のリスク管理\\n- 不動産法令・規制に堪能な知識\\n- 不動産会社の経営に堪能な知識\\n- 不動産業界の人脈とネットワーク\\n- 不動産の契約書の作成\\n- 不動産の維持管理'],\n",
       "  ['- Basic understanding of risk management principles and methodologies\\n- Familiarity with financial analysis and modeling techniques\\n- Knowledge of energy markets and related regulations\\n- Strong analytical and problem-solving skills\\n- Proficiency in Microsoft Office, particularly Excel and Access\\n- Ability to communicate complex concepts effectively in writing and verbally\\n- Attention to detail and ability to work independently and in a team environment\\n- Familiarity with data analysis tools and techniques, such as SQL or Python\\n- Understanding of internal control frameworks and audit processes\\n- Willingness to learn and stay updated on industry trends and best practices.'],\n",
       "  ['- 医学の基礎知識と技能\\n- 患者の相談や診断に堪能なコミュニケーション能力\\n- 医療法令や医療機器の操作に堪能な知識\\n- 医療従事者とのチームワーク能力\\n- 常に最新の医学的知識を更新する能力\\n- 患者の健康状況を継続的に監視し、適切な治療を提供する能力\\n- 医療機器の保守管理に堪能な知識\\n- 医療機関の管理システムに堪能な知識\\n- 医療従事者の緊急処置に堪能な知識'],\n",
       "  ['- 繊維生産プロセスの知識と経験\\n- 生産計画と調整能力\\n- 品質管理の経験\\n- 生産ラインのメンテナンスと修理\\n- 生産データの分析とレポート作成\\n- 従業員の指導と教育\\n- 環境、安全性、耐久性の確保\\n- 生産性向上の推進\\n- 仕入れと貯蔵の管理\\n- リーダーシップとチームビルディング能力'],\n",
       "  ['- 農業技術知識\\n- 機械操作能力\\n- データ分析スキル\\n- 適切な耕作技術の知識\\n- 水肥料管理の知識と経験\\n- 作物生産管理の知識と経験\\n- 農業用ソフトウェアの操作経験\\n- 安全管理に堪能な知識と経験\\n- リードシップとチームワーク能力\\n- 英語の基本的な読み書き能力']]}"
      ]
     },
     "execution_count": 43,
     "metadata": {},
     "output_type": "execute_result"
    }
   ],
   "source": [
    "json_data = dict(fields=[\"input\"], rows=rows)\n",
    "json_data"
   ]
  },
  {
   "cell_type": "code",
   "execution_count": 44,
   "id": "3aa3720d",
   "metadata": {},
   "outputs": [
    {
     "data": {
      "text/plain": [
       "<Response [200]>"
      ]
     },
     "execution_count": 44,
     "metadata": {},
     "output_type": "execute_result"
    }
   ],
   "source": [
    "response = requests.post(url='https://model.internal.dedicated.h2o.ai/d4e5a4ac-9ca0-4e60-af0e-0b175c1997a8/model/score', \n",
    "                         headers={'content-type': 'application/json'}, \n",
    "                         data=json.dumps(json_data))\n",
    "response"
   ]
  },
  {
   "cell_type": "code",
   "execution_count": 45,
   "id": "bd9fb513",
   "metadata": {},
   "outputs": [
    {
     "data": {
      "text/plain": [
       "dict_keys(['id', 'fields', 'score'])"
      ]
     },
     "execution_count": 45,
     "metadata": {},
     "output_type": "execute_result"
    }
   ],
   "source": [
    "response.json().keys()"
   ]
  },
  {
   "cell_type": "code",
   "execution_count": 46,
   "id": "6f4b1985",
   "metadata": {},
   "outputs": [
    {
     "data": {
      "text/plain": [
       "'cf7ac268-043f-4d25-ae0a-34876b1976c0'"
      ]
     },
     "execution_count": 46,
     "metadata": {},
     "output_type": "execute_result"
    }
   ],
   "source": [
    "response.json()['id']"
   ]
  },
  {
   "cell_type": "code",
   "execution_count": 47,
   "id": "66a86039",
   "metadata": {},
   "outputs": [
    {
     "data": {
      "text/plain": [
       "['output']"
      ]
     },
     "execution_count": 47,
     "metadata": {},
     "output_type": "execute_result"
    }
   ],
   "source": [
    "response.json()['fields']"
   ]
  },
  {
   "cell_type": "code",
   "execution_count": 52,
   "id": "81df759a",
   "metadata": {},
   "outputs": [
    {
     "data": {
      "text/plain": [
       "dict_keys(['embeddings', 'cosine_similarities', 'similar_texts'])"
      ]
     },
     "execution_count": 52,
     "metadata": {},
     "output_type": "execute_result"
    }
   ],
   "source": [
    "res = json.loads(response.json()['score'][0][0])\n",
    "res.keys()"
   ]
  },
  {
   "cell_type": "code",
   "execution_count": 66,
   "id": "22575410",
   "metadata": {},
   "outputs": [
    {
     "name": "stdout",
     "output_type": "stream",
     "text": [
      "<class 'list'>\n"
     ]
    },
    {
     "data": {
      "text/plain": [
       "(10, 256)"
      ]
     },
     "execution_count": 66,
     "metadata": {},
     "output_type": "execute_result"
    }
   ],
   "source": [
    "print(type(res['embeddings']))\n",
    "np.array(res['embeddings']).shape\n",
    "\n",
    "# 各オブザーベーションの256次元ベクトル"
   ]
  },
  {
   "cell_type": "code",
   "execution_count": 63,
   "id": "c6d81e4c",
   "metadata": {},
   "outputs": [
    {
     "name": "stdout",
     "output_type": "stream",
     "text": [
      "<class 'list'>\n"
     ]
    },
    {
     "data": {
      "text/plain": [
       "(10, 10)"
      ]
     },
     "execution_count": 63,
     "metadata": {},
     "output_type": "execute_result"
    }
   ],
   "source": [
    "print(type(res['cosine_similarities']))\n",
    "np.array(res['cosine_similarities']).shape\n",
    "\n",
    "# 各オブザーベーションの上位類似度"
   ]
  },
  {
   "cell_type": "code",
   "execution_count": 72,
   "id": "a2fb35c5",
   "metadata": {},
   "outputs": [
    {
     "name": "stdout",
     "output_type": "stream",
     "text": [
      "<class 'list'>\n"
     ]
    },
    {
     "data": {
      "text/plain": [
       "(10, 10)"
      ]
     },
     "execution_count": 72,
     "metadata": {},
     "output_type": "execute_result"
    }
   ],
   "source": [
    "print(type(res['similar_texts']))\n",
    "np.array(res['similar_texts']).shape\n",
    "\n",
    "# 各オブザーベーションの類似が上位のオブザーベーション番号"
   ]
  },
  {
   "cell_type": "code",
   "execution_count": 71,
   "id": "155da998",
   "metadata": {},
   "outputs": [
    {
     "data": {
      "text/plain": [
       "([0, 3, 7, 9, 5, 8, 2, 6, 4, 1],\n",
       " [1.0000001192092896,\n",
       "  0.47952544689178467,\n",
       "  0.47258275747299194,\n",
       "  0.42199546098709106,\n",
       "  0.23024627566337585,\n",
       "  0.1796545386314392,\n",
       "  0.09474027156829834,\n",
       "  0.07530471682548523,\n",
       "  0.0,\n",
       "  0.0])"
      ]
     },
     "execution_count": 71,
     "metadata": {},
     "output_type": "execute_result"
    }
   ],
   "source": [
    "# オブザーベーション0に対する類似上位のオブザーベーション番号と、類似度\n",
    "res['similar_texts'][0], res['cosine_similarities'][0]"
   ]
  },
  {
   "cell_type": "code",
   "execution_count": 73,
   "id": "554586aa",
   "metadata": {},
   "outputs": [],
   "source": [
    "# コサイン類似度の計算確認\n",
    "\n",
    "def cos_sim(v1, v2):\n",
    "    return np.dot(v1, v2) / (np.linalg.norm(v1) * np.linalg.norm(v2))"
   ]
  },
  {
   "cell_type": "code",
   "execution_count": 76,
   "id": "2238f01d",
   "metadata": {},
   "outputs": [
    {
     "data": {
      "text/plain": [
       "0.9999999999999998"
      ]
     },
     "execution_count": 76,
     "metadata": {},
     "output_type": "execute_result"
    }
   ],
   "source": [
    "cos_sim(res['embeddings'][0], res['embeddings'][0])"
   ]
  },
  {
   "cell_type": "code",
   "execution_count": 77,
   "id": "7ec94e3c",
   "metadata": {},
   "outputs": [
    {
     "data": {
      "text/plain": [
       "0.47952548594556316"
      ]
     },
     "execution_count": 77,
     "metadata": {},
     "output_type": "execute_result"
    }
   ],
   "source": [
    "cos_sim(res['embeddings'][0], res['embeddings'][3])"
   ]
  },
  {
   "cell_type": "code",
   "execution_count": 78,
   "id": "2a70ee97",
   "metadata": {},
   "outputs": [
    {
     "data": {
      "text/plain": [
       "0.4725827409980136"
      ]
     },
     "execution_count": 78,
     "metadata": {},
     "output_type": "execute_result"
    }
   ],
   "source": [
    "cos_sim(res['embeddings'][0], res['embeddings'][7])"
   ]
  },
  {
   "cell_type": "code",
   "execution_count": 83,
   "id": "e9992c53",
   "metadata": {},
   "outputs": [
    {
     "data": {
      "text/plain": [
       "[0.9999999999999998,\n",
       " -0.044221069318673166,\n",
       " 0.09474025937944765,\n",
       " 0.47952548594556316,\n",
       " -0.13586338860603503,\n",
       " 0.23024626356168726,\n",
       " 0.07530470831608085,\n",
       " 0.4725827409980136,\n",
       " 0.17965452589983175,\n",
       " 0.42199543138073586]"
      ]
     },
     "execution_count": 83,
     "metadata": {},
     "output_type": "execute_result"
    }
   ],
   "source": [
    "# オブザーベーション0に対するその他のオブザーベーション間との類似度\n",
    "[cos_sim(res['embeddings'][0], i) for i in res['embeddings']]"
   ]
  },
  {
   "cell_type": "code",
   "execution_count": null,
   "id": "d98c4560",
   "metadata": {},
   "outputs": [],
   "source": []
  }
 ],
 "metadata": {
  "kernelspec": {
   "display_name": "Python 3 (ipykernel)",
   "language": "python",
   "name": "python3"
  },
  "language_info": {
   "codemirror_mode": {
    "name": "ipython",
    "version": 3
   },
   "file_extension": ".py",
   "mimetype": "text/x-python",
   "name": "python",
   "nbconvert_exporter": "python",
   "pygments_lexer": "ipython3",
   "version": "3.8.13"
  }
 },
 "nbformat": 4,
 "nbformat_minor": 5
}
