{
 "cells": [
  {
   "cell_type": "markdown",
   "id": "04a37805",
   "metadata": {},
   "source": [
    "# MLOpsへのスコアリングリクエスト"
   ]
  },
  {
   "cell_type": "markdown",
   "id": "1c41c42a",
   "metadata": {},
   "source": [
    "トレーニング環境（[Aqualium](https://aquarium.h2o.ai/login)）Lab 3 MLOps Test Driveに作成済みProject（UCI_Credit_Card）へのHTTPリクエストの実施例"
   ]
  },
  {
   "cell_type": "markdown",
   "id": "4b655d8b",
   "metadata": {},
   "source": [
    "手順：\n",
    "1. Aqualium Lab3の起動\n",
    "2. MLOpsへのログイン\n",
    "3. モデル（UCI_Credit_CardとしてExperimentが実施済み）のデプロイ（No sequlity or Passphrase）\n",
    "4. デプロイ済みモデルからのサンプルリクエストの取得（Show sample request）"
   ]
  },
  {
   "cell_type": "markdown",
   "id": "80b99a73",
   "metadata": {},
   "source": [
    "![sample_curl](image/sample_curl.png)"
   ]
  },
  {
   "cell_type": "markdown",
   "id": "227b4827",
   "metadata": {},
   "source": [
    "HTTPリクエスト（No sequlity）の実施"
   ]
  },
  {
   "cell_type": "markdown",
   "id": "7b6b0a4e",
   "metadata": {},
   "source": [
    "```bash\n",
    "curl -X POST -H \"Content-Type: application/json\" -d @- http://52.39.41.18:1080/b79a24e5-351b-4390-aca9-7537f4a095a1/model/score << EOF\n",
    "{\n",
    "  \"fields\": [\"LIMIT_BAL\", \"SEX\", \"EDUCATION\", \"MARRIAGE\", \"AGE\", \"PAY_0\", \"PAY_2\", \"PAY_3\", \"PAY_4\", \"PAY_5\", \"PAY_6\", \"BILL_AMT1\", \"BILL_AMT2\", \"BILL_AMT3\", \"BILL_AMT4\", \"BILL_AMT5\", \"PAY_AMT1\", \"PAY_AMT2\", \"PAY_AMT3\", \"PAY_AMT4\", \"PAY_AMT5\", \"PAY_AMT6\"],\n",
    "  \"rows\": [\n",
    "    [\"0\", \"0\", \"0\", \"0\", \"0\", \"0\", \"0\", \"0\", \"0\", \"0\", \"0\", \"0\", \"0\", \"0\", \"0\", \"0\", \"0\", \"0\", \"0\", \"0\", \"0\", \"0\"]\n",
    "  ]\n",
    "}\n",
    "EOF\n",
    "```"
   ]
  },
  {
   "cell_type": "markdown",
   "id": "802c1344",
   "metadata": {},
   "source": [
    "MLOpsからの応答"
   ]
  },
  {
   "cell_type": "markdown",
   "id": "7372427f",
   "metadata": {},
   "source": [
    "```bash\n",
    "{\"fields\":[\"default payment next month.0\",\"default payment next month.1\"],\"id\":\"1a6280c6-1f71-11eb-a0a1-0242ac11000f\",\"score\":[[\"0.6314364746212959\",\"0.36856352537870407\"]]}\n",
    "```"
   ]
  },
  {
   "cell_type": "markdown",
   "id": "735947cb",
   "metadata": {},
   "source": [
    "## Python ([Request](https://requests-docs-ja.readthedocs.io/en/latest/#))での実施"
   ]
  },
  {
   "cell_type": "code",
   "execution_count": 5,
   "id": "cdb3ef70",
   "metadata": {},
   "outputs": [],
   "source": [
    "import requests\n",
    "import json\n",
    "import pandas as pd"
   ]
  },
  {
   "cell_type": "code",
   "execution_count": 24,
   "id": "8d6bcc9d",
   "metadata": {},
   "outputs": [],
   "source": [
    "# APIポイント\n",
    "api_point = \"http://54.185.209.232:1080/236bbf9b-ad2b-4f9f-b7bc-bb8117aff854/model/score\"\n",
    "# header\n",
    "headers = {'Content-Type': 'application/json'}"
   ]
  },
  {
   "cell_type": "code",
   "execution_count": 25,
   "id": "047a8060",
   "metadata": {},
   "outputs": [],
   "source": [
    "# カラム定義\n",
    "columns = [\"LIMIT_BAL\", \"SEX\", \"EDUCATION\", \"MARRIAGE\", \"AGE\", \"PAY_0\", \"PAY_2\", \"PAY_3\", \"PAY_4\", \"PAY_5\", \"PAY_6\", \"BILL_AMT1\", \"BILL_AMT2\", \"BILL_AMT3\", \"BILL_AMT4\", \"BILL_AMT5\", \"PAY_AMT1\", \"PAY_AMT2\", \"PAY_AMT3\", \"PAY_AMT4\", \"PAY_AMT5\", \"PAY_AMT6\"]"
   ]
  },
  {
   "cell_type": "code",
   "execution_count": 99,
   "id": "628aa00d",
   "metadata": {},
   "outputs": [],
   "source": [
    "## 数値Listの文字列化\n",
    "\n",
    "def elem_to_str(lst):\n",
    "    ''' [1,2,3]  ->  ['1','2','3']\n",
    "    '''\n",
    "    return [str(elem) for elem in lst]\n",
    "\n",
    "def list_to_str(lst_external):\n",
    "    ''' [[1,2,3], [4,5,6]]  ->  [['1','2','3'], ['4','5','6']]\n",
    "    '''\n",
    "    lst_return = []\n",
    "    for lst in lst_external:\n",
    "        lst_return.append(elem_to_str(lst))\n",
    "    return lst_return"
   ]
  },
  {
   "cell_type": "code",
   "execution_count": 128,
   "id": "180997cd",
   "metadata": {},
   "outputs": [],
   "source": [
    "## pred(y=1)をListで返す\n",
    "\n",
    "def get_pred(res_lst):\n",
    "    proba_list = []\n",
    "    for lst in res_lst:\n",
    "        proba_list.append(float(lst[1]))\n",
    "    return proba_list"
   ]
  },
  {
   "cell_type": "markdown",
   "id": "2fa52735",
   "metadata": {},
   "source": [
    "### 1行スコアリング"
   ]
  },
  {
   "cell_type": "code",
   "execution_count": 129,
   "id": "708dea8c",
   "metadata": {},
   "outputs": [
    {
     "data": {
      "text/plain": [
       "[['0',\n",
       "  '0',\n",
       "  '0',\n",
       "  '0',\n",
       "  '0',\n",
       "  '0',\n",
       "  '0',\n",
       "  '0',\n",
       "  '0',\n",
       "  '0',\n",
       "  '0',\n",
       "  '0',\n",
       "  '0',\n",
       "  '0',\n",
       "  '0',\n",
       "  '0',\n",
       "  '0',\n",
       "  '0',\n",
       "  '0',\n",
       "  '0',\n",
       "  '0',\n",
       "  '0']]"
      ]
     },
     "execution_count": 129,
     "metadata": {},
     "output_type": "execute_result"
    }
   ],
   "source": [
    "data = [[0,0,0,0,0,0,0,0,0,0,0,0,0,0,0,0,0,0,0,0,0,0]]\n",
    "list_to_str(data)"
   ]
  },
  {
   "cell_type": "code",
   "execution_count": 130,
   "id": "5f8a0eef",
   "metadata": {},
   "outputs": [
    {
     "data": {
      "text/plain": [
       "{'fields': ['LIMIT_BAL',\n",
       "  'SEX',\n",
       "  'EDUCATION',\n",
       "  'MARRIAGE',\n",
       "  'AGE',\n",
       "  'PAY_0',\n",
       "  'PAY_2',\n",
       "  'PAY_3',\n",
       "  'PAY_4',\n",
       "  'PAY_5',\n",
       "  'PAY_6',\n",
       "  'BILL_AMT1',\n",
       "  'BILL_AMT2',\n",
       "  'BILL_AMT3',\n",
       "  'BILL_AMT4',\n",
       "  'BILL_AMT5',\n",
       "  'PAY_AMT1',\n",
       "  'PAY_AMT2',\n",
       "  'PAY_AMT3',\n",
       "  'PAY_AMT4',\n",
       "  'PAY_AMT5',\n",
       "  'PAY_AMT6'],\n",
       " 'rows': [['0',\n",
       "   '0',\n",
       "   '0',\n",
       "   '0',\n",
       "   '0',\n",
       "   '0',\n",
       "   '0',\n",
       "   '0',\n",
       "   '0',\n",
       "   '0',\n",
       "   '0',\n",
       "   '0',\n",
       "   '0',\n",
       "   '0',\n",
       "   '0',\n",
       "   '0',\n",
       "   '0',\n",
       "   '0',\n",
       "   '0',\n",
       "   '0',\n",
       "   '0',\n",
       "   '0']]}"
      ]
     },
     "execution_count": 130,
     "metadata": {},
     "output_type": "execute_result"
    }
   ],
   "source": [
    "json_data = {\"fields\":columns, \"rows\":list_to_str(data)}\n",
    "json_data"
   ]
  },
  {
   "cell_type": "code",
   "execution_count": 131,
   "id": "40545b63",
   "metadata": {},
   "outputs": [
    {
     "data": {
      "text/plain": [
       "'{\"fields\": [\"LIMIT_BAL\", \"SEX\", \"EDUCATION\", \"MARRIAGE\", \"AGE\", \"PAY_0\", \"PAY_2\", \"PAY_3\", \"PAY_4\", \"PAY_5\", \"PAY_6\", \"BILL_AMT1\", \"BILL_AMT2\", \"BILL_AMT3\", \"BILL_AMT4\", \"BILL_AMT5\", \"PAY_AMT1\", \"PAY_AMT2\", \"PAY_AMT3\", \"PAY_AMT4\", \"PAY_AMT5\", \"PAY_AMT6\"], \"rows\": [[\"0\", \"0\", \"0\", \"0\", \"0\", \"0\", \"0\", \"0\", \"0\", \"0\", \"0\", \"0\", \"0\", \"0\", \"0\", \"0\", \"0\", \"0\", \"0\", \"0\", \"0\", \"0\"]]}'"
      ]
     },
     "execution_count": 131,
     "metadata": {},
     "output_type": "execute_result"
    }
   ],
   "source": [
    "# POSTするデータ\n",
    "json.dumps(json_data)"
   ]
  },
  {
   "cell_type": "code",
   "execution_count": 132,
   "id": "d3c7b635",
   "metadata": {},
   "outputs": [
    {
     "data": {
      "text/plain": [
       "<Response [200]>"
      ]
     },
     "execution_count": 132,
     "metadata": {},
     "output_type": "execute_result"
    }
   ],
   "source": [
    "response = requests.post(url=api_point, headers=headers, data=json.dumps(json_data))\n",
    "response"
   ]
  },
  {
   "cell_type": "code",
   "execution_count": 133,
   "id": "ebf30eb3",
   "metadata": {},
   "outputs": [
    {
     "data": {
      "text/plain": [
       "{'fields': ['default payment next month.0', 'default payment next month.1'],\n",
       " 'id': '1a6280c6-1f71-11eb-a0a1-0242ac11000f',\n",
       " 'score': [['0.6314364746212959', '0.36856352537870407']]}"
      ]
     },
     "execution_count": 133,
     "metadata": {},
     "output_type": "execute_result"
    }
   ],
   "source": [
    "response.json()"
   ]
  },
  {
   "cell_type": "code",
   "execution_count": 136,
   "id": "130327e5",
   "metadata": {},
   "outputs": [
    {
     "data": {
      "text/plain": [
       "[0.36856352537870407]"
      ]
     },
     "execution_count": 136,
     "metadata": {},
     "output_type": "execute_result"
    }
   ],
   "source": [
    "# prob(y=1)の取得\n",
    "get_pred(response.json()['score'])"
   ]
  },
  {
   "cell_type": "markdown",
   "id": "991b66c0",
   "metadata": {},
   "source": [
    "### 複数行スコアリング"
   ]
  },
  {
   "cell_type": "code",
   "execution_count": 137,
   "id": "6c475938",
   "metadata": {},
   "outputs": [
    {
     "data": {
      "text/plain": [
       "{'fields': ['default payment next month.0', 'default payment next month.1'],\n",
       " 'id': '1a6280c6-1f71-11eb-a0a1-0242ac11000f',\n",
       " 'score': [['0.6314364746212959', '0.36856352537870407'],\n",
       "  ['0.901497257873416', '0.09850274212658405'],\n",
       "  ['0.8544589467346668', '0.14554105326533318']]}"
      ]
     },
     "execution_count": 137,
     "metadata": {},
     "output_type": "execute_result"
    }
   ],
   "source": [
    "data = [[0,0,0,0,0,0,0,0,0,0,0,0,0,0,0,0,0,0,0,0,0,0], \n",
    "              [90000,2,2,2,34,0,0,0,0,0,0,29239,14027,13559,14331,14948,1518,1500,1000,1000,1000,5000],\n",
    "              [50000,2,2,1,37,0,0,0,0,0,0,46990,48233,49291,28314,28959,2000,2019,1200,1100,1069,1000]]\n",
    "\n",
    "json_data = {\"fields\":columns, \"rows\":to_str_list(data)}\n",
    "response = requests.post(url=api_point, headers=headers, data=json.dumps(json_data))\n",
    "response.json()"
   ]
  },
  {
   "cell_type": "code",
   "execution_count": 138,
   "id": "ddf70e0c",
   "metadata": {},
   "outputs": [
    {
     "data": {
      "text/plain": [
       "[0.36856352537870407, 0.09850274212658405, 0.14554105326533318]"
      ]
     },
     "execution_count": 138,
     "metadata": {},
     "output_type": "execute_result"
    }
   ],
   "source": [
    "get_pred(response.json()['score'])"
   ]
  },
  {
   "cell_type": "markdown",
   "id": "8fb47ca7",
   "metadata": {},
   "source": [
    "### csvからのスコアリング"
   ]
  },
  {
   "cell_type": "code",
   "execution_count": 141,
   "id": "2f4e09b7",
   "metadata": {},
   "outputs": [
    {
     "name": "stdout",
     "output_type": "stream",
     "text": [
      "(7, 22)\n"
     ]
    },
    {
     "data": {
      "text/html": [
       "<div>\n",
       "<style scoped>\n",
       "    .dataframe tbody tr th:only-of-type {\n",
       "        vertical-align: middle;\n",
       "    }\n",
       "\n",
       "    .dataframe tbody tr th {\n",
       "        vertical-align: top;\n",
       "    }\n",
       "\n",
       "    .dataframe thead th {\n",
       "        text-align: right;\n",
       "    }\n",
       "</style>\n",
       "<table border=\"1\" class=\"dataframe\">\n",
       "  <thead>\n",
       "    <tr style=\"text-align: right;\">\n",
       "      <th></th>\n",
       "      <th>LIMIT_BAL</th>\n",
       "      <th>SEX</th>\n",
       "      <th>EDUCATION</th>\n",
       "      <th>MARRIAGE</th>\n",
       "      <th>AGE</th>\n",
       "      <th>PAY_0</th>\n",
       "      <th>PAY_2</th>\n",
       "      <th>PAY_3</th>\n",
       "      <th>PAY_4</th>\n",
       "      <th>PAY_5</th>\n",
       "      <th>...</th>\n",
       "      <th>BILL_AMT2</th>\n",
       "      <th>BILL_AMT3</th>\n",
       "      <th>BILL_AMT4</th>\n",
       "      <th>BILL_AMT5</th>\n",
       "      <th>PAY_AMT1</th>\n",
       "      <th>PAY_AMT2</th>\n",
       "      <th>PAY_AMT3</th>\n",
       "      <th>PAY_AMT4</th>\n",
       "      <th>PAY_AMT5</th>\n",
       "      <th>PAY_AMT6</th>\n",
       "    </tr>\n",
       "  </thead>\n",
       "  <tbody>\n",
       "    <tr>\n",
       "      <th>0</th>\n",
       "      <td>20000</td>\n",
       "      <td>2</td>\n",
       "      <td>2</td>\n",
       "      <td>1</td>\n",
       "      <td>24</td>\n",
       "      <td>2</td>\n",
       "      <td>2</td>\n",
       "      <td>-1</td>\n",
       "      <td>-1</td>\n",
       "      <td>-2</td>\n",
       "      <td>...</td>\n",
       "      <td>3102</td>\n",
       "      <td>689</td>\n",
       "      <td>0</td>\n",
       "      <td>0</td>\n",
       "      <td>0</td>\n",
       "      <td>689</td>\n",
       "      <td>0</td>\n",
       "      <td>0</td>\n",
       "      <td>0</td>\n",
       "      <td>0</td>\n",
       "    </tr>\n",
       "    <tr>\n",
       "      <th>1</th>\n",
       "      <td>120000</td>\n",
       "      <td>2</td>\n",
       "      <td>2</td>\n",
       "      <td>2</td>\n",
       "      <td>26</td>\n",
       "      <td>-1</td>\n",
       "      <td>2</td>\n",
       "      <td>0</td>\n",
       "      <td>0</td>\n",
       "      <td>0</td>\n",
       "      <td>...</td>\n",
       "      <td>1725</td>\n",
       "      <td>2682</td>\n",
       "      <td>3272</td>\n",
       "      <td>3455</td>\n",
       "      <td>0</td>\n",
       "      <td>1000</td>\n",
       "      <td>1000</td>\n",
       "      <td>1000</td>\n",
       "      <td>0</td>\n",
       "      <td>2000</td>\n",
       "    </tr>\n",
       "    <tr>\n",
       "      <th>2</th>\n",
       "      <td>90000</td>\n",
       "      <td>2</td>\n",
       "      <td>2</td>\n",
       "      <td>2</td>\n",
       "      <td>34</td>\n",
       "      <td>0</td>\n",
       "      <td>0</td>\n",
       "      <td>0</td>\n",
       "      <td>0</td>\n",
       "      <td>0</td>\n",
       "      <td>...</td>\n",
       "      <td>14027</td>\n",
       "      <td>13559</td>\n",
       "      <td>14331</td>\n",
       "      <td>14948</td>\n",
       "      <td>1518</td>\n",
       "      <td>1500</td>\n",
       "      <td>1000</td>\n",
       "      <td>1000</td>\n",
       "      <td>1000</td>\n",
       "      <td>5000</td>\n",
       "    </tr>\n",
       "    <tr>\n",
       "      <th>3</th>\n",
       "      <td>50000</td>\n",
       "      <td>2</td>\n",
       "      <td>2</td>\n",
       "      <td>1</td>\n",
       "      <td>37</td>\n",
       "      <td>0</td>\n",
       "      <td>0</td>\n",
       "      <td>0</td>\n",
       "      <td>0</td>\n",
       "      <td>0</td>\n",
       "      <td>...</td>\n",
       "      <td>48233</td>\n",
       "      <td>49291</td>\n",
       "      <td>28314</td>\n",
       "      <td>28959</td>\n",
       "      <td>2000</td>\n",
       "      <td>2019</td>\n",
       "      <td>1200</td>\n",
       "      <td>1100</td>\n",
       "      <td>1069</td>\n",
       "      <td>1000</td>\n",
       "    </tr>\n",
       "    <tr>\n",
       "      <th>4</th>\n",
       "      <td>50000</td>\n",
       "      <td>1</td>\n",
       "      <td>2</td>\n",
       "      <td>1</td>\n",
       "      <td>57</td>\n",
       "      <td>-1</td>\n",
       "      <td>0</td>\n",
       "      <td>-1</td>\n",
       "      <td>0</td>\n",
       "      <td>0</td>\n",
       "      <td>...</td>\n",
       "      <td>5670</td>\n",
       "      <td>35835</td>\n",
       "      <td>20940</td>\n",
       "      <td>19146</td>\n",
       "      <td>2000</td>\n",
       "      <td>36681</td>\n",
       "      <td>10000</td>\n",
       "      <td>9000</td>\n",
       "      <td>689</td>\n",
       "      <td>679</td>\n",
       "    </tr>\n",
       "    <tr>\n",
       "      <th>5</th>\n",
       "      <td>50000</td>\n",
       "      <td>1</td>\n",
       "      <td>1</td>\n",
       "      <td>2</td>\n",
       "      <td>37</td>\n",
       "      <td>0</td>\n",
       "      <td>0</td>\n",
       "      <td>0</td>\n",
       "      <td>0</td>\n",
       "      <td>0</td>\n",
       "      <td>...</td>\n",
       "      <td>57069</td>\n",
       "      <td>57608</td>\n",
       "      <td>19394</td>\n",
       "      <td>19619</td>\n",
       "      <td>2500</td>\n",
       "      <td>1815</td>\n",
       "      <td>657</td>\n",
       "      <td>1000</td>\n",
       "      <td>1000</td>\n",
       "      <td>800</td>\n",
       "    </tr>\n",
       "    <tr>\n",
       "      <th>6</th>\n",
       "      <td>500000</td>\n",
       "      <td>1</td>\n",
       "      <td>1</td>\n",
       "      <td>2</td>\n",
       "      <td>29</td>\n",
       "      <td>0</td>\n",
       "      <td>0</td>\n",
       "      <td>0</td>\n",
       "      <td>0</td>\n",
       "      <td>0</td>\n",
       "      <td>...</td>\n",
       "      <td>412023</td>\n",
       "      <td>445007</td>\n",
       "      <td>542653</td>\n",
       "      <td>483003</td>\n",
       "      <td>55000</td>\n",
       "      <td>40000</td>\n",
       "      <td>38000</td>\n",
       "      <td>20239</td>\n",
       "      <td>13750</td>\n",
       "      <td>13770</td>\n",
       "    </tr>\n",
       "  </tbody>\n",
       "</table>\n",
       "<p>7 rows × 22 columns</p>\n",
       "</div>"
      ],
      "text/plain": [
       "   LIMIT_BAL  SEX  EDUCATION  MARRIAGE  AGE  PAY_0  PAY_2  PAY_3  PAY_4  \\\n",
       "0      20000    2          2         1   24      2      2     -1     -1   \n",
       "1     120000    2          2         2   26     -1      2      0      0   \n",
       "2      90000    2          2         2   34      0      0      0      0   \n",
       "3      50000    2          2         1   37      0      0      0      0   \n",
       "4      50000    1          2         1   57     -1      0     -1      0   \n",
       "5      50000    1          1         2   37      0      0      0      0   \n",
       "6     500000    1          1         2   29      0      0      0      0   \n",
       "\n",
       "   PAY_5  ...  BILL_AMT2  BILL_AMT3  BILL_AMT4  BILL_AMT5  PAY_AMT1  PAY_AMT2  \\\n",
       "0     -2  ...       3102        689          0          0         0       689   \n",
       "1      0  ...       1725       2682       3272       3455         0      1000   \n",
       "2      0  ...      14027      13559      14331      14948      1518      1500   \n",
       "3      0  ...      48233      49291      28314      28959      2000      2019   \n",
       "4      0  ...       5670      35835      20940      19146      2000     36681   \n",
       "5      0  ...      57069      57608      19394      19619      2500      1815   \n",
       "6      0  ...     412023     445007     542653     483003     55000     40000   \n",
       "\n",
       "   PAY_AMT3  PAY_AMT4  PAY_AMT5  PAY_AMT6  \n",
       "0         0         0         0         0  \n",
       "1      1000      1000         0      2000  \n",
       "2      1000      1000      1000      5000  \n",
       "3      1200      1100      1069      1000  \n",
       "4     10000      9000       689       679  \n",
       "5       657      1000      1000       800  \n",
       "6     38000     20239     13750     13770  \n",
       "\n",
       "[7 rows x 22 columns]"
      ]
     },
     "execution_count": 141,
     "metadata": {},
     "output_type": "execute_result"
    }
   ],
   "source": [
    "df = pd.read_csv('sample_scoring_UciCreditCard.csv')\n",
    "print(df.shape)\n",
    "df"
   ]
  },
  {
   "cell_type": "code",
   "execution_count": 162,
   "id": "87b9d4a5",
   "metadata": {},
   "outputs": [
    {
     "data": {
      "text/plain": [
       "LIMIT_BAL    object\n",
       "SEX          object\n",
       "EDUCATION    object\n",
       "MARRIAGE     object\n",
       "AGE          object\n",
       "PAY_0        object\n",
       "PAY_2        object\n",
       "PAY_3        object\n",
       "PAY_4        object\n",
       "PAY_5        object\n",
       "PAY_6        object\n",
       "BILL_AMT1    object\n",
       "BILL_AMT2    object\n",
       "BILL_AMT3    object\n",
       "BILL_AMT4    object\n",
       "BILL_AMT5    object\n",
       "PAY_AMT1     object\n",
       "PAY_AMT2     object\n",
       "PAY_AMT3     object\n",
       "PAY_AMT4     object\n",
       "PAY_AMT5     object\n",
       "PAY_AMT6     object\n",
       "dtype: object"
      ]
     },
     "execution_count": 162,
     "metadata": {},
     "output_type": "execute_result"
    }
   ],
   "source": [
    "# データ型の変換\n",
    "df_str = df.astype(str)\n",
    "df_str.dtypes"
   ]
  },
  {
   "cell_type": "code",
   "execution_count": 163,
   "id": "79b66753",
   "metadata": {
    "scrolled": false
   },
   "outputs": [
    {
     "data": {
      "text/plain": [
       "{'columns': ['LIMIT_BAL',\n",
       "  'SEX',\n",
       "  'EDUCATION',\n",
       "  'MARRIAGE',\n",
       "  'AGE',\n",
       "  'PAY_0',\n",
       "  'PAY_2',\n",
       "  'PAY_3',\n",
       "  'PAY_4',\n",
       "  'PAY_5',\n",
       "  'PAY_6',\n",
       "  'BILL_AMT1',\n",
       "  'BILL_AMT2',\n",
       "  'BILL_AMT3',\n",
       "  'BILL_AMT4',\n",
       "  'BILL_AMT5',\n",
       "  'PAY_AMT1',\n",
       "  'PAY_AMT2',\n",
       "  'PAY_AMT3',\n",
       "  'PAY_AMT4',\n",
       "  'PAY_AMT5',\n",
       "  'PAY_AMT6'],\n",
       " 'index': [0, 1, 2, 3, 4, 5, 6],\n",
       " 'data': [['20000',\n",
       "   '2',\n",
       "   '2',\n",
       "   '1',\n",
       "   '24',\n",
       "   '2',\n",
       "   '2',\n",
       "   '-1',\n",
       "   '-1',\n",
       "   '-2',\n",
       "   '-2',\n",
       "   '3913',\n",
       "   '3102',\n",
       "   '689',\n",
       "   '0',\n",
       "   '0',\n",
       "   '0',\n",
       "   '689',\n",
       "   '0',\n",
       "   '0',\n",
       "   '0',\n",
       "   '0'],\n",
       "  ['120000',\n",
       "   '2',\n",
       "   '2',\n",
       "   '2',\n",
       "   '26',\n",
       "   '-1',\n",
       "   '2',\n",
       "   '0',\n",
       "   '0',\n",
       "   '0',\n",
       "   '2',\n",
       "   '2682',\n",
       "   '1725',\n",
       "   '2682',\n",
       "   '3272',\n",
       "   '3455',\n",
       "   '0',\n",
       "   '1000',\n",
       "   '1000',\n",
       "   '1000',\n",
       "   '0',\n",
       "   '2000'],\n",
       "  ['90000',\n",
       "   '2',\n",
       "   '2',\n",
       "   '2',\n",
       "   '34',\n",
       "   '0',\n",
       "   '0',\n",
       "   '0',\n",
       "   '0',\n",
       "   '0',\n",
       "   '0',\n",
       "   '29239',\n",
       "   '14027',\n",
       "   '13559',\n",
       "   '14331',\n",
       "   '14948',\n",
       "   '1518',\n",
       "   '1500',\n",
       "   '1000',\n",
       "   '1000',\n",
       "   '1000',\n",
       "   '5000'],\n",
       "  ['50000',\n",
       "   '2',\n",
       "   '2',\n",
       "   '1',\n",
       "   '37',\n",
       "   '0',\n",
       "   '0',\n",
       "   '0',\n",
       "   '0',\n",
       "   '0',\n",
       "   '0',\n",
       "   '46990',\n",
       "   '48233',\n",
       "   '49291',\n",
       "   '28314',\n",
       "   '28959',\n",
       "   '2000',\n",
       "   '2019',\n",
       "   '1200',\n",
       "   '1100',\n",
       "   '1069',\n",
       "   '1000'],\n",
       "  ['50000',\n",
       "   '1',\n",
       "   '2',\n",
       "   '1',\n",
       "   '57',\n",
       "   '-1',\n",
       "   '0',\n",
       "   '-1',\n",
       "   '0',\n",
       "   '0',\n",
       "   '0',\n",
       "   '8617',\n",
       "   '5670',\n",
       "   '35835',\n",
       "   '20940',\n",
       "   '19146',\n",
       "   '2000',\n",
       "   '36681',\n",
       "   '10000',\n",
       "   '9000',\n",
       "   '689',\n",
       "   '679'],\n",
       "  ['50000',\n",
       "   '1',\n",
       "   '1',\n",
       "   '2',\n",
       "   '37',\n",
       "   '0',\n",
       "   '0',\n",
       "   '0',\n",
       "   '0',\n",
       "   '0',\n",
       "   '0',\n",
       "   '64400',\n",
       "   '57069',\n",
       "   '57608',\n",
       "   '19394',\n",
       "   '19619',\n",
       "   '2500',\n",
       "   '1815',\n",
       "   '657',\n",
       "   '1000',\n",
       "   '1000',\n",
       "   '800'],\n",
       "  ['500000',\n",
       "   '1',\n",
       "   '1',\n",
       "   '2',\n",
       "   '29',\n",
       "   '0',\n",
       "   '0',\n",
       "   '0',\n",
       "   '0',\n",
       "   '0',\n",
       "   '0',\n",
       "   '367965',\n",
       "   '412023',\n",
       "   '445007',\n",
       "   '542653',\n",
       "   '483003',\n",
       "   '55000',\n",
       "   '40000',\n",
       "   '38000',\n",
       "   '20239',\n",
       "   '13750',\n",
       "   '13770']]}"
      ]
     },
     "execution_count": 163,
     "metadata": {},
     "output_type": "execute_result"
    }
   ],
   "source": [
    "# pandas.DataFrameから、jsonに変換\n",
    "json_data = df_str.to_json(orient=\"split\")\n",
    "json_data = json.loads(json_data)\n",
    "json_data"
   ]
  },
  {
   "cell_type": "code",
   "execution_count": 164,
   "id": "b787bc0c",
   "metadata": {},
   "outputs": [],
   "source": [
    "# キー名の変更\n",
    "json_data['fields'] = json_data['columns']\n",
    "del json_data['columns']\n",
    "json_data['rows'] = json_data['data']\n",
    "del json_data['data']"
   ]
  },
  {
   "cell_type": "code",
   "execution_count": 166,
   "id": "b3a922c5",
   "metadata": {},
   "outputs": [
    {
     "data": {
      "text/plain": [
       "{'fields': ['default payment next month.0', 'default payment next month.1'],\n",
       " 'id': '1a6280c6-1f71-11eb-a0a1-0242ac11000f',\n",
       " 'score': [['0.3035139739513397', '0.6964860260486603'],\n",
       "  ['0.6079196035861969', '0.3920803964138031'],\n",
       "  ['0.901497257873416', '0.09850274212658405'],\n",
       "  ['0.8544589467346668', '0.14554105326533318'],\n",
       "  ['0.89368318580091', '0.10631681419909'],\n",
       "  ['0.856270395219326', '0.14372960478067398'],\n",
       "  ['0.8821506686508656', '0.11784933134913445']]}"
      ]
     },
     "execution_count": 166,
     "metadata": {},
     "output_type": "execute_result"
    }
   ],
   "source": [
    "response = requests.post(url=api_point, headers=headers, data=json.dumps(json_data))\n",
    "response.json()"
   ]
  },
  {
   "cell_type": "code",
   "execution_count": 167,
   "id": "2daa2bfd",
   "metadata": {},
   "outputs": [
    {
     "data": {
      "text/plain": [
       "[0.6964860260486603,\n",
       " 0.3920803964138031,\n",
       " 0.09850274212658405,\n",
       " 0.14554105326533318,\n",
       " 0.10631681419909,\n",
       " 0.14372960478067398,\n",
       " 0.11784933134913445]"
      ]
     },
     "execution_count": 167,
     "metadata": {},
     "output_type": "execute_result"
    }
   ],
   "source": [
    "get_pred(response.json()['score'])"
   ]
  },
  {
   "cell_type": "markdown",
   "id": "608855bd",
   "metadata": {},
   "source": [
    "### Passphraseを指定した場合\n",
    "デプロイの際のEndpoint Security Levelを、\"Passphrase (scored as plain text)\"もしくは\"Passphrase (stored hashed)\"を選択"
   ]
  },
  {
   "cell_type": "markdown",
   "id": "cea7547d",
   "metadata": {},
   "source": [
    "![sample_curl_pass](image/sample_curl_pass.png)"
   ]
  },
  {
   "cell_type": "markdown",
   "id": "1f2d6df7",
   "metadata": {},
   "source": [
    "```bash\n",
    "curl -X POST -H \"Content-Type: application/json\" -H \"Authorization: Bearer mypassword\" -d @- http://54.185.209.232:1080/efddad09-91d2-4f3e-a51f-dd95650fe63b/model/score << EOF\n",
    "{\n",
    "  \"fields\": [\"LIMIT_BAL\", \"SEX\", \"EDUCATION\", \"MARRIAGE\", \"AGE\", \"PAY_0\", \"PAY_2\", \"PAY_3\", \"PAY_4\", \"PAY_5\", \"PAY_6\", \"BILL_AMT1\", \"BILL_AMT2\", \"BILL_AMT3\", \"BILL_AMT4\", \"BILL_AMT5\", \"PAY_AMT1\", \"PAY_AMT2\", \"PAY_AMT3\", \"PAY_AMT4\", \"PAY_AMT5\", \"PAY_AMT6\"],\n",
    "  \"rows\": [\n",
    "    [\"0\", \"0\", \"0\", \"0\", \"0\", \"0\", \"0\", \"0\", \"0\", \"0\", \"0\", \"0\", \"0\", \"0\", \"0\", \"0\", \"0\", \"0\", \"0\", \"0\", \"0\", \"0\"]\n",
    "  ]\n",
    "}\n",
    "EOF\n",
    "```"
   ]
  },
  {
   "cell_type": "code",
   "execution_count": 178,
   "id": "4ef99daf",
   "metadata": {},
   "outputs": [],
   "source": [
    "# APIポイント\n",
    "api_point = \"http://54.185.209.232:1080/efddad09-91d2-4f3e-a51f-dd95650fe63b/model/score\"\n",
    "# header\n",
    "headers = {'Content-Type': 'application/json', 'Authorization': 'Bearer mypassword'}"
   ]
  },
  {
   "cell_type": "code",
   "execution_count": 179,
   "id": "3a8b2b14",
   "metadata": {},
   "outputs": [
    {
     "data": {
      "text/plain": [
       "{'fields': ['default payment next month.0', 'default payment next month.1'],\n",
       " 'id': '1a6280c6-1f71-11eb-a0a1-0242ac11000f',\n",
       " 'score': [['0.6314364746212959', '0.36856352537870407']]}"
      ]
     },
     "execution_count": 179,
     "metadata": {},
     "output_type": "execute_result"
    }
   ],
   "source": [
    "data = [[0,0,0,0,0,0,0,0,0,0,0,0,0,0,0,0,0,0,0,0,0,0]]\n",
    "json_data = {\"fields\":columns, \"rows\":to_str_list(data)}\n",
    "response = requests.post(url=api_point, headers=headers, data=json.dumps(json_data))\n",
    "response.json()"
   ]
  },
  {
   "cell_type": "code",
   "execution_count": null,
   "id": "70b1a6ba",
   "metadata": {},
   "outputs": [],
   "source": []
  }
 ],
 "metadata": {
  "kernelspec": {
   "display_name": "Python 3",
   "language": "python",
   "name": "python3"
  },
  "language_info": {
   "codemirror_mode": {
    "name": "ipython",
    "version": 3
   },
   "file_extension": ".py",
   "mimetype": "text/x-python",
   "name": "python",
   "nbconvert_exporter": "python",
   "pygments_lexer": "ipython3",
   "version": "3.8.3"
  }
 },
 "nbformat": 4,
 "nbformat_minor": 5
}
