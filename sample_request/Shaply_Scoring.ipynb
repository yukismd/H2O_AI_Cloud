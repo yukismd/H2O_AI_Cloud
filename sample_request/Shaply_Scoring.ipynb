{
 "cells": [
  {
   "cell_type": "markdown",
   "id": "f63b6a31",
   "metadata": {},
   "source": [
    "## Shaplyスコアリング"
   ]
  },
  {
   "cell_type": "markdown",
   "id": "8266a0fa",
   "metadata": {},
   "source": [
    "MLOps Model Deployments (Driverless AI Model - MOJO)\n",
    "- Artifact Type: DAI MOJO Pipeline\n",
    "- Runtime: DAI MOJO Scorer (Shapley original only)"
   ]
  },
  {
   "cell_type": "markdown",
   "id": "e2a966e5",
   "metadata": {},
   "source": [
    "<img src=\"image/MLOps_Shaply.png\" width=600px>"
   ]
  },
  {
   "cell_type": "code",
   "execution_count": null,
   "id": "ed025c47",
   "metadata": {},
   "outputs": [],
   "source": []
  },
  {
   "cell_type": "markdown",
   "id": "d8cc0938",
   "metadata": {},
   "source": [
    "HTTPリクエストの実施  \n",
    "\"requestShapleyValueType\": \"ORIGINAL\"をリクエストデータに追加"
   ]
  },
  {
   "cell_type": "markdown",
   "id": "0a8462f7",
   "metadata": {},
   "source": [
    "Document: https://docs.h2o.ai/mlops/model-scoring/shapley-values-support"
   ]
  },
  {
   "cell_type": "markdown",
   "id": "47ba7a2e",
   "metadata": {},
   "source": [
    "```bash\n",
    "curl -X POST -H \"Content-Type: application/json\" -d @- https://model.internal.dedicated.h2o.ai/30cbdf4e-be01-40f7-88ba-8ea05557073a/model/score << EOF\n",
    " {\n",
    "   \"fields\": [\n",
    "   \"EDUCATION\",\"MARRIAGE\",\"AGE\",\"PAY_1\",\"PAY_2\",\"PAY_3\",\"PAY_4\",\"PAY_5\",\"PAY_6\",\"BILL_AMT1\",\"BILL_AMT2\",\"BILL_AMT3\",\"BILL_AMT4\",\"BILL_AMT5\",\"BILL_AMT6\",\"PAY_AMT1\",\"PAY_AMT2\",\"PAY_AMT3\",\"PAY_AMT4\",\"PAY_AMT5\",\"PAY_AMT6\"\n",
    "   ],\n",
    "   \"rows\": [\n",
    "      [\n",
    "         \"text\",\"text\",\"0\",\"0\",\"0\",\"0\",\"0\",\"0\",\"0\",\"0\",\"0\",\"0\",\"0\",\"0\",\"0\",\"0\",\"0\",\"0\",\"0\",\"0\",\"0\"\n",
    "      ]\n",
    "   ], \n",
    "   \"requestShapleyValueType\": \"ORIGINAL\"\n",
    "} \n",
    "EOF\n",
    "```"
   ]
  },
  {
   "cell_type": "markdown",
   "id": "203ec6c9",
   "metadata": {},
   "source": [
    "MLOpsからの応答"
   ]
  },
  {
   "cell_type": "markdown",
   "id": "3b3abbe9",
   "metadata": {},
   "source": [
    "```bash\n",
    "{\n",
    "    \"id\":\"dfb0ac84-4634-11ef-b0ad-127940c2494e\",\n",
    "    \"fields\":[\"default_payment_next_month.0\",\"default_payment_next_month.1\"],\n",
    "    \"score\":[[\"0.6999526659713154\",\"0.30004733402868455\"]],\n",
    "    \"featureShapleyContributions\":{\"features\":[\"contrib_EDUCATION\",\"contrib_MARRIAGE\",\"contrib_AGE\",\"contrib_PAY_1\",\"contrib_PAY_2\",\"contrib_PAY_3\",\"contrib_PAY_4\",\"contrib_PAY_5\",\"contrib_PAY_6\",\"contrib_BILL_AMT1\",\"contrib_BILL_AMT2\",\"contrib_BILL_AMT3\",\"contrib_BILL_AMT4\",\"contrib_BILL_AMT5\",\"contrib_BILL_AMT6\",\"contrib_PAY_AMT1\",\"contrib_PAY_AMT2\",\"contrib_PAY_AMT3\",\"contrib_PAY_AMT4\",\"contrib_PAY_AMT5\",\"contrib_PAY_AMT6\",\"contrib_bias\"],\n",
    "    \"contributionGroups\":[\n",
    "            {\"contributions\":[[\"0.018954395175485188\",\"0.02064209376526759\",\"0.01739020325138992\",\"-0.09536292450482012\",\"-0.011726511778063973\",\"0.034657258684815145\",\"0.028547428357985582\",\"0.004374551135780689\",\"-0.03227419095513172\",\"0.10147395234465731\",\"-0.11532813084830755\",\"-0.0799173529898052\",\"-0.03746330075203831\",\"0.0064375793850206305\",\"-0.04033921631545275\",\"0.13440659277986233\",\"0.13308447886276945\",\"0.12261666806500486\",\"0.09766839374193757\",\"0.08133276094386327\",\"0.09352165490099\",\"-1.329768897488515\"]]\n",
    "        }\n",
    "    ]\n",
    "}\n",
    "```"
   ]
  },
  {
   "cell_type": "code",
   "execution_count": null,
   "id": "091fb7c8",
   "metadata": {},
   "outputs": [],
   "source": []
  },
  {
   "cell_type": "markdown",
   "id": "ff957812",
   "metadata": {},
   "source": [
    "### Python ([Request](https://requests-docs-ja.readthedocs.io/en/latest/#))での実施"
   ]
  },
  {
   "cell_type": "code",
   "execution_count": 42,
   "id": "ea0e06ad",
   "metadata": {},
   "outputs": [],
   "source": [
    "import requests\n",
    "import json\n",
    "import pandas as pd\n",
    "import numpy as np"
   ]
  },
  {
   "cell_type": "code",
   "execution_count": 11,
   "id": "26e5cc49",
   "metadata": {},
   "outputs": [],
   "source": [
    "dict_data = {\n",
    "  \"fields\":[\"EDUCATION\",\"MARRIAGE\",\"AGE\",\"PAY_1\",\"PAY_2\",\"PAY_3\",\"PAY_4\",\"PAY_5\",\"PAY_6\",\"BILL_AMT1\",\"BILL_AMT2\",\"BILL_AMT3\",\"BILL_AMT4\",\"BILL_AMT5\",\"BILL_AMT6\",\"PAY_AMT1\",\"PAY_AMT2\",\"PAY_AMT3\",\"PAY_AMT4\",\"PAY_AMT5\",\"PAY_AMT6\"],\n",
    "  \"rows\": [\n",
    "    [\"text\",\"text\",\"0\",\"0\",\"0\",\"0\",\"0\",\"0\",\"0\",\"0\",\"0\",\"0\",\"0\",\"0\",\"0\",\"0\",\"0\",\"0\",\"0\",\"0\",\"0\"]\n",
    "  ],\n",
    "    \"requestShapleyValueType\":\"ORIGINAL\",\n",
    "}"
   ]
  },
  {
   "cell_type": "code",
   "execution_count": 12,
   "id": "8888c164",
   "metadata": {},
   "outputs": [
    {
     "data": {
      "text/plain": [
       "<Response [200]>"
      ]
     },
     "execution_count": 12,
     "metadata": {},
     "output_type": "execute_result"
    }
   ],
   "source": [
    "response = requests.post(url=\"https://model.internal.dedicated.h2o.ai/30cbdf4e-be01-40f7-88ba-8ea05557073a/model/score\", \n",
    "                         headers= {'content-type': 'application/json'}, \n",
    "                         data=json.dumps(dict_data))\n",
    "response"
   ]
  },
  {
   "cell_type": "code",
   "execution_count": 13,
   "id": "9af844a2",
   "metadata": {},
   "outputs": [
    {
     "data": {
      "text/plain": [
       "'{\"id\":\"dfb0ac84-4634-11ef-b0ad-127940c2494e\",\"fields\":[\"default_payment_next_month.0\",\"default_payment_next_month.1\"],\"score\":[[\"0.6999526659713154\",\"0.30004733402868455\"]],\"featureShapleyContributions\":{\"features\":[\"contrib_EDUCATION\",\"contrib_MARRIAGE\",\"contrib_AGE\",\"contrib_PAY_1\",\"contrib_PAY_2\",\"contrib_PAY_3\",\"contrib_PAY_4\",\"contrib_PAY_5\",\"contrib_PAY_6\",\"contrib_BILL_AMT1\",\"contrib_BILL_AMT2\",\"contrib_BILL_AMT3\",\"contrib_BILL_AMT4\",\"contrib_BILL_AMT5\",\"contrib_BILL_AMT6\",\"contrib_PAY_AMT1\",\"contrib_PAY_AMT2\",\"contrib_PAY_AMT3\",\"contrib_PAY_AMT4\",\"contrib_PAY_AMT5\",\"contrib_PAY_AMT6\",\"contrib_bias\"],\"contributionGroups\":[{\"contributions\":[[\"0.018954395175485188\",\"0.02064209376526759\",\"0.01739020325138992\",\"-0.09536292450482012\",\"-0.011726511778063973\",\"0.034657258684815145\",\"0.028547428357985582\",\"0.004374551135780689\",\"-0.03227419095513172\",\"0.10147395234465731\",\"-0.11532813084830755\",\"-0.0799173529898052\",\"-0.03746330075203831\",\"0.0064375793850206305\",\"-0.04033921631545275\",\"0.13440659277986233\",\"0.13308447886276945\",\"0.12261666806500486\",\"0.09766839374193757\",\"0.08133276094386327\",\"0.09352165490099\",\"-1.329768897488515\"]]}]}}'"
      ]
     },
     "execution_count": 13,
     "metadata": {},
     "output_type": "execute_result"
    }
   ],
   "source": [
    "response.text"
   ]
  },
  {
   "cell_type": "code",
   "execution_count": 20,
   "id": "01d7eb3e",
   "metadata": {},
   "outputs": [
    {
     "data": {
      "text/plain": [
       "{'id': 'dfb0ac84-4634-11ef-b0ad-127940c2494e',\n",
       " 'fields': ['default_payment_next_month.0', 'default_payment_next_month.1'],\n",
       " 'score': [['0.6999526659713154', '0.30004733402868455']],\n",
       " 'featureShapleyContributions': {'features': ['contrib_EDUCATION',\n",
       "   'contrib_MARRIAGE',\n",
       "   'contrib_AGE',\n",
       "   'contrib_PAY_1',\n",
       "   'contrib_PAY_2',\n",
       "   'contrib_PAY_3',\n",
       "   'contrib_PAY_4',\n",
       "   'contrib_PAY_5',\n",
       "   'contrib_PAY_6',\n",
       "   'contrib_BILL_AMT1',\n",
       "   'contrib_BILL_AMT2',\n",
       "   'contrib_BILL_AMT3',\n",
       "   'contrib_BILL_AMT4',\n",
       "   'contrib_BILL_AMT5',\n",
       "   'contrib_BILL_AMT6',\n",
       "   'contrib_PAY_AMT1',\n",
       "   'contrib_PAY_AMT2',\n",
       "   'contrib_PAY_AMT3',\n",
       "   'contrib_PAY_AMT4',\n",
       "   'contrib_PAY_AMT5',\n",
       "   'contrib_PAY_AMT6',\n",
       "   'contrib_bias'],\n",
       "  'contributionGroups': [{'contributions': [['0.018954395175485188',\n",
       "      '0.02064209376526759',\n",
       "      '0.01739020325138992',\n",
       "      '-0.09536292450482012',\n",
       "      '-0.011726511778063973',\n",
       "      '0.034657258684815145',\n",
       "      '0.028547428357985582',\n",
       "      '0.004374551135780689',\n",
       "      '-0.03227419095513172',\n",
       "      '0.10147395234465731',\n",
       "      '-0.11532813084830755',\n",
       "      '-0.0799173529898052',\n",
       "      '-0.03746330075203831',\n",
       "      '0.0064375793850206305',\n",
       "      '-0.04033921631545275',\n",
       "      '0.13440659277986233',\n",
       "      '0.13308447886276945',\n",
       "      '0.12261666806500486',\n",
       "      '0.09766839374193757',\n",
       "      '0.08133276094386327',\n",
       "      '0.09352165490099',\n",
       "      '-1.329768897488515']]}]}}"
      ]
     },
     "execution_count": 20,
     "metadata": {},
     "output_type": "execute_result"
    }
   ],
   "source": [
    "results = response.json()\n",
    "results"
   ]
  },
  {
   "cell_type": "code",
   "execution_count": 21,
   "id": "56845244",
   "metadata": {},
   "outputs": [
    {
     "data": {
      "text/plain": [
       "dict_keys(['id', 'fields', 'score', 'featureShapleyContributions'])"
      ]
     },
     "execution_count": 21,
     "metadata": {},
     "output_type": "execute_result"
    }
   ],
   "source": [
    "results.keys()"
   ]
  },
  {
   "cell_type": "code",
   "execution_count": 27,
   "id": "0d0897bb",
   "metadata": {},
   "outputs": [
    {
     "data": {
      "text/plain": [
       "('default_payment_next_month.1', '0.30004733402868455')"
      ]
     },
     "execution_count": 27,
     "metadata": {},
     "output_type": "execute_result"
    }
   ],
   "source": [
    "results['fields'][1], results['score'][0][1]"
   ]
  },
  {
   "cell_type": "code",
   "execution_count": 29,
   "id": "7085ba0d",
   "metadata": {},
   "outputs": [
    {
     "data": {
      "text/plain": [
       "dict_keys(['features', 'contributionGroups'])"
      ]
     },
     "execution_count": 29,
     "metadata": {},
     "output_type": "execute_result"
    }
   ],
   "source": [
    "results['featureShapleyContributions'].keys()"
   ]
  },
  {
   "cell_type": "code",
   "execution_count": 30,
   "id": "1621b3ed",
   "metadata": {},
   "outputs": [
    {
     "data": {
      "text/plain": [
       "['contrib_EDUCATION',\n",
       " 'contrib_MARRIAGE',\n",
       " 'contrib_AGE',\n",
       " 'contrib_PAY_1',\n",
       " 'contrib_PAY_2',\n",
       " 'contrib_PAY_3',\n",
       " 'contrib_PAY_4',\n",
       " 'contrib_PAY_5',\n",
       " 'contrib_PAY_6',\n",
       " 'contrib_BILL_AMT1',\n",
       " 'contrib_BILL_AMT2',\n",
       " 'contrib_BILL_AMT3',\n",
       " 'contrib_BILL_AMT4',\n",
       " 'contrib_BILL_AMT5',\n",
       " 'contrib_BILL_AMT6',\n",
       " 'contrib_PAY_AMT1',\n",
       " 'contrib_PAY_AMT2',\n",
       " 'contrib_PAY_AMT3',\n",
       " 'contrib_PAY_AMT4',\n",
       " 'contrib_PAY_AMT5',\n",
       " 'contrib_PAY_AMT6',\n",
       " 'contrib_bias']"
      ]
     },
     "execution_count": 30,
     "metadata": {},
     "output_type": "execute_result"
    }
   ],
   "source": [
    "results['featureShapleyContributions']['features']"
   ]
  },
  {
   "cell_type": "code",
   "execution_count": 35,
   "id": "b923dea8",
   "metadata": {},
   "outputs": [
    {
     "data": {
      "text/plain": [
       "[['0.018954395175485188',\n",
       "  '0.02064209376526759',\n",
       "  '0.01739020325138992',\n",
       "  '-0.09536292450482012',\n",
       "  '-0.011726511778063973',\n",
       "  '0.034657258684815145',\n",
       "  '0.028547428357985582',\n",
       "  '0.004374551135780689',\n",
       "  '-0.03227419095513172',\n",
       "  '0.10147395234465731',\n",
       "  '-0.11532813084830755',\n",
       "  '-0.0799173529898052',\n",
       "  '-0.03746330075203831',\n",
       "  '0.0064375793850206305',\n",
       "  '-0.04033921631545275',\n",
       "  '0.13440659277986233',\n",
       "  '0.13308447886276945',\n",
       "  '0.12261666806500486',\n",
       "  '0.09766839374193757',\n",
       "  '0.08133276094386327',\n",
       "  '0.09352165490099',\n",
       "  '-1.329768897488515']]"
      ]
     },
     "execution_count": 35,
     "metadata": {},
     "output_type": "execute_result"
    }
   ],
   "source": [
    "results['featureShapleyContributions']['contributionGroups'][0]['contributions']"
   ]
  },
  {
   "cell_type": "code",
   "execution_count": 39,
   "id": "164cc42b",
   "metadata": {},
   "outputs": [
    {
     "data": {
      "text/html": [
       "<div>\n",
       "<style scoped>\n",
       "    .dataframe tbody tr th:only-of-type {\n",
       "        vertical-align: middle;\n",
       "    }\n",
       "\n",
       "    .dataframe tbody tr th {\n",
       "        vertical-align: top;\n",
       "    }\n",
       "\n",
       "    .dataframe thead th {\n",
       "        text-align: right;\n",
       "    }\n",
       "</style>\n",
       "<table border=\"1\" class=\"dataframe\">\n",
       "  <thead>\n",
       "    <tr style=\"text-align: right;\">\n",
       "      <th></th>\n",
       "      <th>features</th>\n",
       "      <th>contributions</th>\n",
       "    </tr>\n",
       "  </thead>\n",
       "  <tbody>\n",
       "    <tr>\n",
       "      <th>0</th>\n",
       "      <td>contrib_EDUCATION</td>\n",
       "      <td>0.018954395175485188</td>\n",
       "    </tr>\n",
       "    <tr>\n",
       "      <th>1</th>\n",
       "      <td>contrib_MARRIAGE</td>\n",
       "      <td>0.02064209376526759</td>\n",
       "    </tr>\n",
       "    <tr>\n",
       "      <th>2</th>\n",
       "      <td>contrib_AGE</td>\n",
       "      <td>0.01739020325138992</td>\n",
       "    </tr>\n",
       "    <tr>\n",
       "      <th>3</th>\n",
       "      <td>contrib_PAY_1</td>\n",
       "      <td>-0.09536292450482012</td>\n",
       "    </tr>\n",
       "    <tr>\n",
       "      <th>4</th>\n",
       "      <td>contrib_PAY_2</td>\n",
       "      <td>-0.011726511778063973</td>\n",
       "    </tr>\n",
       "    <tr>\n",
       "      <th>5</th>\n",
       "      <td>contrib_PAY_3</td>\n",
       "      <td>0.034657258684815145</td>\n",
       "    </tr>\n",
       "    <tr>\n",
       "      <th>6</th>\n",
       "      <td>contrib_PAY_4</td>\n",
       "      <td>0.028547428357985582</td>\n",
       "    </tr>\n",
       "    <tr>\n",
       "      <th>7</th>\n",
       "      <td>contrib_PAY_5</td>\n",
       "      <td>0.004374551135780689</td>\n",
       "    </tr>\n",
       "    <tr>\n",
       "      <th>8</th>\n",
       "      <td>contrib_PAY_6</td>\n",
       "      <td>-0.03227419095513172</td>\n",
       "    </tr>\n",
       "    <tr>\n",
       "      <th>9</th>\n",
       "      <td>contrib_BILL_AMT1</td>\n",
       "      <td>0.10147395234465731</td>\n",
       "    </tr>\n",
       "    <tr>\n",
       "      <th>10</th>\n",
       "      <td>contrib_BILL_AMT2</td>\n",
       "      <td>-0.11532813084830755</td>\n",
       "    </tr>\n",
       "    <tr>\n",
       "      <th>11</th>\n",
       "      <td>contrib_BILL_AMT3</td>\n",
       "      <td>-0.0799173529898052</td>\n",
       "    </tr>\n",
       "    <tr>\n",
       "      <th>12</th>\n",
       "      <td>contrib_BILL_AMT4</td>\n",
       "      <td>-0.03746330075203831</td>\n",
       "    </tr>\n",
       "    <tr>\n",
       "      <th>13</th>\n",
       "      <td>contrib_BILL_AMT5</td>\n",
       "      <td>0.0064375793850206305</td>\n",
       "    </tr>\n",
       "    <tr>\n",
       "      <th>14</th>\n",
       "      <td>contrib_BILL_AMT6</td>\n",
       "      <td>-0.04033921631545275</td>\n",
       "    </tr>\n",
       "    <tr>\n",
       "      <th>15</th>\n",
       "      <td>contrib_PAY_AMT1</td>\n",
       "      <td>0.13440659277986233</td>\n",
       "    </tr>\n",
       "    <tr>\n",
       "      <th>16</th>\n",
       "      <td>contrib_PAY_AMT2</td>\n",
       "      <td>0.13308447886276945</td>\n",
       "    </tr>\n",
       "    <tr>\n",
       "      <th>17</th>\n",
       "      <td>contrib_PAY_AMT3</td>\n",
       "      <td>0.12261666806500486</td>\n",
       "    </tr>\n",
       "    <tr>\n",
       "      <th>18</th>\n",
       "      <td>contrib_PAY_AMT4</td>\n",
       "      <td>0.09766839374193757</td>\n",
       "    </tr>\n",
       "    <tr>\n",
       "      <th>19</th>\n",
       "      <td>contrib_PAY_AMT5</td>\n",
       "      <td>0.08133276094386327</td>\n",
       "    </tr>\n",
       "    <tr>\n",
       "      <th>20</th>\n",
       "      <td>contrib_PAY_AMT6</td>\n",
       "      <td>0.09352165490099</td>\n",
       "    </tr>\n",
       "    <tr>\n",
       "      <th>21</th>\n",
       "      <td>contrib_bias</td>\n",
       "      <td>-1.329768897488515</td>\n",
       "    </tr>\n",
       "  </tbody>\n",
       "</table>\n",
       "</div>"
      ],
      "text/plain": [
       "             features          contributions\n",
       "0   contrib_EDUCATION   0.018954395175485188\n",
       "1    contrib_MARRIAGE    0.02064209376526759\n",
       "2         contrib_AGE    0.01739020325138992\n",
       "3       contrib_PAY_1   -0.09536292450482012\n",
       "4       contrib_PAY_2  -0.011726511778063973\n",
       "5       contrib_PAY_3   0.034657258684815145\n",
       "6       contrib_PAY_4   0.028547428357985582\n",
       "7       contrib_PAY_5   0.004374551135780689\n",
       "8       contrib_PAY_6   -0.03227419095513172\n",
       "9   contrib_BILL_AMT1    0.10147395234465731\n",
       "10  contrib_BILL_AMT2   -0.11532813084830755\n",
       "11  contrib_BILL_AMT3    -0.0799173529898052\n",
       "12  contrib_BILL_AMT4   -0.03746330075203831\n",
       "13  contrib_BILL_AMT5  0.0064375793850206305\n",
       "14  contrib_BILL_AMT6   -0.04033921631545275\n",
       "15   contrib_PAY_AMT1    0.13440659277986233\n",
       "16   contrib_PAY_AMT2    0.13308447886276945\n",
       "17   contrib_PAY_AMT3    0.12261666806500486\n",
       "18   contrib_PAY_AMT4    0.09766839374193757\n",
       "19   contrib_PAY_AMT5    0.08133276094386327\n",
       "20   contrib_PAY_AMT6       0.09352165490099\n",
       "21       contrib_bias     -1.329768897488515"
      ]
     },
     "execution_count": 39,
     "metadata": {},
     "output_type": "execute_result"
    }
   ],
   "source": [
    "df_contrib = pd.DataFrame({\n",
    "    'features':results['featureShapleyContributions']['features'],\n",
    "    'contributions':results['featureShapleyContributions']['contributionGroups'][0]['contributions'][0],\n",
    "})\n",
    "df_contrib"
   ]
  },
  {
   "cell_type": "code",
   "execution_count": 40,
   "id": "bf9e9416",
   "metadata": {},
   "outputs": [
    {
     "data": {
      "text/plain": [
       "features         object\n",
       "contributions    object\n",
       "dtype: object"
      ]
     },
     "execution_count": 40,
     "metadata": {},
     "output_type": "execute_result"
    }
   ],
   "source": [
    "df_contrib.dtypes"
   ]
  },
  {
   "cell_type": "code",
   "execution_count": 44,
   "id": "ea1604b9",
   "metadata": {},
   "outputs": [],
   "source": [
    "df_contrib['contributions'] = df_contrib['contributions'].astype(np.float64)"
   ]
  },
  {
   "cell_type": "code",
   "execution_count": 45,
   "id": "6dd8bca3",
   "metadata": {},
   "outputs": [
    {
     "data": {
      "text/plain": [
       "features          object\n",
       "contributions    float64\n",
       "dtype: object"
      ]
     },
     "execution_count": 45,
     "metadata": {},
     "output_type": "execute_result"
    }
   ],
   "source": [
    "df_contrib.dtypes"
   ]
  },
  {
   "cell_type": "code",
   "execution_count": 51,
   "id": "2d43dc07",
   "metadata": {},
   "outputs": [],
   "source": [
    "df_contrib['features'] = [s.replace('contrib_', '') for s in df_contrib['features']]"
   ]
  },
  {
   "cell_type": "code",
   "execution_count": 52,
   "id": "af4cdb58",
   "metadata": {},
   "outputs": [
    {
     "data": {
      "text/html": [
       "<div>\n",
       "<style scoped>\n",
       "    .dataframe tbody tr th:only-of-type {\n",
       "        vertical-align: middle;\n",
       "    }\n",
       "\n",
       "    .dataframe tbody tr th {\n",
       "        vertical-align: top;\n",
       "    }\n",
       "\n",
       "    .dataframe thead th {\n",
       "        text-align: right;\n",
       "    }\n",
       "</style>\n",
       "<table border=\"1\" class=\"dataframe\">\n",
       "  <thead>\n",
       "    <tr style=\"text-align: right;\">\n",
       "      <th></th>\n",
       "      <th>features</th>\n",
       "      <th>contributions</th>\n",
       "    </tr>\n",
       "  </thead>\n",
       "  <tbody>\n",
       "    <tr>\n",
       "      <th>0</th>\n",
       "      <td>EDUCATION</td>\n",
       "      <td>0.018954</td>\n",
       "    </tr>\n",
       "    <tr>\n",
       "      <th>1</th>\n",
       "      <td>MARRIAGE</td>\n",
       "      <td>0.020642</td>\n",
       "    </tr>\n",
       "    <tr>\n",
       "      <th>2</th>\n",
       "      <td>AGE</td>\n",
       "      <td>0.017390</td>\n",
       "    </tr>\n",
       "    <tr>\n",
       "      <th>3</th>\n",
       "      <td>PAY_1</td>\n",
       "      <td>-0.095363</td>\n",
       "    </tr>\n",
       "    <tr>\n",
       "      <th>4</th>\n",
       "      <td>PAY_2</td>\n",
       "      <td>-0.011727</td>\n",
       "    </tr>\n",
       "    <tr>\n",
       "      <th>5</th>\n",
       "      <td>PAY_3</td>\n",
       "      <td>0.034657</td>\n",
       "    </tr>\n",
       "    <tr>\n",
       "      <th>6</th>\n",
       "      <td>PAY_4</td>\n",
       "      <td>0.028547</td>\n",
       "    </tr>\n",
       "    <tr>\n",
       "      <th>7</th>\n",
       "      <td>PAY_5</td>\n",
       "      <td>0.004375</td>\n",
       "    </tr>\n",
       "    <tr>\n",
       "      <th>8</th>\n",
       "      <td>PAY_6</td>\n",
       "      <td>-0.032274</td>\n",
       "    </tr>\n",
       "    <tr>\n",
       "      <th>9</th>\n",
       "      <td>BILL_AMT1</td>\n",
       "      <td>0.101474</td>\n",
       "    </tr>\n",
       "    <tr>\n",
       "      <th>10</th>\n",
       "      <td>BILL_AMT2</td>\n",
       "      <td>-0.115328</td>\n",
       "    </tr>\n",
       "    <tr>\n",
       "      <th>11</th>\n",
       "      <td>BILL_AMT3</td>\n",
       "      <td>-0.079917</td>\n",
       "    </tr>\n",
       "    <tr>\n",
       "      <th>12</th>\n",
       "      <td>BILL_AMT4</td>\n",
       "      <td>-0.037463</td>\n",
       "    </tr>\n",
       "    <tr>\n",
       "      <th>13</th>\n",
       "      <td>BILL_AMT5</td>\n",
       "      <td>0.006438</td>\n",
       "    </tr>\n",
       "    <tr>\n",
       "      <th>14</th>\n",
       "      <td>BILL_AMT6</td>\n",
       "      <td>-0.040339</td>\n",
       "    </tr>\n",
       "    <tr>\n",
       "      <th>15</th>\n",
       "      <td>PAY_AMT1</td>\n",
       "      <td>0.134407</td>\n",
       "    </tr>\n",
       "    <tr>\n",
       "      <th>16</th>\n",
       "      <td>PAY_AMT2</td>\n",
       "      <td>0.133084</td>\n",
       "    </tr>\n",
       "    <tr>\n",
       "      <th>17</th>\n",
       "      <td>PAY_AMT3</td>\n",
       "      <td>0.122617</td>\n",
       "    </tr>\n",
       "    <tr>\n",
       "      <th>18</th>\n",
       "      <td>PAY_AMT4</td>\n",
       "      <td>0.097668</td>\n",
       "    </tr>\n",
       "    <tr>\n",
       "      <th>19</th>\n",
       "      <td>PAY_AMT5</td>\n",
       "      <td>0.081333</td>\n",
       "    </tr>\n",
       "    <tr>\n",
       "      <th>20</th>\n",
       "      <td>PAY_AMT6</td>\n",
       "      <td>0.093522</td>\n",
       "    </tr>\n",
       "    <tr>\n",
       "      <th>21</th>\n",
       "      <td>bias</td>\n",
       "      <td>-1.329769</td>\n",
       "    </tr>\n",
       "  </tbody>\n",
       "</table>\n",
       "</div>"
      ],
      "text/plain": [
       "     features  contributions\n",
       "0   EDUCATION       0.018954\n",
       "1    MARRIAGE       0.020642\n",
       "2         AGE       0.017390\n",
       "3       PAY_1      -0.095363\n",
       "4       PAY_2      -0.011727\n",
       "5       PAY_3       0.034657\n",
       "6       PAY_4       0.028547\n",
       "7       PAY_5       0.004375\n",
       "8       PAY_6      -0.032274\n",
       "9   BILL_AMT1       0.101474\n",
       "10  BILL_AMT2      -0.115328\n",
       "11  BILL_AMT3      -0.079917\n",
       "12  BILL_AMT4      -0.037463\n",
       "13  BILL_AMT5       0.006438\n",
       "14  BILL_AMT6      -0.040339\n",
       "15   PAY_AMT1       0.134407\n",
       "16   PAY_AMT2       0.133084\n",
       "17   PAY_AMT3       0.122617\n",
       "18   PAY_AMT4       0.097668\n",
       "19   PAY_AMT5       0.081333\n",
       "20   PAY_AMT6       0.093522\n",
       "21       bias      -1.329769"
      ]
     },
     "execution_count": 52,
     "metadata": {},
     "output_type": "execute_result"
    }
   ],
   "source": [
    "df_contrib"
   ]
  },
  {
   "cell_type": "code",
   "execution_count": null,
   "id": "0debda60",
   "metadata": {},
   "outputs": [],
   "source": []
  },
  {
   "cell_type": "markdown",
   "id": "9940177d",
   "metadata": {},
   "source": [
    "#### from CSV(Pandas)"
   ]
  },
  {
   "cell_type": "code",
   "execution_count": 17,
   "id": "ee8812d7",
   "metadata": {},
   "outputs": [
    {
     "data": {
      "text/html": [
       "<div>\n",
       "<style scoped>\n",
       "    .dataframe tbody tr th:only-of-type {\n",
       "        vertical-align: middle;\n",
       "    }\n",
       "\n",
       "    .dataframe tbody tr th {\n",
       "        vertical-align: top;\n",
       "    }\n",
       "\n",
       "    .dataframe thead th {\n",
       "        text-align: right;\n",
       "    }\n",
       "</style>\n",
       "<table border=\"1\" class=\"dataframe\">\n",
       "  <thead>\n",
       "    <tr style=\"text-align: right;\">\n",
       "      <th></th>\n",
       "      <th>ID</th>\n",
       "      <th>LIMIT_BAL</th>\n",
       "      <th>SEX</th>\n",
       "      <th>EDUCATION</th>\n",
       "      <th>MARRIAGE</th>\n",
       "      <th>AGE</th>\n",
       "      <th>PAY_1</th>\n",
       "      <th>PAY_2</th>\n",
       "      <th>PAY_3</th>\n",
       "      <th>PAY_4</th>\n",
       "      <th>...</th>\n",
       "      <th>BILL_AMT4</th>\n",
       "      <th>BILL_AMT5</th>\n",
       "      <th>BILL_AMT6</th>\n",
       "      <th>PAY_AMT1</th>\n",
       "      <th>PAY_AMT2</th>\n",
       "      <th>PAY_AMT3</th>\n",
       "      <th>PAY_AMT4</th>\n",
       "      <th>PAY_AMT5</th>\n",
       "      <th>PAY_AMT6</th>\n",
       "      <th>default_payment_next_month</th>\n",
       "    </tr>\n",
       "  </thead>\n",
       "  <tbody>\n",
       "    <tr>\n",
       "      <th>0</th>\n",
       "      <td>1</td>\n",
       "      <td>20000</td>\n",
       "      <td>M</td>\n",
       "      <td>university</td>\n",
       "      <td>married</td>\n",
       "      <td>24</td>\n",
       "      <td>2</td>\n",
       "      <td>2</td>\n",
       "      <td>-1</td>\n",
       "      <td>-1</td>\n",
       "      <td>...</td>\n",
       "      <td>0</td>\n",
       "      <td>0</td>\n",
       "      <td>0</td>\n",
       "      <td>0</td>\n",
       "      <td>689</td>\n",
       "      <td>0</td>\n",
       "      <td>0</td>\n",
       "      <td>0</td>\n",
       "      <td>0</td>\n",
       "      <td>1</td>\n",
       "    </tr>\n",
       "    <tr>\n",
       "      <th>1</th>\n",
       "      <td>2</td>\n",
       "      <td>120000</td>\n",
       "      <td>M</td>\n",
       "      <td>university</td>\n",
       "      <td>single</td>\n",
       "      <td>26</td>\n",
       "      <td>-1</td>\n",
       "      <td>2</td>\n",
       "      <td>0</td>\n",
       "      <td>0</td>\n",
       "      <td>...</td>\n",
       "      <td>3272</td>\n",
       "      <td>3455</td>\n",
       "      <td>3261</td>\n",
       "      <td>0</td>\n",
       "      <td>1000</td>\n",
       "      <td>1000</td>\n",
       "      <td>1000</td>\n",
       "      <td>0</td>\n",
       "      <td>2000</td>\n",
       "      <td>1</td>\n",
       "    </tr>\n",
       "    <tr>\n",
       "      <th>2</th>\n",
       "      <td>3</td>\n",
       "      <td>90000</td>\n",
       "      <td>M</td>\n",
       "      <td>university</td>\n",
       "      <td>single</td>\n",
       "      <td>34</td>\n",
       "      <td>0</td>\n",
       "      <td>0</td>\n",
       "      <td>0</td>\n",
       "      <td>0</td>\n",
       "      <td>...</td>\n",
       "      <td>14331</td>\n",
       "      <td>14948</td>\n",
       "      <td>15549</td>\n",
       "      <td>1518</td>\n",
       "      <td>1500</td>\n",
       "      <td>1000</td>\n",
       "      <td>1000</td>\n",
       "      <td>1000</td>\n",
       "      <td>5000</td>\n",
       "      <td>0</td>\n",
       "    </tr>\n",
       "    <tr>\n",
       "      <th>3</th>\n",
       "      <td>4</td>\n",
       "      <td>50000</td>\n",
       "      <td>M</td>\n",
       "      <td>university</td>\n",
       "      <td>married</td>\n",
       "      <td>37</td>\n",
       "      <td>0</td>\n",
       "      <td>0</td>\n",
       "      <td>0</td>\n",
       "      <td>0</td>\n",
       "      <td>...</td>\n",
       "      <td>28314</td>\n",
       "      <td>28959</td>\n",
       "      <td>29547</td>\n",
       "      <td>2000</td>\n",
       "      <td>2019</td>\n",
       "      <td>1200</td>\n",
       "      <td>1100</td>\n",
       "      <td>1069</td>\n",
       "      <td>1000</td>\n",
       "      <td>0</td>\n",
       "    </tr>\n",
       "    <tr>\n",
       "      <th>4</th>\n",
       "      <td>5</td>\n",
       "      <td>50000</td>\n",
       "      <td>F</td>\n",
       "      <td>university</td>\n",
       "      <td>married</td>\n",
       "      <td>57</td>\n",
       "      <td>-1</td>\n",
       "      <td>0</td>\n",
       "      <td>-1</td>\n",
       "      <td>0</td>\n",
       "      <td>...</td>\n",
       "      <td>20940</td>\n",
       "      <td>19146</td>\n",
       "      <td>19131</td>\n",
       "      <td>2000</td>\n",
       "      <td>36681</td>\n",
       "      <td>10000</td>\n",
       "      <td>9000</td>\n",
       "      <td>689</td>\n",
       "      <td>679</td>\n",
       "      <td>0</td>\n",
       "    </tr>\n",
       "  </tbody>\n",
       "</table>\n",
       "<p>5 rows × 25 columns</p>\n",
       "</div>"
      ],
      "text/plain": [
       "   ID  LIMIT_BAL SEX   EDUCATION MARRIAGE  AGE  PAY_1  PAY_2  PAY_3  PAY_4  \\\n",
       "0   1      20000   M  university  married   24      2      2     -1     -1   \n",
       "1   2     120000   M  university   single   26     -1      2      0      0   \n",
       "2   3      90000   M  university   single   34      0      0      0      0   \n",
       "3   4      50000   M  university  married   37      0      0      0      0   \n",
       "4   5      50000   F  university  married   57     -1      0     -1      0   \n",
       "\n",
       "   ...  BILL_AMT4  BILL_AMT5  BILL_AMT6  PAY_AMT1  PAY_AMT2  PAY_AMT3  \\\n",
       "0  ...          0          0          0         0       689         0   \n",
       "1  ...       3272       3455       3261         0      1000      1000   \n",
       "2  ...      14331      14948      15549      1518      1500      1000   \n",
       "3  ...      28314      28959      29547      2000      2019      1200   \n",
       "4  ...      20940      19146      19131      2000     36681     10000   \n",
       "\n",
       "   PAY_AMT4  PAY_AMT5  PAY_AMT6  default_payment_next_month  \n",
       "0         0         0         0                           1  \n",
       "1      1000         0      2000                           1  \n",
       "2      1000      1000      5000                           0  \n",
       "3      1100      1069      1000                           0  \n",
       "4      9000       689       679                           0  \n",
       "\n",
       "[5 rows x 25 columns]"
      ]
     },
     "execution_count": 17,
     "metadata": {},
     "output_type": "execute_result"
    }
   ],
   "source": [
    "df = pd.read_csv('data/UCI_Credit_Card3_sample5.csv')\n",
    "df"
   ]
  },
  {
   "cell_type": "code",
   "execution_count": 54,
   "id": "5786dc63",
   "metadata": {},
   "outputs": [
    {
     "data": {
      "text/plain": [
       "ID                             int64\n",
       "LIMIT_BAL                      int64\n",
       "SEX                           object\n",
       "EDUCATION                     object\n",
       "MARRIAGE                      object\n",
       "AGE                            int64\n",
       "PAY_1                          int64\n",
       "PAY_2                          int64\n",
       "PAY_3                          int64\n",
       "PAY_4                          int64\n",
       "PAY_5                          int64\n",
       "PAY_6                          int64\n",
       "BILL_AMT1                      int64\n",
       "BILL_AMT2                      int64\n",
       "BILL_AMT3                      int64\n",
       "BILL_AMT4                      int64\n",
       "BILL_AMT5                      int64\n",
       "BILL_AMT6                      int64\n",
       "PAY_AMT1                       int64\n",
       "PAY_AMT2                       int64\n",
       "PAY_AMT3                       int64\n",
       "PAY_AMT4                       int64\n",
       "PAY_AMT5                       int64\n",
       "PAY_AMT6                       int64\n",
       "default_payment_next_month     int64\n",
       "dtype: object"
      ]
     },
     "execution_count": 54,
     "metadata": {},
     "output_type": "execute_result"
    }
   ],
   "source": [
    "df.dtypes"
   ]
  },
  {
   "cell_type": "code",
   "execution_count": 56,
   "id": "d2b946f8",
   "metadata": {},
   "outputs": [],
   "source": [
    "# データ型の変換\n",
    "df_str = df.astype(str)"
   ]
  },
  {
   "cell_type": "code",
   "execution_count": 57,
   "id": "a12cb961",
   "metadata": {
    "scrolled": true
   },
   "outputs": [
    {
     "data": {
      "text/plain": [
       "{'columns': ['ID',\n",
       "  'LIMIT_BAL',\n",
       "  'SEX',\n",
       "  'EDUCATION',\n",
       "  'MARRIAGE',\n",
       "  'AGE',\n",
       "  'PAY_1',\n",
       "  'PAY_2',\n",
       "  'PAY_3',\n",
       "  'PAY_4',\n",
       "  'PAY_5',\n",
       "  'PAY_6',\n",
       "  'BILL_AMT1',\n",
       "  'BILL_AMT2',\n",
       "  'BILL_AMT3',\n",
       "  'BILL_AMT4',\n",
       "  'BILL_AMT5',\n",
       "  'BILL_AMT6',\n",
       "  'PAY_AMT1',\n",
       "  'PAY_AMT2',\n",
       "  'PAY_AMT3',\n",
       "  'PAY_AMT4',\n",
       "  'PAY_AMT5',\n",
       "  'PAY_AMT6',\n",
       "  'default_payment_next_month'],\n",
       " 'index': [0, 1, 2, 3, 4],\n",
       " 'data': [['1',\n",
       "   '20000',\n",
       "   'M',\n",
       "   'university',\n",
       "   'married',\n",
       "   '24',\n",
       "   '2',\n",
       "   '2',\n",
       "   '-1',\n",
       "   '-1',\n",
       "   '-2',\n",
       "   '-2',\n",
       "   '3913',\n",
       "   '3102',\n",
       "   '689',\n",
       "   '0',\n",
       "   '0',\n",
       "   '0',\n",
       "   '0',\n",
       "   '689',\n",
       "   '0',\n",
       "   '0',\n",
       "   '0',\n",
       "   '0',\n",
       "   '1'],\n",
       "  ['2',\n",
       "   '120000',\n",
       "   'M',\n",
       "   'university',\n",
       "   'single',\n",
       "   '26',\n",
       "   '-1',\n",
       "   '2',\n",
       "   '0',\n",
       "   '0',\n",
       "   '0',\n",
       "   '2',\n",
       "   '2682',\n",
       "   '1725',\n",
       "   '2682',\n",
       "   '3272',\n",
       "   '3455',\n",
       "   '3261',\n",
       "   '0',\n",
       "   '1000',\n",
       "   '1000',\n",
       "   '1000',\n",
       "   '0',\n",
       "   '2000',\n",
       "   '1'],\n",
       "  ['3',\n",
       "   '90000',\n",
       "   'M',\n",
       "   'university',\n",
       "   'single',\n",
       "   '34',\n",
       "   '0',\n",
       "   '0',\n",
       "   '0',\n",
       "   '0',\n",
       "   '0',\n",
       "   '0',\n",
       "   '29239',\n",
       "   '14027',\n",
       "   '13559',\n",
       "   '14331',\n",
       "   '14948',\n",
       "   '15549',\n",
       "   '1518',\n",
       "   '1500',\n",
       "   '1000',\n",
       "   '1000',\n",
       "   '1000',\n",
       "   '5000',\n",
       "   '0'],\n",
       "  ['4',\n",
       "   '50000',\n",
       "   'M',\n",
       "   'university',\n",
       "   'married',\n",
       "   '37',\n",
       "   '0',\n",
       "   '0',\n",
       "   '0',\n",
       "   '0',\n",
       "   '0',\n",
       "   '0',\n",
       "   '46990',\n",
       "   '48233',\n",
       "   '49291',\n",
       "   '28314',\n",
       "   '28959',\n",
       "   '29547',\n",
       "   '2000',\n",
       "   '2019',\n",
       "   '1200',\n",
       "   '1100',\n",
       "   '1069',\n",
       "   '1000',\n",
       "   '0'],\n",
       "  ['5',\n",
       "   '50000',\n",
       "   'F',\n",
       "   'university',\n",
       "   'married',\n",
       "   '57',\n",
       "   '-1',\n",
       "   '0',\n",
       "   '-1',\n",
       "   '0',\n",
       "   '0',\n",
       "   '0',\n",
       "   '8617',\n",
       "   '5670',\n",
       "   '35835',\n",
       "   '20940',\n",
       "   '19146',\n",
       "   '19131',\n",
       "   '2000',\n",
       "   '36681',\n",
       "   '10000',\n",
       "   '9000',\n",
       "   '689',\n",
       "   '679',\n",
       "   '0']]}"
      ]
     },
     "execution_count": 57,
     "metadata": {},
     "output_type": "execute_result"
    }
   ],
   "source": [
    "# pandas.DataFrameから、jsonに変換\n",
    "json_data = df_str.to_json(orient=\"split\")\n",
    "json_data = json.loads(json_data)\n",
    "json_data"
   ]
  },
  {
   "cell_type": "code",
   "execution_count": 59,
   "id": "b9368d87",
   "metadata": {},
   "outputs": [
    {
     "data": {
      "text/plain": [
       "dict_keys(['columns', 'index', 'data'])"
      ]
     },
     "execution_count": 59,
     "metadata": {},
     "output_type": "execute_result"
    }
   ],
   "source": [
    "json_data.keys()"
   ]
  },
  {
   "cell_type": "code",
   "execution_count": 60,
   "id": "bfcc94e0",
   "metadata": {},
   "outputs": [],
   "source": [
    "# キー名の変更\n",
    "json_data['fields'] = json_data['columns']\n",
    "del json_data['columns']\n",
    "json_data['rows'] = json_data['data']\n",
    "del json_data['data']"
   ]
  },
  {
   "cell_type": "code",
   "execution_count": 65,
   "id": "36d57447",
   "metadata": {},
   "outputs": [],
   "source": [
    "# Shapley Scoring指示の追加\n",
    "json_data['requestShapleyValueType'] = 'ORIGINAL'"
   ]
  },
  {
   "cell_type": "code",
   "execution_count": 67,
   "id": "52ba386c",
   "metadata": {},
   "outputs": [
    {
     "data": {
      "text/plain": [
       "dict_keys(['index', 'fields', 'rows', 'requestShapleyValueType'])"
      ]
     },
     "execution_count": 67,
     "metadata": {},
     "output_type": "execute_result"
    }
   ],
   "source": [
    "json_data.keys()"
   ]
  },
  {
   "cell_type": "code",
   "execution_count": 68,
   "id": "e0f5a697",
   "metadata": {
    "scrolled": false
   },
   "outputs": [
    {
     "data": {
      "text/plain": [
       "{'id': 'dfb0ac84-4634-11ef-b0ad-127940c2494e',\n",
       " 'fields': ['default_payment_next_month.0', 'default_payment_next_month.1'],\n",
       " 'score': [['0.3025260726918264', '0.6974739273081736'],\n",
       "  ['0.5915855520636213', '0.40841444793637877'],\n",
       "  ['0.8672090651155677', '0.13279093488443225'],\n",
       "  ['0.8746903236209524', '0.1253096763790475'],\n",
       "  ['0.9050907569177213', '0.0949092430822786']],\n",
       " 'featureShapleyContributions': {'features': ['contrib_EDUCATION',\n",
       "   'contrib_MARRIAGE',\n",
       "   'contrib_AGE',\n",
       "   'contrib_PAY_1',\n",
       "   'contrib_PAY_2',\n",
       "   'contrib_PAY_3',\n",
       "   'contrib_PAY_4',\n",
       "   'contrib_PAY_5',\n",
       "   'contrib_PAY_6',\n",
       "   'contrib_BILL_AMT1',\n",
       "   'contrib_BILL_AMT2',\n",
       "   'contrib_BILL_AMT3',\n",
       "   'contrib_BILL_AMT4',\n",
       "   'contrib_BILL_AMT5',\n",
       "   'contrib_BILL_AMT6',\n",
       "   'contrib_PAY_AMT1',\n",
       "   'contrib_PAY_AMT2',\n",
       "   'contrib_PAY_AMT3',\n",
       "   'contrib_PAY_AMT4',\n",
       "   'contrib_PAY_AMT5',\n",
       "   'contrib_PAY_AMT6',\n",
       "   'contrib_bias'],\n",
       "  'contributionGroups': [{'contributions': [['0.09608278421794794',\n",
       "      '0.08722179091945213',\n",
       "      '0.08019485374478191',\n",
       "      '0.7941067757609828',\n",
       "      '0.32308532910163207',\n",
       "      '0.0029355651159281796',\n",
       "      '0.05930211954508167',\n",
       "      '0.03922309609769843',\n",
       "      '-0.010183286886687624',\n",
       "      '0.04582549679368083',\n",
       "      '0.2699431406904825',\n",
       "      '-0.057620631314786286',\n",
       "      '-0.043050750655787576',\n",
       "      '-0.00981302844418036',\n",
       "      '-0.05372172840990822',\n",
       "      '0.12780155019486247',\n",
       "      '0.061599804810481704',\n",
       "      '0.1138560096080416',\n",
       "      '0.0753975860796439',\n",
       "      '0.0761103164550302',\n",
       "      '0.086769788489367',\n",
       "      '-1.329768897488515'],\n",
       "     ['0.00959191990644347',\n",
       "      '0.001065086970522407',\n",
       "      '0.07191007621258054',\n",
       "      '0.03976831840878302',\n",
       "      '0.35940461911145727',\n",
       "      '0.10146464870464282',\n",
       "      '0.0029853373586711993',\n",
       "      '-0.008171463055885017',\n",
       "      '0.09741382692487617',\n",
       "      '0.052531180148647015',\n",
       "      '-0.05183723410363375',\n",
       "      '0.025386479905087925',\n",
       "      '-0.013555102252621904',\n",
       "      '-0.0093492416481852',\n",
       "      '-0.017435662290945418',\n",
       "      '0.16072763430860315',\n",
       "      '0.0878024950363189',\n",
       "      '-0.014085973164941125',\n",
       "      '0.01320614015835437',\n",
       "      '0.08405731703178232',\n",
       "      '-0.03363536610356233',\n",
       "      '-1.329768897488515'],\n",
       "     ['-0.005476061194331211',\n",
       "      '-0.01875789874721156',\n",
       "      '-0.052780507397296665',\n",
       "      '-0.21709750264205988',\n",
       "      '-0.09206516990678743',\n",
       "      '-0.04123869567846932',\n",
       "      '-0.024951139689775945',\n",
       "      '-0.033781361687779454',\n",
       "      '-0.02162061099645829',\n",
       "      '-0.09606846301053151',\n",
       "      '-0.04833201837814355',\n",
       "      '0.013003353663680035',\n",
       "      '7.698741016337661E-4',\n",
       "      '-0.006796577805113689',\n",
       "      '0.026077844659072313',\n",
       "      '0.06432593164746059',\n",
       "      '0.11536962722793509',\n",
       "      '-0.005297302915339613',\n",
       "      '0.010822429052643289',\n",
       "      '-0.01950548799798654',\n",
       "      '-0.09333589025240757',\n",
       "      '-1.329768897488515'],\n",
       "     ['-0.012216941644484511',\n",
       "      '-0.02420120373405221',\n",
       "      '-0.03557079363306899',\n",
       "      '-0.21354622933550899',\n",
       "      '-0.09193870533441464',\n",
       "      '-0.03596160789325325',\n",
       "      '-0.036510819726090514',\n",
       "      '-0.04584184165446576',\n",
       "      '-0.02113215638356383',\n",
       "      '-0.06011312153748375',\n",
       "      '-0.054094074894605826',\n",
       "      '0.022242228691115657',\n",
       "      '0.007974646977107007',\n",
       "      '-0.00691271072241427',\n",
       "      '0.017592499198007094',\n",
       "      '0.024150293392563457',\n",
       "      '-0.016325163890536232',\n",
       "      '-0.0024666560826691036',\n",
       "      '8.622770640479569E-4',\n",
       "      '-0.022870482024479784',\n",
       "      '-0.00643285900280165',\n",
       "      '-1.329768897488515'],\n",
       "     ['-0.0022289854510438864',\n",
       "      '-0.011949194584864762',\n",
       "      '0.04372757318493249',\n",
       "      '-0.05183964210716026',\n",
       "      '-0.005278034932741976',\n",
       "      '-0.04700839453112818',\n",
       "      '-0.016726296217173996',\n",
       "      '-0.03574391469465444',\n",
       "      '-0.025076525976080725',\n",
       "      '-0.01517574387532116',\n",
       "      '-0.06646734785827015',\n",
       "      '0.013234227872236142',\n",
       "      '-0.011773080056896474',\n",
       "      '-0.014823662220033167',\n",
       "      '-0.0010485053097973643',\n",
       "      '0.03480376954266578',\n",
       "      '-0.5030782419557308',\n",
       "      '-0.20821449678845397',\n",
       "      '-0.10873477895832077',\n",
       "      '0.04020558815246366',\n",
       "      '0.06785031712372178',\n",
       "      '-1.329768897488515']]}]}}"
      ]
     },
     "execution_count": 68,
     "metadata": {},
     "output_type": "execute_result"
    }
   ],
   "source": [
    "response = requests.post(url='https://model.internal.dedicated.h2o.ai/30cbdf4e-be01-40f7-88ba-8ea05557073a/model/score', \n",
    "                         headers={'content-type': 'application/json'}, \n",
    "                         data=json.dumps(json_data))\n",
    "response.json()"
   ]
  },
  {
   "cell_type": "code",
   "execution_count": 72,
   "id": "e16de0cc",
   "metadata": {},
   "outputs": [
    {
     "data": {
      "text/plain": [
       "dict_keys(['id', 'fields', 'score', 'featureShapleyContributions'])"
      ]
     },
     "execution_count": 72,
     "metadata": {},
     "output_type": "execute_result"
    }
   ],
   "source": [
    "response.json().keys()"
   ]
  },
  {
   "cell_type": "code",
   "execution_count": null,
   "id": "e5537bf6",
   "metadata": {},
   "outputs": [],
   "source": []
  }
 ],
 "metadata": {
  "kernelspec": {
   "display_name": "Python 3 (ipykernel)",
   "language": "python",
   "name": "python3"
  },
  "language_info": {
   "codemirror_mode": {
    "name": "ipython",
    "version": 3
   },
   "file_extension": ".py",
   "mimetype": "text/x-python",
   "name": "python",
   "nbconvert_exporter": "python",
   "pygments_lexer": "ipython3",
   "version": "3.8.16"
  }
 },
 "nbformat": 4,
 "nbformat_minor": 5
}
