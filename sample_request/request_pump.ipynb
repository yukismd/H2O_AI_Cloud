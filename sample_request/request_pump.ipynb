{
 "cells": [
  {
   "cell_type": "markdown",
   "id": "3656da46",
   "metadata": {},
   "source": [
    "## MLOpsへのスコアリングリクエストのシミュレーション"
   ]
  },
  {
   "cell_type": "markdown",
   "id": "bfa3b9a0",
   "metadata": {},
   "source": [
    "参考 : [sample_request.ipynb](sample_request.ipynb)"
   ]
  },
  {
   "cell_type": "code",
   "execution_count": 1,
   "id": "b755aee2",
   "metadata": {},
   "outputs": [],
   "source": [
    "import requests\n",
    "import json\n",
    "import time\n",
    "import pandas as pd\n",
    "import numpy as np"
   ]
  },
  {
   "cell_type": "markdown",
   "id": "18566654",
   "metadata": {},
   "source": [
    "### シミュレーションデータの作成"
   ]
  },
  {
   "cell_type": "code",
   "execution_count": 2,
   "id": "4eefad52",
   "metadata": {},
   "outputs": [
    {
     "data": {
      "text/plain": [
       "22"
      ]
     },
     "execution_count": 2,
     "metadata": {},
     "output_type": "execute_result"
    }
   ],
   "source": [
    "# スコアリングAPIへのリクエストに必要なカラム\n",
    "columns = [\"LIMIT_BAL\", \"SEX\", \"EDUCATION\", \"MARRIAGE\", \"AGE\", \"PAY_0\", \"PAY_2\", \"PAY_3\", \"PAY_4\", \"PAY_5\", \"PAY_6\", \"BILL_AMT1\", \"BILL_AMT2\", \"BILL_AMT3\", \"BILL_AMT4\", \"BILL_AMT5\", \"PAY_AMT1\", \"PAY_AMT2\", \"PAY_AMT3\", \"PAY_AMT4\", \"PAY_AMT5\", \"PAY_AMT6\"]\n",
    "len(columns)"
   ]
  },
  {
   "cell_type": "code",
   "execution_count": 3,
   "id": "616843a3",
   "metadata": {},
   "outputs": [
    {
     "data": {
      "text/html": [
       "<div>\n",
       "<style scoped>\n",
       "    .dataframe tbody tr th:only-of-type {\n",
       "        vertical-align: middle;\n",
       "    }\n",
       "\n",
       "    .dataframe tbody tr th {\n",
       "        vertical-align: top;\n",
       "    }\n",
       "\n",
       "    .dataframe thead th {\n",
       "        text-align: right;\n",
       "    }\n",
       "</style>\n",
       "<table border=\"1\" class=\"dataframe\">\n",
       "  <thead>\n",
       "    <tr style=\"text-align: right;\">\n",
       "      <th></th>\n",
       "      <th>stats</th>\n",
       "      <th>LIMIT_BAL</th>\n",
       "      <th>SEX</th>\n",
       "      <th>EDUCATION</th>\n",
       "      <th>MARRIAGE</th>\n",
       "      <th>AGE</th>\n",
       "      <th>PAY_0</th>\n",
       "      <th>PAY_2</th>\n",
       "      <th>PAY_3</th>\n",
       "      <th>PAY_4</th>\n",
       "      <th>...</th>\n",
       "      <th>BILL_AMT2</th>\n",
       "      <th>BILL_AMT3</th>\n",
       "      <th>BILL_AMT4</th>\n",
       "      <th>BILL_AMT5</th>\n",
       "      <th>PAY_AMT1</th>\n",
       "      <th>PAY_AMT2</th>\n",
       "      <th>PAY_AMT3</th>\n",
       "      <th>PAY_AMT4</th>\n",
       "      <th>PAY_AMT5</th>\n",
       "      <th>PAY_AMT6</th>\n",
       "    </tr>\n",
       "  </thead>\n",
       "  <tbody>\n",
       "    <tr>\n",
       "      <th>0</th>\n",
       "      <td>count</td>\n",
       "      <td>30000.000000</td>\n",
       "      <td>30000.000000</td>\n",
       "      <td>30000.000000</td>\n",
       "      <td>30000.000000</td>\n",
       "      <td>30000.000000</td>\n",
       "      <td>30000.000000</td>\n",
       "      <td>30000.000000</td>\n",
       "      <td>30000.000000</td>\n",
       "      <td>30000.000000</td>\n",
       "      <td>...</td>\n",
       "      <td>30000.000000</td>\n",
       "      <td>3.000000e+04</td>\n",
       "      <td>30000.000000</td>\n",
       "      <td>30000.000000</td>\n",
       "      <td>30000.000000</td>\n",
       "      <td>3.000000e+04</td>\n",
       "      <td>30000.00000</td>\n",
       "      <td>30000.000000</td>\n",
       "      <td>30000.000000</td>\n",
       "      <td>30000.000000</td>\n",
       "    </tr>\n",
       "    <tr>\n",
       "      <th>1</th>\n",
       "      <td>mean</td>\n",
       "      <td>167484.322667</td>\n",
       "      <td>1.603733</td>\n",
       "      <td>1.853133</td>\n",
       "      <td>1.551867</td>\n",
       "      <td>35.485500</td>\n",
       "      <td>-0.016700</td>\n",
       "      <td>-0.133767</td>\n",
       "      <td>-0.166200</td>\n",
       "      <td>-0.220667</td>\n",
       "      <td>...</td>\n",
       "      <td>49179.075167</td>\n",
       "      <td>4.701315e+04</td>\n",
       "      <td>43262.948967</td>\n",
       "      <td>40311.400967</td>\n",
       "      <td>5663.580500</td>\n",
       "      <td>5.921163e+03</td>\n",
       "      <td>5225.68150</td>\n",
       "      <td>4826.076867</td>\n",
       "      <td>4799.387633</td>\n",
       "      <td>5215.502567</td>\n",
       "    </tr>\n",
       "    <tr>\n",
       "      <th>2</th>\n",
       "      <td>std</td>\n",
       "      <td>129747.661567</td>\n",
       "      <td>0.489129</td>\n",
       "      <td>0.790349</td>\n",
       "      <td>0.521970</td>\n",
       "      <td>9.217904</td>\n",
       "      <td>1.123802</td>\n",
       "      <td>1.197186</td>\n",
       "      <td>1.196868</td>\n",
       "      <td>1.169139</td>\n",
       "      <td>...</td>\n",
       "      <td>71173.768783</td>\n",
       "      <td>6.934939e+04</td>\n",
       "      <td>64332.856134</td>\n",
       "      <td>60797.155770</td>\n",
       "      <td>16563.280354</td>\n",
       "      <td>2.304087e+04</td>\n",
       "      <td>17606.96147</td>\n",
       "      <td>15666.159744</td>\n",
       "      <td>15278.305679</td>\n",
       "      <td>17777.465775</td>\n",
       "    </tr>\n",
       "    <tr>\n",
       "      <th>3</th>\n",
       "      <td>min</td>\n",
       "      <td>10000.000000</td>\n",
       "      <td>1.000000</td>\n",
       "      <td>0.000000</td>\n",
       "      <td>0.000000</td>\n",
       "      <td>21.000000</td>\n",
       "      <td>-2.000000</td>\n",
       "      <td>-2.000000</td>\n",
       "      <td>-2.000000</td>\n",
       "      <td>-2.000000</td>\n",
       "      <td>...</td>\n",
       "      <td>-69777.000000</td>\n",
       "      <td>-1.572640e+05</td>\n",
       "      <td>-170000.000000</td>\n",
       "      <td>-81334.000000</td>\n",
       "      <td>0.000000</td>\n",
       "      <td>0.000000e+00</td>\n",
       "      <td>0.00000</td>\n",
       "      <td>0.000000</td>\n",
       "      <td>0.000000</td>\n",
       "      <td>0.000000</td>\n",
       "    </tr>\n",
       "    <tr>\n",
       "      <th>4</th>\n",
       "      <td>25%</td>\n",
       "      <td>50000.000000</td>\n",
       "      <td>1.000000</td>\n",
       "      <td>1.000000</td>\n",
       "      <td>1.000000</td>\n",
       "      <td>28.000000</td>\n",
       "      <td>-1.000000</td>\n",
       "      <td>-1.000000</td>\n",
       "      <td>-1.000000</td>\n",
       "      <td>-1.000000</td>\n",
       "      <td>...</td>\n",
       "      <td>2984.750000</td>\n",
       "      <td>2.666250e+03</td>\n",
       "      <td>2326.750000</td>\n",
       "      <td>1763.000000</td>\n",
       "      <td>1000.000000</td>\n",
       "      <td>8.330000e+02</td>\n",
       "      <td>390.00000</td>\n",
       "      <td>296.000000</td>\n",
       "      <td>252.500000</td>\n",
       "      <td>117.750000</td>\n",
       "    </tr>\n",
       "    <tr>\n",
       "      <th>5</th>\n",
       "      <td>50%</td>\n",
       "      <td>140000.000000</td>\n",
       "      <td>2.000000</td>\n",
       "      <td>2.000000</td>\n",
       "      <td>2.000000</td>\n",
       "      <td>34.000000</td>\n",
       "      <td>0.000000</td>\n",
       "      <td>0.000000</td>\n",
       "      <td>0.000000</td>\n",
       "      <td>0.000000</td>\n",
       "      <td>...</td>\n",
       "      <td>21200.000000</td>\n",
       "      <td>2.008850e+04</td>\n",
       "      <td>19052.000000</td>\n",
       "      <td>18104.500000</td>\n",
       "      <td>2100.000000</td>\n",
       "      <td>2.009000e+03</td>\n",
       "      <td>1800.00000</td>\n",
       "      <td>1500.000000</td>\n",
       "      <td>1500.000000</td>\n",
       "      <td>1500.000000</td>\n",
       "    </tr>\n",
       "    <tr>\n",
       "      <th>6</th>\n",
       "      <td>75%</td>\n",
       "      <td>240000.000000</td>\n",
       "      <td>2.000000</td>\n",
       "      <td>2.000000</td>\n",
       "      <td>2.000000</td>\n",
       "      <td>41.000000</td>\n",
       "      <td>0.000000</td>\n",
       "      <td>0.000000</td>\n",
       "      <td>0.000000</td>\n",
       "      <td>0.000000</td>\n",
       "      <td>...</td>\n",
       "      <td>64006.250000</td>\n",
       "      <td>6.016475e+04</td>\n",
       "      <td>54506.000000</td>\n",
       "      <td>50190.500000</td>\n",
       "      <td>5006.000000</td>\n",
       "      <td>5.000000e+03</td>\n",
       "      <td>4505.00000</td>\n",
       "      <td>4013.250000</td>\n",
       "      <td>4031.500000</td>\n",
       "      <td>4000.000000</td>\n",
       "    </tr>\n",
       "    <tr>\n",
       "      <th>7</th>\n",
       "      <td>max</td>\n",
       "      <td>1000000.000000</td>\n",
       "      <td>2.000000</td>\n",
       "      <td>6.000000</td>\n",
       "      <td>3.000000</td>\n",
       "      <td>79.000000</td>\n",
       "      <td>8.000000</td>\n",
       "      <td>8.000000</td>\n",
       "      <td>8.000000</td>\n",
       "      <td>8.000000</td>\n",
       "      <td>...</td>\n",
       "      <td>983931.000000</td>\n",
       "      <td>1.664089e+06</td>\n",
       "      <td>891586.000000</td>\n",
       "      <td>927171.000000</td>\n",
       "      <td>873552.000000</td>\n",
       "      <td>1.684259e+06</td>\n",
       "      <td>896040.00000</td>\n",
       "      <td>621000.000000</td>\n",
       "      <td>426529.000000</td>\n",
       "      <td>528666.000000</td>\n",
       "    </tr>\n",
       "  </tbody>\n",
       "</table>\n",
       "<p>8 rows × 23 columns</p>\n",
       "</div>"
      ],
      "text/plain": [
       "   stats       LIMIT_BAL           SEX     EDUCATION      MARRIAGE  \\\n",
       "0  count    30000.000000  30000.000000  30000.000000  30000.000000   \n",
       "1   mean   167484.322667      1.603733      1.853133      1.551867   \n",
       "2    std   129747.661567      0.489129      0.790349      0.521970   \n",
       "3    min    10000.000000      1.000000      0.000000      0.000000   \n",
       "4    25%    50000.000000      1.000000      1.000000      1.000000   \n",
       "5    50%   140000.000000      2.000000      2.000000      2.000000   \n",
       "6    75%   240000.000000      2.000000      2.000000      2.000000   \n",
       "7    max  1000000.000000      2.000000      6.000000      3.000000   \n",
       "\n",
       "            AGE         PAY_0         PAY_2         PAY_3         PAY_4  ...  \\\n",
       "0  30000.000000  30000.000000  30000.000000  30000.000000  30000.000000  ...   \n",
       "1     35.485500     -0.016700     -0.133767     -0.166200     -0.220667  ...   \n",
       "2      9.217904      1.123802      1.197186      1.196868      1.169139  ...   \n",
       "3     21.000000     -2.000000     -2.000000     -2.000000     -2.000000  ...   \n",
       "4     28.000000     -1.000000     -1.000000     -1.000000     -1.000000  ...   \n",
       "5     34.000000      0.000000      0.000000      0.000000      0.000000  ...   \n",
       "6     41.000000      0.000000      0.000000      0.000000      0.000000  ...   \n",
       "7     79.000000      8.000000      8.000000      8.000000      8.000000  ...   \n",
       "\n",
       "       BILL_AMT2     BILL_AMT3      BILL_AMT4      BILL_AMT5       PAY_AMT1  \\\n",
       "0   30000.000000  3.000000e+04   30000.000000   30000.000000   30000.000000   \n",
       "1   49179.075167  4.701315e+04   43262.948967   40311.400967    5663.580500   \n",
       "2   71173.768783  6.934939e+04   64332.856134   60797.155770   16563.280354   \n",
       "3  -69777.000000 -1.572640e+05 -170000.000000  -81334.000000       0.000000   \n",
       "4    2984.750000  2.666250e+03    2326.750000    1763.000000    1000.000000   \n",
       "5   21200.000000  2.008850e+04   19052.000000   18104.500000    2100.000000   \n",
       "6   64006.250000  6.016475e+04   54506.000000   50190.500000    5006.000000   \n",
       "7  983931.000000  1.664089e+06  891586.000000  927171.000000  873552.000000   \n",
       "\n",
       "       PAY_AMT2      PAY_AMT3       PAY_AMT4       PAY_AMT5       PAY_AMT6  \n",
       "0  3.000000e+04   30000.00000   30000.000000   30000.000000   30000.000000  \n",
       "1  5.921163e+03    5225.68150    4826.076867    4799.387633    5215.502567  \n",
       "2  2.304087e+04   17606.96147   15666.159744   15278.305679   17777.465775  \n",
       "3  0.000000e+00       0.00000       0.000000       0.000000       0.000000  \n",
       "4  8.330000e+02     390.00000     296.000000     252.500000     117.750000  \n",
       "5  2.009000e+03    1800.00000    1500.000000    1500.000000    1500.000000  \n",
       "6  5.000000e+03    4505.00000    4013.250000    4031.500000    4000.000000  \n",
       "7  1.684259e+06  896040.00000  621000.000000  426529.000000  528666.000000  \n",
       "\n",
       "[8 rows x 23 columns]"
      ]
     },
     "execution_count": 3,
     "metadata": {},
     "output_type": "execute_result"
    }
   ],
   "source": [
    "## 学習データの分布\n",
    "df_stats = pd.read_csv(\"UciCreditCard_train_data_summary.csv\")\n",
    "df_stats[['stats', *columns]]"
   ]
  },
  {
   "cell_type": "code",
   "execution_count": 4,
   "id": "765e333e",
   "metadata": {},
   "outputs": [],
   "source": [
    "## ランダムにデータを生成する関数\n",
    "\n",
    "def random_norm_value(col):\n",
    "    ''' for \"BILL_AMT1\", \"BILL_AMT2\", \"BILL_AMT3\", \"BILL_AMT4\", \"BILL_AMT5\"\n",
    "    '''\n",
    "    val = np.random.normal(loc=df_stats.loc[df_stats['stats']=='mean', col],    # 正規乱数の平均値\n",
    "                           scale=df_stats.loc[df_stats['stats']=='std', col],    # 正規乱数の標準偏差\n",
    "                           size=1)[0].round()\n",
    "    return int(val)\n",
    "\n",
    "def random_norm_value_clip(col):\n",
    "    ''' for \"LIMIT_BAL\", \"AGE\", \"PAY_AMT1\", \"PAY_AMT2\", \"PAY_AMT3\", \"PAY_AMT4\", \"PAY_AMT5\", \"PAY_AMT6\"\n",
    "    '''\n",
    "    val = np.random.normal(loc=df_stats.loc[df_stats['stats']=='mean', col],    # 正規乱数の平均値\n",
    "                           scale=df_stats.loc[df_stats['stats']=='std', col],    # 正規乱数の標準偏差\n",
    "                           size=1)[0].round()\n",
    "    if val<0:\n",
    "        val = 0\n",
    "    return int(val)\n",
    "\n",
    "def random_unif_value(col):\n",
    "    ''' for \"SEX\", \"EDUCATION\", \"MARRIAGE\", \"PAY_0\", \"PAY_2\", \"PAY_3\", \"PAY_4\", \"PAY_5\", \"PAY_6\"\n",
    "    '''\n",
    "    val = np.random.uniform(low=df_stats.loc[df_stats['stats']=='min', col],     # 一様乱数の最小値\n",
    "                            high=df_stats.loc[df_stats['stats']=='max', col],   # 一様乱数の最大値\n",
    "                            size=1)[0].round()\n",
    "    return int(val)\n",
    "\n",
    "def get_request_data():\n",
    "    ''' 1行スコアリングのためのデータをListで返す\n",
    "    '''\n",
    "    sim_data = []\n",
    "    for col in columns:\n",
    "        if col in [\"BILL_AMT1\", \"BILL_AMT2\", \"BILL_AMT3\", \"BILL_AMT4\", \"BILL_AMT5\"]:\n",
    "            sim_data.append(random_norm_value(col=col))\n",
    "        elif col in [\"LIMIT_BAL\", \"AGE\", \"PAY_AMT1\", \"PAY_AMT2\", \"PAY_AMT3\", \"PAY_AMT4\", \"PAY_AMT5\", \"PAY_AMT6\"]:\n",
    "            sim_data.append(random_norm_value_clip(col=col))\n",
    "        else:  # if in [\"SEX\", \"EDUCATION\", \"MARRIAGE\", \"PAY_0\", \"PAY_2\", \"PAY_3\", \"PAY_4\", \"PAY_5\", \"PAY_6\"]\n",
    "            sim_data.append(random_unif_value(col=col))\n",
    "    return sim_data"
   ]
  },
  {
   "cell_type": "code",
   "execution_count": 5,
   "id": "f762a19c",
   "metadata": {},
   "outputs": [
    {
     "name": "stdout",
     "output_type": "stream",
     "text": [
      "223386\n",
      "46\n",
      "1\n"
     ]
    }
   ],
   "source": [
    "print( random_norm_value('BILL_AMT1') )\n",
    "print( random_norm_value('AGE') )\n",
    "print( random_unif_value('SEX') )"
   ]
  },
  {
   "cell_type": "code",
   "execution_count": 6,
   "id": "46c0d207",
   "metadata": {},
   "outputs": [
    {
     "data": {
      "text/plain": [
       "[52614,\n",
       " 2,\n",
       " 4,\n",
       " 3,\n",
       " 43,\n",
       " 6,\n",
       " -2,\n",
       " 3,\n",
       " 3,\n",
       " 8,\n",
       " 7,\n",
       " 31400,\n",
       " 69683,\n",
       " 15923,\n",
       " 44973,\n",
       " 99354,\n",
       " 0,\n",
       " 21027,\n",
       " 38112,\n",
       " 45425,\n",
       " 13228,\n",
       " 4988]"
      ]
     },
     "execution_count": 6,
     "metadata": {},
     "output_type": "execute_result"
    }
   ],
   "source": [
    "# 乱数から生成したスコアリング用データ\n",
    "get_request_data()"
   ]
  },
  {
   "cell_type": "markdown",
   "id": "82c76da4",
   "metadata": {},
   "source": [
    "### シミュレーションデータによるスコアリングの実施"
   ]
  },
  {
   "cell_type": "code",
   "execution_count": 7,
   "id": "7339c66d",
   "metadata": {},
   "outputs": [],
   "source": [
    "## Utility関数\n",
    "\n",
    "def elem_to_str(lst):\n",
    "    ''' [1,2,3]  ->  ['1','2','3']\n",
    "    '''\n",
    "    return [str(elem) for elem in lst]\n",
    "\n",
    "def list_to_str(lst_external):\n",
    "    ''' [[1,2,3], [4,5,6]]  ->  [['1','2','3'], ['4','5','6']]\n",
    "    '''\n",
    "    lst_return = []\n",
    "    for lst in lst_external:\n",
    "        lst_return.append(elem_to_str(lst))\n",
    "    return lst_return\n",
    "\n",
    "def get_pred(res_lst):\n",
    "    proba_list = []\n",
    "    for lst in res_lst:\n",
    "        proba_list.append(float(lst[1]))\n",
    "    return proba_list"
   ]
  },
  {
   "cell_type": "code",
   "execution_count": 8,
   "id": "047ba2bd",
   "metadata": {},
   "outputs": [],
   "source": [
    "# APIポイント\n",
    "api_point = \"http://34.222.144.49:1080/7956de57-b45d-40d7-9b38-f6c4f6478b39/model/score\"\n",
    "# header\n",
    "headers = {'Content-Type': 'application/json'}"
   ]
  },
  {
   "cell_type": "code",
   "execution_count": 9,
   "id": "42490afb",
   "metadata": {},
   "outputs": [
    {
     "name": "stdout",
     "output_type": "stream",
     "text": [
      "Scoring input data: [284111, 2, 5, 1, 40, 6, 6, 2, 0, 1, 6, 56718, 119811, 47836, 48965, 52789, 671, 12569, 1198, 5460, 15546, 12784]\n"
     ]
    },
    {
     "data": {
      "text/plain": [
       "{'fields': ['default payment next month.0', 'default payment next month.1'],\n",
       " 'id': '1a6280c6-1f71-11eb-a0a1-0242ac11000f',\n",
       " 'score': [['0.5378406047821045', '0.4621593952178955']]}"
      ]
     },
     "execution_count": 9,
     "metadata": {},
     "output_type": "execute_result"
    }
   ],
   "source": [
    "data = get_request_data()\n",
    "print(\"Scoring input data: {}\".format(data))\n",
    "json_data = {\"fields\":columns, \"rows\":[elem_to_str(data)]}\n",
    "\n",
    "response = requests.post(url=api_point, headers=headers, data=json.dumps(json_data))\n",
    "response.json()"
   ]
  },
  {
   "cell_type": "code",
   "execution_count": 11,
   "id": "f4f1ce2a",
   "metadata": {},
   "outputs": [],
   "source": [
    "## シミュレーション実施関数\n",
    "\n",
    "def data_pump(n_scoring=10):\n",
    "    res_list = []\n",
    "    counter = 0\n",
    "    while counter<n_scoring:\n",
    "        print('Count: {}'.format(counter))\n",
    "        res = {}\n",
    "        res['count'] = counter\n",
    "        data = get_request_data()   # インプットデータ\n",
    "        res['data'] = data\n",
    "        json_data = {\"fields\":columns, \"rows\":[elem_to_str(data)]}\n",
    "        response = requests.post(url=api_point, headers=headers, data=json.dumps(json_data))   # リクエストの実行\n",
    "        res['predict'] = get_pred(response.json()['score'])[0]\n",
    "        res_list.append(res)\n",
    "        counter += 1\n",
    "        time.sleep(np.random.uniform(low=0.1, high=3, size=1)[0])  # 乱数に従ってスリープ（0.1~3秒）\n",
    "    return res_list"
   ]
  },
  {
   "cell_type": "code",
   "execution_count": 12,
   "id": "408a86c3",
   "metadata": {},
   "outputs": [
    {
     "name": "stdout",
     "output_type": "stream",
     "text": [
      "Count: 0\n",
      "Count: 1\n",
      "Count: 2\n",
      "Count: 3\n",
      "Count: 4\n",
      "Count: 5\n",
      "Count: 6\n",
      "Count: 7\n",
      "Count: 8\n",
      "Count: 9\n",
      "Count: 10\n",
      "Count: 11\n",
      "Count: 12\n",
      "Count: 13\n",
      "Count: 14\n"
     ]
    }
   ],
   "source": [
    "# n_scoring回、リクエストを実施\n",
    "res = data_pump(n_scoring=15)"
   ]
  },
  {
   "cell_type": "code",
   "execution_count": 13,
   "id": "f37e2031",
   "metadata": {},
   "outputs": [
    {
     "data": {
      "text/plain": [
       "[{'count': 0,\n",
       "  'data': [89401,\n",
       "   2,\n",
       "   1,\n",
       "   1,\n",
       "   35,\n",
       "   8,\n",
       "   6,\n",
       "   0,\n",
       "   6,\n",
       "   2,\n",
       "   6,\n",
       "   165578,\n",
       "   -7009,\n",
       "   -70084,\n",
       "   45021,\n",
       "   96086,\n",
       "   0,\n",
       "   0,\n",
       "   194,\n",
       "   0,\n",
       "   29641,\n",
       "   9365],\n",
       "  'predict': 0.529798835515976},\n",
       " {'count': 1,\n",
       "  'data': [66750,\n",
       "   2,\n",
       "   5,\n",
       "   2,\n",
       "   32,\n",
       "   2,\n",
       "   3,\n",
       "   8,\n",
       "   0,\n",
       "   5,\n",
       "   0,\n",
       "   12501,\n",
       "   109468,\n",
       "   40397,\n",
       "   161493,\n",
       "   31828,\n",
       "   8559,\n",
       "   0,\n",
       "   42849,\n",
       "   0,\n",
       "   0,\n",
       "   18800],\n",
       "  'predict': 0.5029044821858406}]"
      ]
     },
     "execution_count": 13,
     "metadata": {},
     "output_type": "execute_result"
    }
   ],
   "source": [
    "res[:2]"
   ]
  },
  {
   "cell_type": "markdown",
   "id": "f8c3f645",
   "metadata": {},
   "source": [
    "#### Grafanaダッシュボード"
   ]
  },
  {
   "cell_type": "markdown",
   "id": "17d2e6f4",
   "metadata": {},
   "source": [
    "![grafana_top](image/grafana_top.png)"
   ]
  },
  {
   "cell_type": "markdown",
   "id": "46e9cf2f",
   "metadata": {},
   "source": [
    "スコアリング結果（prob(y=1)）の分布"
   ]
  },
  {
   "cell_type": "markdown",
   "id": "2ff12181",
   "metadata": {},
   "source": [
    "![grafana_res](image/grafana_res.png)"
   ]
  },
  {
   "cell_type": "code",
   "execution_count": null,
   "id": "71b07759",
   "metadata": {},
   "outputs": [],
   "source": []
  }
 ],
 "metadata": {
  "kernelspec": {
   "display_name": "Python 3",
   "language": "python",
   "name": "python3"
  },
  "language_info": {
   "codemirror_mode": {
    "name": "ipython",
    "version": 3
   },
   "file_extension": ".py",
   "mimetype": "text/x-python",
   "name": "python",
   "nbconvert_exporter": "python",
   "pygments_lexer": "ipython3",
   "version": "3.8.3"
  }
 },
 "nbformat": 4,
 "nbformat_minor": 5
}
