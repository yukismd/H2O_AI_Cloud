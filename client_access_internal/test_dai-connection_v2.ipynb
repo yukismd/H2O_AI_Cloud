{
 "cells": [
  {
   "cell_type": "code",
   "execution_count": null,
   "id": "f632451c-87c3-425f-b8b1-31f5cfed59cb",
   "metadata": {},
   "outputs": [],
   "source": []
  },
  {
   "cell_type": "code",
   "execution_count": 1,
   "id": "733c883b-37f8-453e-9011-bd0d5ce35c59",
   "metadata": {},
   "outputs": [
    {
     "name": "stdout",
     "output_type": "stream",
     "text": [
      "/home/jovyan/work/my-notebooks\n"
     ]
    }
   ],
   "source": [
    "!pwd\n",
    "# /home/jovyan/work/my-notebooks    <- このNotebookの実行パス"
   ]
  },
  {
   "cell_type": "code",
   "execution_count": 2,
   "id": "9ed8c7db-476c-4312-982c-8417cfa7e554",
   "metadata": {},
   "outputs": [
    {
     "name": "stdout",
     "output_type": "stream",
     "text": [
      " Data\t\t      h2o_ai_cloud.py   __pycache__\n",
      "'Example Notebooks'   my-notebooks      README.md\n"
     ]
    }
   ],
   "source": [
    "!ls ..\n",
    "# h2o_ai_cloud.pyが存在すること"
   ]
  },
  {
   "cell_type": "code",
   "execution_count": 3,
   "id": "9838310e-62b0-4fe4-928e-14a1f87dbb31",
   "metadata": {},
   "outputs": [],
   "source": [
    "# This notebook uses common methods for connecting to the H2O AI Cloud from the h2o_ai_cloud.py file\n",
    "# We will add the location of that file to our workspace\n",
    "# You could also directly use the code from the file in your notebooks\n",
    "import sys\n",
    "sys.path.append(\"../\")"
   ]
  },
  {
   "cell_type": "code",
   "execution_count": 4,
   "id": "6ab2a8f6-a4aa-4bb3-8302-7f7c3f7cb866",
   "metadata": {},
   "outputs": [],
   "source": [
    "from h2o_ai_cloud import token_provider, steam_client   # これはh2o_ai_cloud.pyファイル\n",
    "from h2osteam.clients import DriverlessClient"
   ]
  },
  {
   "cell_type": "code",
   "execution_count": 5,
   "id": "5fbb9bbe-5222-4d47-85fe-e13dcba26be9",
   "metadata": {},
   "outputs": [
    {
     "name": "stdout",
     "output_type": "stream",
     "text": [
      "Visit https://internal.dedicated.h2o.ai/auth/get-platform-token to get your platform token\n"
     ]
    },
    {
     "name": "stdin",
     "output_type": "stream",
     "text": [
      "Enter your platform token:  ·························································································································································································································································································································································································································································································································································································································································································································································································································································\n"
     ]
    }
   ],
   "source": [
    "steam = steam_client(token_provider())"
   ]
  },
  {
   "cell_type": "code",
   "execution_count": 6,
   "id": "a5671054-860f-4193-bf8b-2fa4a073fa57",
   "metadata": {},
   "outputs": [
    {
     "data": {
      "text/plain": [
       "<h2osteam.backend.connection.SteamConnection at 0x7fef4d056340>"
      ]
     },
     "execution_count": 6,
     "metadata": {},
     "output_type": "execute_result"
    }
   ],
   "source": [
    "steam"
   ]
  },
  {
   "cell_type": "code",
   "execution_count": 7,
   "id": "2db531b7-ee70-4a8a-ac91-999973874420",
   "metadata": {},
   "outputs": [
    {
     "data": {
      "text/plain": [
       "<h2osteam.clients.driverless.driverless_client.DriverlessClient at 0x7fef6410c580>"
      ]
     },
     "execution_count": 7,
     "metadata": {},
     "output_type": "execute_result"
    }
   ],
   "source": [
    "DriverlessClient(steam)"
   ]
  },
  {
   "cell_type": "markdown",
   "id": "e288783d-ebba-4665-aab2-c10c51c4a1d4",
   "metadata": {},
   "source": [
    "ドキュメント: [h2osteam.clients.driverless.driverless_client.DriverlessClient](https://docs.h2o.ai/enterprise-steam/latest-stable/docs/python-docs/clients.html#h2osteam-clients-driverless)"
   ]
  },
  {
   "cell_type": "code",
   "execution_count": 8,
   "id": "c544c092-70c4-42d5-b369-cfd7389367ff",
   "metadata": {},
   "outputs": [
    {
     "data": {
      "text/plain": [
       "[<h2osteam.clients.driverless.driverless_instance.DriverlessInstance at 0x7fef6814a640>,\n",
       " <h2osteam.clients.driverless.driverless_instance.DriverlessInstance at 0x7fef4dcae9d0>]"
      ]
     },
     "execution_count": 8,
     "metadata": {},
     "output_type": "execute_result"
    }
   ],
   "source": [
    "# Steam上のDAI\n",
    "DriverlessClient(steam).get_instances()"
   ]
  },
  {
   "cell_type": "code",
   "execution_count": 9,
   "id": "876b9d7b-9f7a-434b-8410-1f431bd973e8",
   "metadata": {},
   "outputs": [
    {
     "data": {
      "text/plain": [
       "<h2osteam.clients.driverless.driverless_instance.DriverlessInstance at 0x7fef640eff10>"
      ]
     },
     "execution_count": 9,
     "metadata": {},
     "output_type": "execute_result"
    }
   ],
   "source": [
    "# 一つ目を取得\n",
    "dai_machine = DriverlessClient(steam).get_instances()[0]\n",
    "dai_machine"
   ]
  },
  {
   "cell_type": "code",
   "execution_count": 10,
   "id": "f8aab102-2ef1-47c1-94d4-703e5a13eec9",
   "metadata": {},
   "outputs": [],
   "source": [
    "# 詳細を確認\n",
    "#dai_machine.details()"
   ]
  },
  {
   "cell_type": "code",
   "execution_count": 11,
   "id": "a4ce479a-648d-4f4b-9f83-098d59cae246",
   "metadata": {},
   "outputs": [
    {
     "data": {
      "text/plain": [
       "('DAI-Steam', 'running')"
      ]
     },
     "execution_count": 11,
     "metadata": {},
     "output_type": "execute_result"
    }
   ],
   "source": [
    "# DAIの名前とステータス（runningなど）の確認\n",
    "dai_machine.details()['name'], dai_machine.details()['status'], "
   ]
  },
  {
   "cell_type": "code",
   "execution_count": 13,
   "id": "283a06ee-625b-4b61-a443-0152dc7a715c",
   "metadata": {},
   "outputs": [
    {
     "data": {
      "text/plain": [
       "<class 'driverlessai._core.Client'> https://steam.internal.dedicated.h2o.ai:443/proxy/driverless/571"
      ]
     },
     "execution_count": 13,
     "metadata": {},
     "output_type": "execute_result"
    }
   ],
   "source": [
    "# DAI（名前がDAI-SteamのDAI）へ接続。DAIが起動していることが前提\n",
    "dai = dai_machine.connect()\n",
    "dai"
   ]
  },
  {
   "cell_type": "markdown",
   "id": "1790a0d6-2ea2-4076-8acd-2bf1dd6cdfd3",
   "metadata": {},
   "source": [
    "ドキュメント: [driverlessai._core.Client](https://docs.h2o.ai/driverless-ai/pyclient/docs/html/api/client.html#client)"
   ]
  },
  {
   "cell_type": "code",
   "execution_count": null,
   "id": "1d1322df-0e98-47de-af3a-fa30d8961106",
   "metadata": {},
   "outputs": [],
   "source": [
    "# 新規にDAIを作成する場合は以下を実施\n",
    "'''\n",
    "dai_machine = DriverlessClient(steam).launch_instance(\n",
    "    name=\"my-automl\",\n",
    "    version=steam.get_driverless_engines()[-1][\"version\"],  # newest version of the AutoML software\n",
    "    profile_name=\"default-driverless-kubernetes\",\n",
    "    max_uptime_h=1\n",
    ")\n",
    "dai = dai_machine.connect()\n",
    "'''"
   ]
  },
  {
   "cell_type": "code",
   "execution_count": 30,
   "id": "7c3a7b98-e9a2-41ae-9185-7d2ec3e2ef04",
   "metadata": {},
   "outputs": [
    {
     "data": {
      "text/plain": [
       "['upload',\n",
       " 's3',\n",
       " 'snow',\n",
       " 'file',\n",
       " 'feature_store',\n",
       " 'recipe_file',\n",
       " 'recipe_url',\n",
       " 'h2o_drive',\n",
       " 'feature_store']"
      ]
     },
     "execution_count": 30,
     "metadata": {},
     "output_type": "execute_result"
    }
   ],
   "source": [
    "dai.connectors.list()   # DAIが許可されているデータインポート方法"
   ]
  },
  {
   "cell_type": "code",
   "execution_count": 33,
   "id": "3bc57d09-4a87-46f4-b7df-b9387f649271",
   "metadata": {},
   "outputs": [
    {
     "data": {
      "text/plain": [
       "    | Type    | Key                                  | Name\n",
       "----+---------+--------------------------------------+-------------------\n",
       "  0 | Dataset | e33146da-1551-11ee-b52d-f6d1fd8105b7 | from_pandasDF\n",
       "  1 | Dataset | b7c901f8-154d-11ee-b52d-f6d1fd8105b7 | Telco_Churn\n",
       "  2 | Dataset | 5247cede-1545-11ee-b52d-f6d1fd8105b7 | TitanicData2.csv\n",
       "  3 | Dataset | 4fe255ce-1545-11ee-b52d-f6d1fd8105b7 | BostonHousing.csv"
      ]
     },
     "execution_count": 33,
     "metadata": {},
     "output_type": "execute_result"
    }
   ],
   "source": [
    "dai.datasets.list()   # DAI上のデータ"
   ]
  },
  {
   "cell_type": "code",
   "execution_count": null,
   "id": "aaabd5c5-4884-4e88-84f6-5212b8370afe",
   "metadata": {},
   "outputs": [],
   "source": []
  },
  {
   "cell_type": "markdown",
   "id": "de15ef1b-7261-42c5-bdf0-ee72fe099e0f",
   "metadata": {},
   "source": [
    "***"
   ]
  },
  {
   "cell_type": "markdown",
   "id": "b258630e-de5c-472a-a44d-93ac4bd4a467",
   "metadata": {},
   "source": [
    "#### AI Notebook上のCSVをDAIへアップロード"
   ]
  },
  {
   "cell_type": "code",
   "execution_count": 29,
   "id": "eda7baf4-1694-4827-9269-679af4e67e9c",
   "metadata": {},
   "outputs": [
    {
     "name": "stdout",
     "output_type": "stream",
     "text": [
      "BostonHousing.csv  churn.csv\n"
     ]
    }
   ],
   "source": [
    "!ls ../Data/\n",
    "# churn.csvがパス上に存在すること"
   ]
  },
  {
   "cell_type": "code",
   "execution_count": 30,
   "id": "168a0e5b-98e7-4be1-9171-4efe902f1db6",
   "metadata": {},
   "outputs": [
    {
     "name": "stdout",
     "output_type": "stream",
     "text": [
      "Complete 100.00% - [4/4] Computed stats for column Account Length\n"
     ]
    }
   ],
   "source": [
    "# これを実施すると、接続しているDAIにデータがアップロードされる\n",
    "telco_churn = dai.datasets.create(\n",
    "    data=\"../Data/churn.csv\", \n",
    "    name=\"Telco_Churn\",\n",
    ")"
   ]
  },
  {
   "cell_type": "code",
   "execution_count": 31,
   "id": "b9ff63f9-3351-41ac-9480-7cbcbf319627",
   "metadata": {},
   "outputs": [
    {
     "data": {
      "text/plain": [
       "<class 'Dataset'> b7c901f8-154d-11ee-b52d-f6d1fd8105b7 Telco_Churn"
      ]
     },
     "execution_count": 31,
     "metadata": {},
     "output_type": "execute_result"
    }
   ],
   "source": [
    "telco_churn"
   ]
  },
  {
   "cell_type": "markdown",
   "id": "050c53e8-2936-4e1b-bf9d-5e1777b5df98",
   "metadata": {},
   "source": [
    "ドキュメント: [Dataset](https://docs.h2o.ai/driverless-ai/pyclient/docs/html/api/objects.html#dataset)"
   ]
  },
  {
   "cell_type": "markdown",
   "id": "cd429a79-7c56-498a-8665-1c378ea6ea68",
   "metadata": {},
   "source": [
    "***"
   ]
  },
  {
   "cell_type": "markdown",
   "id": "96905236-7612-42f9-8bb1-16d07c41d3e3",
   "metadata": {},
   "source": [
    "#### AI Notebookのメモリ上にあるpandas.DataFrameをDAIへアップロード"
   ]
  },
  {
   "cell_type": "code",
   "execution_count": 17,
   "id": "292cd6c8-07c8-4a28-ba28-1591f1a9e1b0",
   "metadata": {},
   "outputs": [],
   "source": [
    "import pandas as pd"
   ]
  },
  {
   "cell_type": "code",
   "execution_count": 36,
   "id": "ac94b008-750b-40d2-a088-e854ab18e8fe",
   "metadata": {},
   "outputs": [],
   "source": [
    "df = pd.DataFrame({\n",
    "    'A':[1,2,3,4,5],\n",
    "    'B':[1,2,3,4,5],\n",
    "    'C':[1,2,3,4,5],\n",
    "})"
   ]
  },
  {
   "cell_type": "code",
   "execution_count": 44,
   "id": "9c96cf88-d65e-4b56-955f-757ac379f3be",
   "metadata": {},
   "outputs": [
    {
     "data": {
      "text/plain": [
       "<driverlessai._datasets.Datasets at 0x7fd34a881ca0>"
      ]
     },
     "execution_count": 44,
     "metadata": {},
     "output_type": "execute_result"
    }
   ],
   "source": [
    "dai.datasets"
   ]
  },
  {
   "cell_type": "markdown",
   "id": "a6c972ff-f06e-468d-af19-176b049f1f35",
   "metadata": {},
   "source": [
    "ドキュメント: [driverlessai._datasets.Datasets](https://docs.h2o.ai/driverless-ai/pyclient/docs/html/api/client.html#datasets)"
   ]
  },
  {
   "cell_type": "code",
   "execution_count": 52,
   "id": "ed836a73-f78d-45f8-a44a-4fe1c4a3ee36",
   "metadata": {},
   "outputs": [
    {
     "name": "stdout",
     "output_type": "stream",
     "text": [
      "Complete 100.00% - [4/4] Computed stats for column A\n"
     ]
    }
   ],
   "source": [
    "testdata = dai.datasets.create(\n",
    "    data=df,\n",
    "    name='from_pandasDF'\n",
    ")"
   ]
  },
  {
   "cell_type": "code",
   "execution_count": 51,
   "id": "9700f5a9-de0f-42a9-b95b-5f89f5f2dfa1",
   "metadata": {},
   "outputs": [
    {
     "data": {
      "text/plain": [
       "['A', 'B', 'C']"
      ]
     },
     "execution_count": 51,
     "metadata": {},
     "output_type": "execute_result"
    }
   ],
   "source": [
    "testdata.columns"
   ]
  },
  {
   "cell_type": "code",
   "execution_count": null,
   "id": "1623d493-89cb-4727-b0a3-b7b2b5d36b96",
   "metadata": {},
   "outputs": [],
   "source": [
    "# data_sourceは以下\n",
    "# ['upload', 's3', 'snow', 'file', 'feature_store', 'recipe_file', 'recipe_url', 'h2o_drive', 'feature_store']"
   ]
  },
  {
   "cell_type": "markdown",
   "id": "0a98a4b0-6a22-491d-b870-791dfb498a2b",
   "metadata": {},
   "source": [
    "***"
   ]
  },
  {
   "cell_type": "markdown",
   "id": "8a87b0ab-0889-43eb-a3ae-ecfa9e7056b1",
   "metadata": {},
   "source": [
    "#### H2O Drive上のデータをDAIへアップロード"
   ]
  },
  {
   "cell_type": "code",
   "execution_count": 37,
   "id": "8d2f7e13-dd49-47a4-9053-67049cc109a7",
   "metadata": {},
   "outputs": [
    {
     "name": "stdout",
     "output_type": "stream",
     "text": [
      "Complete 100.00% - [4/4] Computed stats for column CRIM\n"
     ]
    }
   ],
   "source": [
    "# これを実施すると、接続しているDAIにデータがアップロードされる\n",
    "data_h2odrive = dai.datasets.create(\n",
    "    #data=\"amazon_reviews_JP_Books_1000SAMPLE.csv\",   # H2O Drive上のデータ名。H2O DriveのHome上にデータを置いている場合\n",
    "    data=\"mydata/BostonHousing.csv\",   # H2O Drive上のデータ名。H2O DriveのHome上にmydataというフォルダを作成し、その中にデータを入れている場合\n",
    "    data_source=\"h2o_drive\",\n",
    "    name=\"data_from_drive\",\n",
    ")"
   ]
  },
  {
   "cell_type": "code",
   "execution_count": 38,
   "id": "a908bf95-960a-4ab7-bb32-52c0ccdcf900",
   "metadata": {},
   "outputs": [
    {
     "data": {
      "text/plain": [
       "<class 'Dataset'> 7182f5a6-16d2-11ee-93ee-0abcf8a3ed57 data_from_drive"
      ]
     },
     "execution_count": 38,
     "metadata": {},
     "output_type": "execute_result"
    }
   ],
   "source": [
    "data_h2odrive"
   ]
  },
  {
   "cell_type": "code",
   "execution_count": null,
   "id": "454b926c-88d5-409c-9506-b551400d0017",
   "metadata": {},
   "outputs": [],
   "source": []
  }
 ],
 "metadata": {
  "kernelspec": {
   "display_name": "Python3 (H2O AI Cloud)",
   "language": "python",
   "name": "haic"
  },
  "language_info": {
   "codemirror_mode": {
    "name": "ipython",
    "version": 3
   },
   "file_extension": ".py",
   "mimetype": "text/x-python",
   "name": "python",
   "nbconvert_exporter": "python",
   "pygments_lexer": "ipython3",
   "version": "3.9.12"
  }
 },
 "nbformat": 4,
 "nbformat_minor": 5
}
