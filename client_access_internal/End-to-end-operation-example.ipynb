{
 "cells": [
  {
   "cell_type": "markdown",
   "id": "016742aa",
   "metadata": {},
   "source": [
    "# ローカル環境からH2O AI Cloudへのアクセス"
   ]
  },
  {
   "cell_type": "code",
   "execution_count": null,
   "id": "db7a890c",
   "metadata": {},
   "outputs": [],
   "source": []
  },
  {
   "cell_type": "markdown",
   "id": "80f69b1c",
   "metadata": {},
   "source": [
    "PythonからAI Cloud上へのDriverlessAI、MLOpsへのアクセス：https://docs.h2o.ai/haic-documentation/guide/general/using-platform-token  \n",
    "DriverlessAIに対するPython操作詳細：https://docs.h2o.ai/driverless-ai/1-10-lts/docs/userguide/python_client.html  \n",
    "MLOpsに対するPython操作詳細：https://docs.h2o.ai/mlops/py-client/overview"
   ]
  },
  {
   "cell_type": "code",
   "execution_count": null,
   "id": "dab94aa2",
   "metadata": {},
   "outputs": [],
   "source": []
  },
  {
   "cell_type": "code",
   "execution_count": null,
   "id": "b2dc270b",
   "metadata": {},
   "outputs": [],
   "source": []
  },
  {
   "cell_type": "markdown",
   "id": "3f0b63c8",
   "metadata": {},
   "source": [
    "<img src=\"image/AiCloud_ApiAccess.png\" width=600px>"
   ]
  },
  {
   "cell_type": "code",
   "execution_count": 1,
   "id": "d2a59571",
   "metadata": {},
   "outputs": [
    {
     "name": "stdout",
     "output_type": "stream",
     "text": [
      "Python 3.8.16\r\n"
     ]
    }
   ],
   "source": [
    "!python -V"
   ]
  },
  {
   "cell_type": "markdown",
   "id": "86a3bdae",
   "metadata": {},
   "source": [
    "必要Pythonライブラリ\n",
    "- **h2o_authn** \n",
    "- **h2o_mlops_client** - MLOpsクライアント\n",
    "- **h2osteam** - SteamによりDriverless AIへアクセスする場合\n",
    "- **h2o-engine-manager** - AI Engine ManagerによりDriverless AIへアクセスする場合"
   ]
  },
  {
   "cell_type": "code",
   "execution_count": 2,
   "id": "33c67d10",
   "metadata": {},
   "outputs": [
    {
     "name": "stdout",
     "output_type": "stream",
     "text": [
      "h2o                                                           3.40.0.4\r\n",
      "h2o-authn                                                     1.0.0\r\n",
      "h2o-cloud-discovery                                           1.0.1\r\n",
      "h2o-engine-manager                                            0.4.0\r\n",
      "h2o-mlops-client                                              0.56.1+dd66f93.rel0.56.1.2\r\n",
      "h2osteam                                                      1.8.12\r\n",
      "scoring-h2oai-experiment-1fdfee78-3dec-11eb-8f87-0242ac110002 1.0.0\r\n"
     ]
    }
   ],
   "source": [
    "!pip list | grep h2o"
   ]
  },
  {
   "cell_type": "code",
   "execution_count": 3,
   "id": "f2da0777",
   "metadata": {},
   "outputs": [],
   "source": [
    "import sys\n",
    "sys.path.append('utility/')    # h2o_ai_cloud.pyはutilityディレクトリ上に配置済み"
   ]
  },
  {
   "cell_type": "code",
   "execution_count": 4,
   "id": "61299af4",
   "metadata": {},
   "outputs": [],
   "source": [
    "'''\n",
    "from h2o_ai_cloud import token_provider, steam_client\n",
    "import h2osteam \n",
    "import h2o_engine_manager\n",
    "'''"
   ]
  },
  {
   "cell_type": "code",
   "execution_count": 17,
   "id": "83375b91",
   "metadata": {},
   "outputs": [],
   "source": [
    "import h2o_authn \n",
    "import getpass \n",
    "\n",
    "import h2osteam \n",
    "import h2o_engine_manager \n"
   ]
  },
  {
   "cell_type": "code",
   "execution_count": 9,
   "id": "1ab07710",
   "metadata": {},
   "outputs": [
    {
     "name": "stdout",
     "output_type": "stream",
     "text": [
      "Visit https://internal.dedicated.h2o.ai/auth/get-platform-token to get your platform token\n",
      "Enter your platform token: ········\n"
     ]
    }
   ],
   "source": [
    "## トークンによる認証\n",
    "\n",
    "print(f\"Visit https://internal.dedicated.h2o.ai/auth/get-platform-token to get your platform token\") \n",
    "\n",
    "token_provider = h2o_authn.TokenProvider(\n",
    "    refresh_token=getpass.getpass('Enter your platform token: '),\n",
    "    client_id=\"hac-platform-public\", \n",
    "    token_endpoint_url=\"https://auth.internal.dedicated.h2o.ai/auth/realms/hac/protocol/openid-connect/token\" \n",
    ")"
   ]
  },
  {
   "cell_type": "code",
   "execution_count": 38,
   "id": "6a3f4add",
   "metadata": {},
   "outputs": [],
   "source": [
    "# token_provider()を実行すると登録したトークンが表示される\n",
    "#token_provider()"
   ]
  },
  {
   "cell_type": "markdown",
   "id": "55a1e1f0",
   "metadata": {},
   "source": [
    "## Steam"
   ]
  },
  {
   "cell_type": "code",
   "execution_count": 25,
   "id": "e36c993d",
   "metadata": {},
   "outputs": [
    {
     "ename": "HTTPError",
     "evalue": "'401: This user has been deactivated\\n'",
     "output_type": "error",
     "traceback": [
      "\u001b[0;31m---------------------------------------------------------------------------\u001b[0m",
      "\u001b[0;31mHTTPError\u001b[0m                                 Traceback (most recent call last)",
      "Cell \u001b[0;32mIn[25], line 3\u001b[0m\n\u001b[1;32m      1\u001b[0m \u001b[38;5;66;03m## Steamへのログイン\u001b[39;00m\n\u001b[0;32m----> 3\u001b[0m \u001b[43mh2osteam\u001b[49m\u001b[38;5;241;43m.\u001b[39;49m\u001b[43mlogin\u001b[49m\u001b[43m(\u001b[49m\n\u001b[1;32m      4\u001b[0m \u001b[43m    \u001b[49m\u001b[43murl\u001b[49m\u001b[38;5;241;43m=\u001b[39;49m\u001b[38;5;124;43m\"\u001b[39;49m\u001b[38;5;124;43mhttps://steam.internal.dedicated.h2o.ai\u001b[39;49m\u001b[38;5;124;43m\"\u001b[39;49m\u001b[43m,\u001b[49m\u001b[43m \u001b[49m\n\u001b[1;32m      5\u001b[0m \u001b[43m    \u001b[49m\u001b[43maccess_token\u001b[49m\u001b[38;5;241;43m=\u001b[39;49m\u001b[43mtoken_provider\u001b[49m\u001b[43m(\u001b[49m\u001b[43m)\u001b[49m\n\u001b[1;32m      6\u001b[0m \u001b[43m)\u001b[49m\n\u001b[1;32m      7\u001b[0m \u001b[38;5;66;03m# -> Steamアカウントが削除されている\u001b[39;00m\n",
      "File \u001b[0;32m/opt/anaconda3/envs/A_Cloud/lib/python3.8/site-packages/h2osteam/h2osteam.py:77\u001b[0m, in \u001b[0;36mlogin\u001b[0;34m(url, username, password, verify_ssl, cacert, access_token, refresh_token, no_proxy)\u001b[0m\n\u001b[1;32m     74\u001b[0m \u001b[38;5;28;01mif\u001b[39;00m no_proxy \u001b[38;5;129;01mis\u001b[39;00m \u001b[38;5;28;01mTrue\u001b[39;00m:\n\u001b[1;32m     75\u001b[0m     set_env_no_proxy(host\u001b[38;5;241m=\u001b[39mhost)\n\u001b[0;32m---> 77\u001b[0m conn \u001b[38;5;241m=\u001b[39m \u001b[43mSteamConnection\u001b[49m\u001b[38;5;241;43m.\u001b[39;49m\u001b[43mopen\u001b[49m\u001b[43m(\u001b[49m\u001b[43mscheme\u001b[49m\u001b[38;5;241;43m=\u001b[39;49m\u001b[43mscheme\u001b[49m\u001b[43m,\u001b[49m\n\u001b[1;32m     78\u001b[0m \u001b[43m                            \u001b[49m\u001b[43mhost\u001b[49m\u001b[38;5;241;43m=\u001b[39;49m\u001b[43mhost\u001b[49m\u001b[43m,\u001b[49m\n\u001b[1;32m     79\u001b[0m \u001b[43m                            \u001b[49m\u001b[43mpath\u001b[49m\u001b[38;5;241;43m=\u001b[39;49m\u001b[43mpath\u001b[49m\u001b[43m,\u001b[49m\n\u001b[1;32m     80\u001b[0m \u001b[43m                            \u001b[49m\u001b[43mport\u001b[49m\u001b[38;5;241;43m=\u001b[39;49m\u001b[43mport\u001b[49m\u001b[43m,\u001b[49m\n\u001b[1;32m     81\u001b[0m \u001b[43m                            \u001b[49m\u001b[43musername\u001b[49m\u001b[38;5;241;43m=\u001b[39;49m\u001b[43musername\u001b[49m\u001b[43m,\u001b[49m\n\u001b[1;32m     82\u001b[0m \u001b[43m                            \u001b[49m\u001b[43mpassword\u001b[49m\u001b[38;5;241;43m=\u001b[39;49m\u001b[43mpassword\u001b[49m\u001b[43m,\u001b[49m\n\u001b[1;32m     83\u001b[0m \u001b[43m                            \u001b[49m\u001b[43mverify_ssl\u001b[49m\u001b[38;5;241;43m=\u001b[39;49m\u001b[43mverify_ssl\u001b[49m\u001b[43m,\u001b[49m\n\u001b[1;32m     84\u001b[0m \u001b[43m                            \u001b[49m\u001b[43mcacert\u001b[49m\u001b[38;5;241;43m=\u001b[39;49m\u001b[43mcacert\u001b[49m\u001b[43m,\u001b[49m\n\u001b[1;32m     85\u001b[0m \u001b[43m                            \u001b[49m\u001b[43maccess_token\u001b[49m\u001b[38;5;241;43m=\u001b[39;49m\u001b[43maccess_token\u001b[49m\u001b[43m,\u001b[49m\n\u001b[1;32m     86\u001b[0m \u001b[43m                            \u001b[49m\u001b[43mrefresh_token\u001b[49m\u001b[38;5;241;43m=\u001b[39;49m\u001b[43mrefresh_token\u001b[49m\u001b[43m)\u001b[49m\n\u001b[1;32m     88\u001b[0m \u001b[38;5;28;01mreturn\u001b[39;00m conn\n",
      "File \u001b[0;32m/opt/anaconda3/envs/A_Cloud/lib/python3.8/site-packages/h2osteam/backend/connection.py:59\u001b[0m, in \u001b[0;36mSteamConnection.open\u001b[0;34m(scheme, host, path, port, username, password, verify_ssl, cacert, access_token, refresh_token)\u001b[0m\n\u001b[1;32m     52\u001b[0m res \u001b[38;5;241m=\u001b[39m requests\u001b[38;5;241m.\u001b[39mrequest(\u001b[38;5;124m'\u001b[39m\u001b[38;5;124mPOST\u001b[39m\u001b[38;5;124m'\u001b[39m, \u001b[38;5;124m'\u001b[39m\u001b[38;5;132;01m%s\u001b[39;00m\u001b[38;5;124m://\u001b[39m\u001b[38;5;132;01m%s\u001b[39;00m\u001b[38;5;124m:\u001b[39m\u001b[38;5;132;01m%s\u001b[39;00m\u001b[38;5;132;01m%s\u001b[39;00m\u001b[38;5;124m/auth\u001b[39m\u001b[38;5;124m'\u001b[39m \u001b[38;5;241m%\u001b[39m (scheme, host, port, path),\n\u001b[1;32m     53\u001b[0m                        data\u001b[38;5;241m=\u001b[39m{\u001b[38;5;124m'\u001b[39m\u001b[38;5;124maccess_token\u001b[39m\u001b[38;5;124m'\u001b[39m: access_token, \u001b[38;5;124m'\u001b[39m\u001b[38;5;124mrefresh_token\u001b[39m\u001b[38;5;124m'\u001b[39m: refresh_token},\n\u001b[1;32m     54\u001b[0m                        auth\u001b[38;5;241m=\u001b[39m(username, password),\n\u001b[1;32m     55\u001b[0m                        verify\u001b[38;5;241m=\u001b[39mrequests_verify_ssl,\n\u001b[1;32m     56\u001b[0m                        allow_redirects\u001b[38;5;241m=\u001b[39m\u001b[38;5;28;01mFalse\u001b[39;00m)\n\u001b[1;32m     58\u001b[0m \u001b[38;5;28;01mif\u001b[39;00m res\u001b[38;5;241m.\u001b[39mstatus_code \u001b[38;5;241m!=\u001b[39m \u001b[38;5;241m200\u001b[39m \u001b[38;5;129;01mand\u001b[39;00m res\u001b[38;5;241m.\u001b[39mstatus_code \u001b[38;5;241m!=\u001b[39m \u001b[38;5;241m307\u001b[39m:\n\u001b[0;32m---> 59\u001b[0m     \u001b[38;5;28;01mraise\u001b[39;00m HTTPError(res\u001b[38;5;241m.\u001b[39mstatus_code, res\u001b[38;5;241m.\u001b[39mcontent\u001b[38;5;241m.\u001b[39mdecode())\n\u001b[1;32m     61\u001b[0m \u001b[38;5;28;01mif\u001b[39;00m \u001b[38;5;124m\"\u001b[39m\u001b[38;5;124msteam-session\u001b[39m\u001b[38;5;124m\"\u001b[39m \u001b[38;5;129;01mnot\u001b[39;00m \u001b[38;5;129;01min\u001b[39;00m res\u001b[38;5;241m.\u001b[39mcookies:\n\u001b[1;32m     62\u001b[0m     \u001b[38;5;28;01mraise\u001b[39;00m \u001b[38;5;167;01mException\u001b[39;00m(\u001b[38;5;124m\"\u001b[39m\u001b[38;5;124mInvalid URL path\u001b[39m\u001b[38;5;124m\"\u001b[39m)\n",
      "\u001b[0;31mHTTPError\u001b[0m: '401: This user has been deactivated\\n'"
     ]
    }
   ],
   "source": [
    "## Steamへのログイン\n",
    "\n",
    "h2osteam.login(\n",
    "    url=\"https://steam.internal.dedicated.h2o.ai\", \n",
    "    access_token=token_provider()\n",
    ")\n",
    "# -> Steamアカウントが削除されている"
   ]
  },
  {
   "cell_type": "markdown",
   "id": "eb27246b",
   "metadata": {},
   "source": [
    "## AI Engine Manager"
   ]
  },
  {
   "cell_type": "code",
   "execution_count": 80,
   "id": "0485e689",
   "metadata": {},
   "outputs": [
    {
     "data": {
      "text/plain": [
       "<h2o_engine_manager.clients.login.Clients at 0x7ff1180e4d90>"
      ]
     },
     "execution_count": 80,
     "metadata": {},
     "output_type": "execute_result"
    }
   ],
   "source": [
    "## Engine Managerへのログイン\n",
    "\n",
    "aiem = h2o_engine_manager.login(\n",
    "    environment=\"https://internal.dedicated.h2o.ai\", \n",
    "    token_provider=token_provider\n",
    ")\n",
    "aiem"
   ]
  },
  {
   "cell_type": "markdown",
   "id": "b632c1f3",
   "metadata": {},
   "source": [
    "### ドキュメント\n",
    "[AI Engine Python API](https://h2oai.github.io/ai-engine-manager/docs/py/clients/)"
   ]
  },
  {
   "cell_type": "code",
   "execution_count": 88,
   "id": "3d699811",
   "metadata": {},
   "outputs": [
    {
     "data": {
      "text/plain": [
       "{'engines': [{'annotations': {},\n",
       " 'api_url': 'https://enginemanager.internal.dedicated.h2o.ai/workspaces/default/daiEngines/snk',\n",
       " 'client_info': <h2o_engine_manager.clients.dai_engine.client_info.ClientInfo object at 0x7ff13a2bed00>,\n",
       " 'config': {},\n",
       " 'cpu': 8,\n",
       " 'create_time': datetime.datetime(2023, 6, 3, 22, 44, 11, tzinfo=tzutc()),\n",
       " 'creator': 'users/bc34ef4d-ff29-4375-8bab-04d860fcac32',\n",
       " 'creator_display_name': 'yuki.shimada@h2o.ai',\n",
       " 'current_idle_duration': None,\n",
       " 'current_running_duration': None,\n",
       " 'delete_time': None,\n",
       " 'display_name': 'snk',\n",
       " 'engine_id': 'snk',\n",
       " 'gpu': 0,\n",
       " 'login_url': 'https://enginemanager.internal.dedicated.h2o.ai/workspaces/default/daiEngines/snk/oidc/login',\n",
       " 'max_idle_duration': '1h',\n",
       " 'max_running_duration': '8h',\n",
       " 'memory_bytes': '32Gi',\n",
       " 'name': 'workspaces/default/daiEngines/snk',\n",
       " 'reconciling': False,\n",
       " 'resume_time': datetime.datetime(2023, 6, 7, 6, 0, 40, tzinfo=tzutc()),\n",
       " 'state': <DAIEngineState.STATE_PAUSED: 'STATE_PAUSED'>,\n",
       " 'storage_bytes': '64Gi',\n",
       " 'uid': '99b2773c-1620-42c2-909c-9ed728c69072',\n",
       " 'update_time': None,\n",
       " 'upgrade_available': False,\n",
       " 'version': '1.10.5',\n",
       " 'workspace_id': 'default'},\n",
       "             {'annotations': {},\n",
       " 'api_url': 'https://enginemanager.internal.dedicated.h2o.ai/workspaces/default/daiEngines/new-dai-engine-8052',\n",
       " 'client_info': <h2o_engine_manager.clients.dai_engine.client_info.ClientInfo object at 0x7ff13a2bed00>,\n",
       " 'config': {},\n",
       " 'cpu': 8,\n",
       " 'create_time': datetime.datetime(2023, 6, 1, 2, 36, 30, tzinfo=tzutc()),\n",
       " 'creator': 'users/bc34ef4d-ff29-4375-8bab-04d860fcac32',\n",
       " 'creator_display_name': 'yuki.shimada@h2o.ai',\n",
       " 'current_idle_duration': None,\n",
       " 'current_running_duration': None,\n",
       " 'delete_time': None,\n",
       " 'display_name': 'Demo-20230601',\n",
       " 'engine_id': 'new-dai-engine-8052',\n",
       " 'gpu': 0,\n",
       " 'login_url': 'https://enginemanager.internal.dedicated.h2o.ai/workspaces/default/daiEngines/new-dai-engine-8052/oidc/login',\n",
       " 'max_idle_duration': '2h',\n",
       " 'max_running_duration': '8h',\n",
       " 'memory_bytes': '32Gi',\n",
       " 'name': 'workspaces/default/daiEngines/new-dai-engine-8052',\n",
       " 'reconciling': False,\n",
       " 'resume_time': datetime.datetime(2023, 6, 11, 1, 30, 55, tzinfo=tzutc()),\n",
       " 'state': <DAIEngineState.STATE_RUNNING: 'STATE_RUNNING'>,\n",
       " 'storage_bytes': '64Gi',\n",
       " 'uid': 'e672aa27-8c14-45e7-985e-8def1c562628',\n",
       " 'update_time': datetime.datetime(2023, 6, 5, 0, 42, 13, tzinfo=tzutc()),\n",
       " 'upgrade_available': False,\n",
       " 'version': '1.10.5',\n",
       " 'workspace_id': 'default'},\n",
       "             {'annotations': {},\n",
       " 'api_url': 'https://enginemanager.internal.dedicated.h2o.ai/workspaces/default/daiEngines/demo-20230421',\n",
       " 'client_info': <h2o_engine_manager.clients.dai_engine.client_info.ClientInfo object at 0x7ff13a2bed00>,\n",
       " 'config': {'max_cores': '8', 'max_cores_dai': '8'},\n",
       " 'cpu': 8,\n",
       " 'create_time': datetime.datetime(2023, 4, 21, 1, 26, 26, tzinfo=tzutc()),\n",
       " 'creator': 'users/bc34ef4d-ff29-4375-8bab-04d860fcac32',\n",
       " 'creator_display_name': 'yuki.shimada@h2o.ai',\n",
       " 'current_idle_duration': None,\n",
       " 'current_running_duration': None,\n",
       " 'delete_time': None,\n",
       " 'display_name': 'Demo-20230421',\n",
       " 'engine_id': 'demo-20230421',\n",
       " 'gpu': 0,\n",
       " 'login_url': 'https://enginemanager.internal.dedicated.h2o.ai/workspaces/default/daiEngines/demo-20230421/oidc/login',\n",
       " 'max_idle_duration': '2h',\n",
       " 'max_running_duration': '8h',\n",
       " 'memory_bytes': '32Gi',\n",
       " 'name': 'workspaces/default/daiEngines/demo-20230421',\n",
       " 'reconciling': False,\n",
       " 'resume_time': datetime.datetime(2023, 6, 1, 4, 3, 33, tzinfo=tzutc()),\n",
       " 'state': <DAIEngineState.STATE_PAUSED: 'STATE_PAUSED'>,\n",
       " 'storage_bytes': '64Gi',\n",
       " 'uid': '21bf5e19-8290-462f-b339-b62949b3f89f',\n",
       " 'update_time': None,\n",
       " 'upgrade_available': True,\n",
       " 'version': '1.10.4.3',\n",
       " 'workspace_id': 'default'}],\n",
       " 'next_page_token': '',\n",
       " 'total_size': 3}"
      ]
     },
     "execution_count": 88,
     "metadata": {},
     "output_type": "execute_result"
    }
   ],
   "source": [
    "aiem.dai_engine_client.list_engines()"
   ]
  },
  {
   "cell_type": "code",
   "execution_count": 89,
   "id": "256e544a",
   "metadata": {},
   "outputs": [
    {
     "data": {
      "text/plain": [
       "{'annotations': {},\n",
       " 'api_url': 'https://enginemanager.internal.dedicated.h2o.ai/workspaces/default/daiEngines/new-dai-engine-8052',\n",
       " 'client_info': <h2o_engine_manager.clients.dai_engine.client_info.ClientInfo object at 0x7ff13a2bed00>,\n",
       " 'config': {},\n",
       " 'cpu': 8,\n",
       " 'create_time': datetime.datetime(2023, 6, 1, 2, 36, 30, tzinfo=tzutc()),\n",
       " 'creator': 'users/bc34ef4d-ff29-4375-8bab-04d860fcac32',\n",
       " 'creator_display_name': 'yuki.shimada@h2o.ai',\n",
       " 'current_idle_duration': None,\n",
       " 'current_running_duration': None,\n",
       " 'delete_time': None,\n",
       " 'display_name': 'Demo-20230601',\n",
       " 'engine_id': 'new-dai-engine-8052',\n",
       " 'gpu': 0,\n",
       " 'login_url': 'https://enginemanager.internal.dedicated.h2o.ai/workspaces/default/daiEngines/new-dai-engine-8052/oidc/login',\n",
       " 'max_idle_duration': '2h',\n",
       " 'max_running_duration': '8h',\n",
       " 'memory_bytes': '32Gi',\n",
       " 'name': 'workspaces/default/daiEngines/new-dai-engine-8052',\n",
       " 'reconciling': False,\n",
       " 'resume_time': datetime.datetime(2023, 6, 11, 1, 30, 55, tzinfo=tzutc()),\n",
       " 'state': <DAIEngineState.STATE_RUNNING: 'STATE_RUNNING'>,\n",
       " 'storage_bytes': '64Gi',\n",
       " 'uid': 'e672aa27-8c14-45e7-985e-8def1c562628',\n",
       " 'update_time': datetime.datetime(2023, 6, 5, 0, 42, 13, tzinfo=tzutc()),\n",
       " 'upgrade_available': False,\n",
       " 'version': '1.10.5',\n",
       " 'workspace_id': 'default'}"
      ]
     },
     "execution_count": 89,
     "metadata": {},
     "output_type": "execute_result"
    }
   ],
   "source": [
    "# DAIインスタンスの取得\n",
    "dai_access = aiem.dai_engine_client.get_engine(engine_id='new-dai-engine-8052')\n",
    "dai_access"
   ]
  },
  {
   "cell_type": "code",
   "execution_count": 59,
   "id": "06173561",
   "metadata": {},
   "outputs": [
    {
     "data": {
      "text/plain": [
       "<DAIEngineState.STATE_PAUSED: 'STATE_PAUSED'>"
      ]
     },
     "execution_count": 59,
     "metadata": {},
     "output_type": "execute_result"
    }
   ],
   "source": [
    "# インスタンス状況確認\n",
    "dai_access.state"
   ]
  },
  {
   "cell_type": "code",
   "execution_count": 60,
   "id": "74206e92",
   "metadata": {},
   "outputs": [],
   "source": [
    "# インスタンスの起動\n",
    "dai_access.resume()"
   ]
  },
  {
   "cell_type": "code",
   "execution_count": 63,
   "id": "20e6c4c1",
   "metadata": {},
   "outputs": [
    {
     "data": {
      "text/plain": [
       "<DAIEngineState.STATE_STARTING: 'STATE_STARTING'>"
      ]
     },
     "execution_count": 63,
     "metadata": {},
     "output_type": "execute_result"
    }
   ],
   "source": [
    "dai_access.state"
   ]
  },
  {
   "cell_type": "code",
   "execution_count": 71,
   "id": "0e4e7a2b",
   "metadata": {},
   "outputs": [
    {
     "data": {
      "text/plain": [
       "driverlessai._core.Client"
      ]
     },
     "execution_count": 71,
     "metadata": {},
     "output_type": "execute_result"
    }
   ],
   "source": [
    "dai = dai_access.connect()\n",
    "type(dai)"
   ]
  },
  {
   "cell_type": "code",
   "execution_count": 76,
   "id": "5228628a",
   "metadata": {},
   "outputs": [
    {
     "data": {
      "text/plain": [
       "    | Type    | Key                                  | Name\n",
       "----+---------+--------------------------------------+----------------------\n",
       "  0 | Dataset | 0f74887e-0026-11ee-ab62-1235030f5bf3 | UCI_Credit_Card3.csv\n",
       "  1 | Dataset | 040a3e3e-0026-11ee-ab62-1235030f5bf3 | TitanicData2.csv\n",
       "  2 | Dataset | 0352ed60-0026-11ee-ab62-1235030f5bf3 | BostonHousing.csv"
      ]
     },
     "execution_count": 76,
     "metadata": {},
     "output_type": "execute_result"
    }
   ],
   "source": [
    "dai.datasets.list()"
   ]
  },
  {
   "cell_type": "code",
   "execution_count": 75,
   "id": "f1bf7a96",
   "metadata": {},
   "outputs": [
    {
     "data": {
      "text/plain": [
       "    | Type       | Key                                  | Name\n",
       "----+------------+--------------------------------------+---------\n",
       "  0 | Experiment | 3b610574-0027-11ee-ab62-1235030f5bf3 | boston1"
      ]
     },
     "execution_count": 75,
     "metadata": {},
     "output_type": "execute_result"
    }
   ],
   "source": [
    "dai.experiments.list()"
   ]
  },
  {
   "cell_type": "code",
   "execution_count": null,
   "id": "be22c5a3",
   "metadata": {},
   "outputs": [],
   "source": []
  },
  {
   "cell_type": "code",
   "execution_count": null,
   "id": "c15f2194",
   "metadata": {},
   "outputs": [],
   "source": []
  },
  {
   "cell_type": "code",
   "execution_count": null,
   "id": "c65ab965",
   "metadata": {},
   "outputs": [],
   "source": []
  },
  {
   "cell_type": "code",
   "execution_count": null,
   "id": "6960caf4",
   "metadata": {},
   "outputs": [],
   "source": []
  },
  {
   "cell_type": "markdown",
   "id": "3bc6663d",
   "metadata": {},
   "source": [
    "### References\n",
    "(Internal) [1 End to End Demo.ipynb](https://github.com/h2oai/jupyterlabs-app/blob/96f42b40977350f6ee5cd139467314e8beb0721e/Example%20Notebooks/1%20End%20to%20End%20Demo.ipynb)"
   ]
  },
  {
   "cell_type": "code",
   "execution_count": null,
   "id": "b29868e5",
   "metadata": {},
   "outputs": [],
   "source": []
  }
 ],
 "metadata": {
  "kernelspec": {
   "display_name": "Python 3 (ipykernel)",
   "language": "python",
   "name": "python3"
  },
  "language_info": {
   "codemirror_mode": {
    "name": "ipython",
    "version": 3
   },
   "file_extension": ".py",
   "mimetype": "text/x-python",
   "name": "python",
   "nbconvert_exporter": "python",
   "pygments_lexer": "ipython3",
   "version": "3.8.16"
  }
 },
 "nbformat": 4,
 "nbformat_minor": 5
}
