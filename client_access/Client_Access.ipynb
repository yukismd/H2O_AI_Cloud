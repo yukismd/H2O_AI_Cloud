{
 "cells": [
  {
   "cell_type": "markdown",
   "id": "3f2eebfe",
   "metadata": {},
   "source": [
    "# AI Cloud上のDriverless AI、OSS H2Oへのクライアントアクセス"
   ]
  },
  {
   "cell_type": "markdown",
   "id": "2bf7ebb6",
   "metadata": {},
   "source": [
    "ドキュメント：\n",
    "- https://docs.h2o.ai/haic/latest/using-platform-token/\n",
    "- https://docs.h2o.ai/enterprise-steam/latest-stable/docs/python-docs/index.html"
   ]
  },
  {
   "cell_type": "code",
   "execution_count": 2,
   "id": "b30a96e7",
   "metadata": {},
   "outputs": [
    {
     "data": {
      "text/plain": [
       "'1.8.12'"
      ]
     },
     "execution_count": 2,
     "metadata": {},
     "output_type": "execute_result"
    }
   ],
   "source": [
    "import h2osteam\n",
    "\n",
    "h2osteam.__version__"
   ]
  },
  {
   "cell_type": "code",
   "execution_count": 9,
   "id": "d4fd6b05",
   "metadata": {},
   "outputs": [],
   "source": [
    "import getpass"
   ]
  },
  {
   "cell_type": "code",
   "execution_count": 10,
   "id": "7f216258",
   "metadata": {},
   "outputs": [
    {
     "name": "stdout",
     "output_type": "stream",
     "text": [
      "Enter your API token here········\n"
     ]
    },
    {
     "data": {
      "text/plain": [
       "<h2osteam.backend.connection.SteamConnection at 0x7fd7281a1640>"
      ]
     },
     "execution_count": 10,
     "metadata": {},
     "output_type": "execute_result"
    }
   ],
   "source": [
    "# Steamへログイン（本セルを実行後、表示された入力ボックスへパスワード（トークン）を入力）\n",
    "h2osteam.login(url=\"https://steam.cloud-internal.h2o.ai\", \n",
    "               username=\"yuki.shimada@h2o.ai\",\n",
    "               password=getpass.getpass('Enter your API token here'),\n",
    "               verify_ssl=False)"
   ]
  },
  {
   "cell_type": "markdown",
   "id": "8acbe2da",
   "metadata": {},
   "source": [
    "#### トークンの取得\n",
    "<img src=\"image/steam_token.png\" width=600px>"
   ]
  },
  {
   "cell_type": "code",
   "execution_count": null,
   "id": "3f7322ba",
   "metadata": {},
   "outputs": [],
   "source": []
  },
  {
   "cell_type": "markdown",
   "id": "043ed919",
   "metadata": {},
   "source": [
    "## Driverless AIへの接続\n",
    "- https://docs.h2o.ai/enterprise-steam/latest-stable/docs/python-docs/examples-k8s.html"
   ]
  },
  {
   "cell_type": "code",
   "execution_count": 16,
   "id": "b0cfd92f",
   "metadata": {},
   "outputs": [
    {
     "data": {
      "text/plain": [
       "[<h2osteam.clients.driverless.driverless_instance.DriverlessInstance at 0x7fd7188e0310>,\n",
       " <h2osteam.clients.driverless.driverless_instance.DriverlessInstance at 0x7fd7188e0700>]"
      ]
     },
     "execution_count": 16,
     "metadata": {},
     "output_type": "execute_result"
    }
   ],
   "source": [
    "h2osteam.clients.DriverlessClient().get_instances()"
   ]
  },
  {
   "cell_type": "code",
   "execution_count": 18,
   "id": "83e92f1b",
   "metadata": {},
   "outputs": [
    {
     "data": {
      "text/plain": [
       "<h2osteam.clients.driverless.driverless_instance.DriverlessInstance at 0x7fd6e8930400>"
      ]
     },
     "execution_count": 18,
     "metadata": {},
     "output_type": "execute_result"
    }
   ],
   "source": [
    "# 既存のインスタンスから選択\n",
    "dai_instance = h2osteam.clients.DriverlessClient().get_instance(name=\"DAI_1_10_3_1\")\n",
    "dai_instance"
   ]
  },
  {
   "cell_type": "code",
   "execution_count": 19,
   "id": "02c7faf3",
   "metadata": {},
   "outputs": [
    {
     "data": {
      "text/plain": [
       "'stopped'"
      ]
     },
     "execution_count": 19,
     "metadata": {},
     "output_type": "execute_result"
    }
   ],
   "source": [
    "dai_instance.status()"
   ]
  },
  {
   "cell_type": "code",
   "execution_count": 20,
   "id": "2708f06f",
   "metadata": {},
   "outputs": [
    {
     "name": "stdout",
     "output_type": "stream",
     "text": [
      "Driverless AI instance is starting, please wait...\n",
      "Driverless AI instance is running\n"
     ]
    }
   ],
   "source": [
    "dai_instance.start()"
   ]
  },
  {
   "cell_type": "code",
   "execution_count": 21,
   "id": "ece4e25e",
   "metadata": {},
   "outputs": [
    {
     "data": {
      "text/plain": [
       "'running'"
      ]
     },
     "execution_count": 21,
     "metadata": {},
     "output_type": "execute_result"
    }
   ],
   "source": [
    "dai_instance.status()"
   ]
  },
  {
   "cell_type": "markdown",
   "id": "cf305497",
   "metadata": {},
   "source": [
    "<img src=\"image/steam_dai.png\" width=600px>"
   ]
  },
  {
   "cell_type": "code",
   "execution_count": 22,
   "id": "b8056b21",
   "metadata": {},
   "outputs": [
    {
     "data": {
      "text/plain": [
       "<class 'driverlessai._core.Client'> https://steam.cloud-internal.h2o.ai:443/proxy/driverless/687"
      ]
     },
     "execution_count": 22,
     "metadata": {},
     "output_type": "execute_result"
    }
   ],
   "source": [
    "# Driverless AI Clientの取得\n",
    "dai = dai_instance.connect()\n",
    "dai"
   ]
  },
  {
   "cell_type": "markdown",
   "id": "339d7109",
   "metadata": {},
   "source": [
    "Driverless AI Clientが取得できたので、後は通常のPython Client APIと同じ  \n",
    "https://docs.h2o.ai/driverless-ai/pyclient/docs/html/index.html"
   ]
  },
  {
   "cell_type": "code",
   "execution_count": 24,
   "id": "fd5cfc47",
   "metadata": {},
   "outputs": [
    {
     "data": {
      "text/plain": [
       "    | Type    | Key                                  | Name\n",
       "----+---------+--------------------------------------+----------------------------\n",
       "  0 | Dataset | 0482fc92-f349-11ec-a7da-dadce74b093e | movielens_train_sample.csv\n",
       "  1 | Dataset | a7d90e1e-f348-11ec-a7da-dadce74b093e | movielens_test_sample.csv\n",
       "  2 | Dataset | 3d42f85e-f342-11ec-a7da-dadce74b093e | superstore_orders_jp.csv\n",
       "  3 | Dataset | 1f964384-f341-11ec-a7da-dadce74b093e | iris.csv"
      ]
     },
     "execution_count": 24,
     "metadata": {},
     "output_type": "execute_result"
    }
   ],
   "source": [
    "# Driverless AIにアップされているデータのリスト\n",
    "dai.datasets.list()"
   ]
  },
  {
   "cell_type": "code",
   "execution_count": 25,
   "id": "15000b6b",
   "metadata": {},
   "outputs": [
    {
     "data": {
      "text/plain": [
       "    | Type       | Key                                  | Name\n",
       "----+------------+--------------------------------------+----------------\n",
       "  0 | Experiment | 755bb8aa-f349-11ec-a7da-dadce74b093e | recommendation\n",
       "  1 | Experiment | f1955eb0-f346-11ec-a7da-dadce74b093e | clustering-ohe\n",
       "  2 | Experiment | e58da9bc-f344-11ec-a7da-dadce74b093e | clustering2\n",
       "  3 | Experiment | 865b16a6-f343-11ec-a7da-dadce74b093e | clustering"
      ]
     },
     "execution_count": 25,
     "metadata": {},
     "output_type": "execute_result"
    }
   ],
   "source": [
    "# Experimentのリスト\n",
    "dai.experiments.list()"
   ]
  },
  {
   "cell_type": "code",
   "execution_count": 52,
   "id": "3794f436",
   "metadata": {},
   "outputs": [
    {
     "name": "stdout",
     "output_type": "stream",
     "text": [
      "Driverless AI instance is stopping, please wait...\n",
      "Driverless AI instance is stopped\n"
     ]
    }
   ],
   "source": [
    "# Driverless AIインスタンスの停止\n",
    "dai_instance.stop()"
   ]
  },
  {
   "cell_type": "code",
   "execution_count": null,
   "id": "da0c6cf0",
   "metadata": {},
   "outputs": [],
   "source": []
  },
  {
   "cell_type": "markdown",
   "id": "64e9bcfb",
   "metadata": {},
   "source": [
    "## OSS H2Oへの接続\n",
    "- https://docs.h2o.ai/enterprise-steam/latest-stable/docs/python-docs/examples-k8s.html"
   ]
  },
  {
   "cell_type": "code",
   "execution_count": 55,
   "id": "f0cc0c93",
   "metadata": {},
   "outputs": [
    {
     "data": {
      "text/plain": [
       "[]"
      ]
     },
     "execution_count": 55,
     "metadata": {},
     "output_type": "execute_result"
    }
   ],
   "source": [
    "h2osteam.clients.H2oKubernetesClient().get_clusters()"
   ]
  },
  {
   "cell_type": "code",
   "execution_count": 56,
   "id": "6204c35b",
   "metadata": {},
   "outputs": [
    {
     "data": {
      "text/plain": [
       "<h2osteam.clients.h2ok8s.h2ok8s.H2oKubernetesCluster at 0x7fd71918d400>"
      ]
     },
     "execution_count": 56,
     "metadata": {},
     "output_type": "execute_result"
    }
   ],
   "source": [
    "# H2Oクラスターの作成\n",
    "h2o_cluster = h2osteam.clients.H2oKubernetesClient().launch_cluster(name=\"h2o-cluster\", version=\"3.36.1.2\")\n",
    "h2o_cluster"
   ]
  },
  {
   "cell_type": "markdown",
   "id": "3851f9e6",
   "metadata": {},
   "source": [
    "<img src=\"image/steam_h2o.png\" width=600px>"
   ]
  },
  {
   "cell_type": "code",
   "execution_count": 57,
   "id": "6557d328",
   "metadata": {},
   "outputs": [
    {
     "data": {
      "text/plain": [
       "'created'"
      ]
     },
     "execution_count": 57,
     "metadata": {},
     "output_type": "execute_result"
    }
   ],
   "source": [
    "h2o_cluster.status"
   ]
  },
  {
   "cell_type": "code",
   "execution_count": 58,
   "id": "82476f99",
   "metadata": {},
   "outputs": [
    {
     "name": "stdout",
     "output_type": "stream",
     "text": [
      "Connecting to H2O server at https://steam.cloud-internal.h2o.ai:443/proxy/h2o-k8s/271 .... successful.\n",
      "Warning: Version mismatch. H2O is version 3.36.1.2, but the h2o-python package is version 3.36.0.4. Install the matching h2o-Python version from - http://h2o-release.s3.amazonaws.com/h2o/rel-zumbo/2/index.html.\n"
     ]
    },
    {
     "data": {
      "text/html": [
       "<div style=\"overflow:auto\"><table style=\"width:50%\"><tr><td>H2O_cluster_uptime:</td>\n",
       "<td>1 min 42 secs</td></tr>\n",
       "<tr><td>H2O_cluster_timezone:</td>\n",
       "<td>Etc/GMT</td></tr>\n",
       "<tr><td>H2O_data_parsing_timezone:</td>\n",
       "<td>UTC</td></tr>\n",
       "<tr><td>H2O_cluster_version:</td>\n",
       "<td>3.36.1.2</td></tr>\n",
       "<tr><td>H2O_cluster_version_age:</td>\n",
       "<td>1 month and 2 days </td></tr>\n",
       "<tr><td>H2O_cluster_name:</td>\n",
       "<td>h2o-cluster</td></tr>\n",
       "<tr><td>H2O_cluster_total_nodes:</td>\n",
       "<td>1</td></tr>\n",
       "<tr><td>H2O_cluster_free_memory:</td>\n",
       "<td>3.185 Gb</td></tr>\n",
       "<tr><td>H2O_cluster_total_cores:</td>\n",
       "<td>1</td></tr>\n",
       "<tr><td>H2O_cluster_allowed_cores:</td>\n",
       "<td>1</td></tr>\n",
       "<tr><td>H2O_cluster_status:</td>\n",
       "<td>locked, healthy</td></tr>\n",
       "<tr><td>H2O_connection_url:</td>\n",
       "<td>https://steam.cloud-internal.h2o.ai:443/proxy/h2o-k8s/271</td></tr>\n",
       "<tr><td>H2O_connection_proxy:</td>\n",
       "<td>null</td></tr>\n",
       "<tr><td>H2O_internal_security:</td>\n",
       "<td>True</td></tr>\n",
       "<tr><td>Python_version:</td>\n",
       "<td>3.8.3 final</td></tr></table></div>"
      ],
      "text/plain": [
       "--------------------------  ---------------------------------------------------------\n",
       "H2O_cluster_uptime:         1 min 42 secs\n",
       "H2O_cluster_timezone:       Etc/GMT\n",
       "H2O_data_parsing_timezone:  UTC\n",
       "H2O_cluster_version:        3.36.1.2\n",
       "H2O_cluster_version_age:    1 month and 2 days\n",
       "H2O_cluster_name:           h2o-cluster\n",
       "H2O_cluster_total_nodes:    1\n",
       "H2O_cluster_free_memory:    3.185 Gb\n",
       "H2O_cluster_total_cores:    1\n",
       "H2O_cluster_allowed_cores:  1\n",
       "H2O_cluster_status:         locked, healthy\n",
       "H2O_connection_url:         https://steam.cloud-internal.h2o.ai:443/proxy/h2o-k8s/271\n",
       "H2O_connection_proxy:       null\n",
       "H2O_internal_security:      True\n",
       "Python_version:             3.8.3 final\n",
       "--------------------------  ---------------------------------------------------------"
      ]
     },
     "metadata": {},
     "output_type": "display_data"
    },
    {
     "data": {
      "text/plain": [
       "<h2osteam.clients.h2ok8s.h2ok8s.H2oKubernetesCluster at 0x7fd71918d400>"
      ]
     },
     "execution_count": 58,
     "metadata": {},
     "output_type": "execute_result"
    }
   ],
   "source": [
    "# AI Cloud上のH2Oに接続\n",
    "h2o_cluster.connect()"
   ]
  },
  {
   "cell_type": "code",
   "execution_count": 68,
   "id": "f73aca74",
   "metadata": {},
   "outputs": [
    {
     "data": {
      "text/plain": [
       "'3.36.0.4'"
      ]
     },
     "execution_count": 68,
     "metadata": {},
     "output_type": "execute_result"
    }
   ],
   "source": [
    "import h2o\n",
    "\n",
    "h2o.__version__"
   ]
  },
  {
   "cell_type": "markdown",
   "id": "43030578",
   "metadata": {},
   "source": [
    "H2Oクラスターに接続されたので、あとは通常のH2Oプログラムと同じ\n",
    "- https://docs.h2o.ai/h2o/latest-stable/h2o-docs/index.html\n",
    "- https://docs.h2o.ai/h2o/latest-stable/h2o-py/docs/index.html"
   ]
  },
  {
   "cell_type": "code",
   "execution_count": 60,
   "id": "b7812ddf",
   "metadata": {},
   "outputs": [
    {
     "name": "stdout",
     "output_type": "stream",
     "text": [
      "Parse progress: |████████████████████████████████████████████████████████████████| (done) 100%\n"
     ]
    }
   ],
   "source": [
    "frame = h2o.upload_file(\"data/TitanicData2.csv\", destination_frame='titanic')"
   ]
  },
  {
   "cell_type": "markdown",
   "id": "abe9fde6",
   "metadata": {},
   "source": [
    "#### アップロードされたデータをFlowで確認\n",
    "<img src=\"image/flow.png\" width=600px>"
   ]
  },
  {
   "cell_type": "code",
   "execution_count": 64,
   "id": "0219cfd8",
   "metadata": {},
   "outputs": [
    {
     "data": {
      "text/html": [
       "<table>\n",
       "<thead>\n",
       "<tr><th style=\"text-align: right;\">  Passenger_Id</th><th>pclass  </th><th style=\"text-align: right;\">  survived</th><th>name_with_salutions         </th><th>name_without_salutions   </th><th>sex   </th><th style=\"text-align: right;\">  age</th><th style=\"text-align: right;\">  sibsp</th><th style=\"text-align: right;\">  parch</th><th style=\"text-align: right;\">  ticket</th><th style=\"text-align: right;\">   fare</th><th>cabin  </th><th>embarked   </th><th style=\"text-align: right;\">  boat</th><th>home_dest                        </th></tr>\n",
       "</thead>\n",
       "<tbody>\n",
       "<tr><td style=\"text-align: right;\">             1</td><td>3rd     </td><td style=\"text-align: right;\">         0</td><td>Andersson, Mr. Anders Johan </td><td>Andersson,  Anders Johan </td><td>male  </td><td style=\"text-align: right;\">   39</td><td style=\"text-align: right;\">      1</td><td style=\"text-align: right;\">      5</td><td style=\"text-align: right;\">  347082</td><td style=\"text-align: right;\">31.275 </td><td>       </td><td>Southampton</td><td style=\"text-align: right;\">   nan</td><td>Sweden Winnipeg, MN              </td></tr>\n",
       "<tr><td style=\"text-align: right;\">             2</td><td>3rd     </td><td style=\"text-align: right;\">         1</td><td>McGowan, Miss. Anna &quot;Annie&quot; </td><td>McGowan,  Anna &quot;Annie&quot;   </td><td>female</td><td style=\"text-align: right;\">   15</td><td style=\"text-align: right;\">      0</td><td style=\"text-align: right;\">      0</td><td style=\"text-align: right;\">  330923</td><td style=\"text-align: right;\"> 8.0292</td><td>       </td><td>Queenstown </td><td style=\"text-align: right;\">   nan</td><td>                                 </td></tr>\n",
       "<tr><td style=\"text-align: right;\">             3</td><td>2nd     </td><td style=\"text-align: right;\">         1</td><td>Caldwell, Mr. Albert Francis</td><td>Caldwell,  Albert Francis</td><td>male  </td><td style=\"text-align: right;\">   26</td><td style=\"text-align: right;\">      1</td><td style=\"text-align: right;\">      1</td><td style=\"text-align: right;\">  248738</td><td style=\"text-align: right;\">29     </td><td>       </td><td>Southampton</td><td style=\"text-align: right;\">    13</td><td>Bangkok, Thailand / Roseville, IL</td></tr>\n",
       "<tr><td style=\"text-align: right;\">             4</td><td>3rd     </td><td style=\"text-align: right;\">         0</td><td>Augustsson, Mr. Albert      </td><td>Augustsson,  Albert      </td><td>male  </td><td style=\"text-align: right;\">   23</td><td style=\"text-align: right;\">      0</td><td style=\"text-align: right;\">      0</td><td style=\"text-align: right;\">  347468</td><td style=\"text-align: right;\"> 7.8542</td><td>       </td><td>Southampton</td><td style=\"text-align: right;\">   nan</td><td>Krakoryd, Sweden Bloomington, IL </td></tr>\n",
       "<tr><td style=\"text-align: right;\">             5</td><td>3rd     </td><td style=\"text-align: right;\">         1</td><td>Lindqvist, Mr. Eino William </td><td>Lindqvist,  Eino William </td><td>male  </td><td style=\"text-align: right;\">   20</td><td style=\"text-align: right;\">      1</td><td style=\"text-align: right;\">      0</td><td style=\"text-align: right;\">     nan</td><td style=\"text-align: right;\"> 7.925 </td><td>       </td><td>Southampton</td><td style=\"text-align: right;\">    15</td><td>                                 </td></tr>\n",
       "</tbody>\n",
       "</table>"
      ]
     },
     "metadata": {},
     "output_type": "display_data"
    },
    {
     "data": {
      "text/plain": []
     },
     "execution_count": 64,
     "metadata": {},
     "output_type": "execute_result"
    }
   ],
   "source": [
    "frame.head(5)"
   ]
  },
  {
   "cell_type": "code",
   "execution_count": 65,
   "id": "bb91fa6f",
   "metadata": {},
   "outputs": [
    {
     "data": {
      "text/plain": [
       "<h2osteam.clients.h2ok8s.h2ok8s.H2oKubernetesCluster at 0x7fd71918d400>"
      ]
     },
     "execution_count": 65,
     "metadata": {},
     "output_type": "execute_result"
    }
   ],
   "source": [
    "# H2Oクラスターの削除\n",
    "h2o_cluster.terminate()"
   ]
  },
  {
   "cell_type": "code",
   "execution_count": null,
   "id": "1499c26f",
   "metadata": {},
   "outputs": [],
   "source": []
  }
 ],
 "metadata": {
  "kernelspec": {
   "display_name": "Python 3",
   "language": "python",
   "name": "python3"
  },
  "language_info": {
   "codemirror_mode": {
    "name": "ipython",
    "version": 3
   },
   "file_extension": ".py",
   "mimetype": "text/x-python",
   "name": "python",
   "nbconvert_exporter": "python",
   "pygments_lexer": "ipython3",
   "version": "3.8.3"
  }
 },
 "nbformat": 4,
 "nbformat_minor": 5
}
